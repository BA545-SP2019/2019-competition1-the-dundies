{
 "cells": [
  {
   "cell_type": "code",
   "execution_count": 1,
   "metadata": {},
   "outputs": [
    {
     "data": {
      "text/html": [
       "<div>\n",
       "<style scoped>\n",
       "    .dataframe tbody tr th:only-of-type {\n",
       "        vertical-align: middle;\n",
       "    }\n",
       "\n",
       "    .dataframe tbody tr th {\n",
       "        vertical-align: top;\n",
       "    }\n",
       "\n",
       "    .dataframe thead th {\n",
       "        text-align: right;\n",
       "    }\n",
       "</style>\n",
       "<table border=\"1\" class=\"dataframe\">\n",
       "  <thead>\n",
       "    <tr style=\"text-align: right;\">\n",
       "      <th></th>\n",
       "      <th>C1</th>\n",
       "      <th>C2</th>\n",
       "      <th>C4</th>\n",
       "      <th>C7</th>\n",
       "      <th>C3'</th>\n",
       "      <th>C5'</th>\n",
       "      <th>C6'</th>\n",
       "      <th>T3'</th>\n",
       "      <th>T4'</th>\n",
       "      <th>T5'</th>\n",
       "      <th>S1'</th>\n",
       "      <th>S2'</th>\n",
       "      <th>S3'</th>\n",
       "    </tr>\n",
       "  </thead>\n",
       "  <tbody>\n",
       "    <tr>\n",
       "      <th>0</th>\n",
       "      <td>4.812184</td>\n",
       "      <td>1.0</td>\n",
       "      <td>0.029074</td>\n",
       "      <td>3.957856</td>\n",
       "      <td>1</td>\n",
       "      <td>1.581932</td>\n",
       "      <td>6.803505</td>\n",
       "      <td>0.968653</td>\n",
       "      <td>0.640426</td>\n",
       "      <td>-1.265604</td>\n",
       "      <td>-2.312061</td>\n",
       "      <td>-2.036267</td>\n",
       "      <td>-1.961438</td>\n",
       "    </tr>\n",
       "    <tr>\n",
       "      <th>1</th>\n",
       "      <td>5.560682</td>\n",
       "      <td>0.0</td>\n",
       "      <td>-0.013352</td>\n",
       "      <td>3.293464</td>\n",
       "      <td>0</td>\n",
       "      <td>2.567165</td>\n",
       "      <td>0.000000</td>\n",
       "      <td>0.965033</td>\n",
       "      <td>0.644753</td>\n",
       "      <td>-1.289079</td>\n",
       "      <td>-2.487039</td>\n",
       "      <td>-1.954482</td>\n",
       "      <td>-1.963549</td>\n",
       "    </tr>\n",
       "    <tr>\n",
       "      <th>2</th>\n",
       "      <td>4.510860</td>\n",
       "      <td>1.0</td>\n",
       "      <td>0.020715</td>\n",
       "      <td>2.125609</td>\n",
       "      <td>0</td>\n",
       "      <td>1.474565</td>\n",
       "      <td>0.000000</td>\n",
       "      <td>0.968821</td>\n",
       "      <td>0.636816</td>\n",
       "      <td>-1.209267</td>\n",
       "      <td>-1.935821</td>\n",
       "      <td>-2.202637</td>\n",
       "      <td>-1.943000</td>\n",
       "    </tr>\n",
       "    <tr>\n",
       "      <th>3</th>\n",
       "      <td>5.347108</td>\n",
       "      <td>1.0</td>\n",
       "      <td>0.020023</td>\n",
       "      <td>2.254025</td>\n",
       "      <td>0</td>\n",
       "      <td>1.458545</td>\n",
       "      <td>0.000000</td>\n",
       "      <td>0.971552</td>\n",
       "      <td>0.539634</td>\n",
       "      <td>-1.210210</td>\n",
       "      <td>-2.013837</td>\n",
       "      <td>-2.146075</td>\n",
       "      <td>-1.875535</td>\n",
       "    </tr>\n",
       "    <tr>\n",
       "      <th>4</th>\n",
       "      <td>4.394449</td>\n",
       "      <td>1.0</td>\n",
       "      <td>-0.034895</td>\n",
       "      <td>6.450941</td>\n",
       "      <td>1</td>\n",
       "      <td>1.553136</td>\n",
       "      <td>7.601402</td>\n",
       "      <td>0.961348</td>\n",
       "      <td>0.587413</td>\n",
       "      <td>-1.313809</td>\n",
       "      <td>-2.345066</td>\n",
       "      <td>-1.997955</td>\n",
       "      <td>-1.948425</td>\n",
       "    </tr>\n",
       "  </tbody>\n",
       "</table>\n",
       "</div>"
      ],
      "text/plain": [
       "         C1   C2        C4        C7  C3'       C5'       C6'       T3'  \\\n",
       "0  4.812184  1.0  0.029074  3.957856    1  1.581932  6.803505  0.968653   \n",
       "1  5.560682  0.0 -0.013352  3.293464    0  2.567165  0.000000  0.965033   \n",
       "2  4.510860  1.0  0.020715  2.125609    0  1.474565  0.000000  0.968821   \n",
       "3  5.347108  1.0  0.020023  2.254025    0  1.458545  0.000000  0.971552   \n",
       "4  4.394449  1.0 -0.034895  6.450941    1  1.553136  7.601402  0.961348   \n",
       "\n",
       "        T4'       T5'       S1'       S2'       S3'  \n",
       "0  0.640426 -1.265604 -2.312061 -2.036267 -1.961438  \n",
       "1  0.644753 -1.289079 -2.487039 -1.954482 -1.963549  \n",
       "2  0.636816 -1.209267 -1.935821 -2.202637 -1.943000  \n",
       "3  0.539634 -1.210210 -2.013837 -2.146075 -1.875535  \n",
       "4  0.587413 -1.313809 -2.345066 -1.997955 -1.948425  "
      ]
     },
     "execution_count": 1,
     "metadata": {},
     "output_type": "execute_result"
    }
   ],
   "source": [
    "# We shall be fixing outliers now\n",
    "# Importing useful packages\n",
    "import pandas as pd\n",
    "import numpy as np\n",
    "import matplotlib.pyplot as plt\n",
    "import seaborn as sns\n",
    "from scipy.stats import kurtosis, skew\n",
    "from sklearn import preprocessing\n",
    "\n",
    "# Importing dataframe from csv file\n",
    "data = pd.read_csv(\"ReadyDF_SKEW\", index_col=0)\n",
    "data.head()"
   ]
  },
  {
   "cell_type": "code",
   "execution_count": 2,
   "metadata": {},
   "outputs": [],
   "source": [
    "## We will be using the same formula for fixing the outliers that we used for MinMax Pipeline, just changing it for 'stdev'\n",
    "def outliers(x):\n",
    "    if x > (mean + (2*STD)):\n",
    "        x=median\n",
    "    elif x <(mean - (2*STD)):\n",
    "        x=median\n",
    "    else:\n",
    "        pass\n",
    "    return(x)"
   ]
  },
  {
   "cell_type": "code",
   "execution_count": 3,
   "metadata": {},
   "outputs": [
    {
     "data": {
      "text/plain": [
       "C1     4.765726\n",
       "C2     0.863636\n",
       "C4     0.007342\n",
       "C7     4.654343\n",
       "C3'    0.529326\n",
       "C5'    1.587430\n",
       "C6'    2.766883\n",
       "T3'    0.961929\n",
       "T4'    0.628061\n",
       "T5'   -1.282756\n",
       "S1'   -2.293953\n",
       "S2'   -2.063043\n",
       "S3'   -1.948632\n",
       "dtype: float64"
      ]
     },
     "execution_count": 3,
     "metadata": {},
     "output_type": "execute_result"
    }
   ],
   "source": [
    "# Checking the mean prior to fixing the outliers\n",
    "data.mean()"
   ]
  },
  {
   "cell_type": "code",
   "execution_count": 4,
   "metadata": {},
   "outputs": [
    {
     "data": {
      "text/plain": [
       "{'whiskers': [<matplotlib.lines.Line2D at 0x7fab24c810f0>,\n",
       "  <matplotlib.lines.Line2D at 0x7fab24c81438>],\n",
       " 'caps': [<matplotlib.lines.Line2D at 0x7fab24c81780>,\n",
       "  <matplotlib.lines.Line2D at 0x7fab24c81ac8>],\n",
       " 'boxes': [<matplotlib.lines.Line2D at 0x7fab24c70f60>],\n",
       " 'medians': [<matplotlib.lines.Line2D at 0x7fab24c81e10>],\n",
       " 'fliers': [<matplotlib.lines.Line2D at 0x7fab24c11198>],\n",
       " 'means': []}"
      ]
     },
     "execution_count": 4,
     "metadata": {},
     "output_type": "execute_result"
    },
    {
     "data": {
      "image/png": "[encoded data removed]",
      "text/plain": [
       "<Figure size 432x288 with 1 Axes>"
      ]
     },
     "metadata": {},
     "output_type": "display_data"
    }
   ],
   "source": [
    "# We will be applying to all columns that are not binary\n",
    "## Excluding columns C2 and C3'\n",
    "\n",
    "mean = data['C1'].mean()\n",
    "STD = data['C1'].std()\n",
    "median = data['C1'].median()\n",
    "data['C1']=data['C1'].apply(lambda x: outliers(x))\n",
    "\n",
    "# Plotting box plots for identifying outliers\n",
    "plt.boxplot(data.C1)"
   ]
  },
  {
   "cell_type": "code",
   "execution_count": 5,
   "metadata": {},
   "outputs": [
    {
     "data": {
      "text/plain": [
       "{'whiskers': [<matplotlib.lines.Line2D at 0x7fab24bffcf8>,\n",
       "  <matplotlib.lines.Line2D at 0x7fab24c08080>],\n",
       " 'caps': [<matplotlib.lines.Line2D at 0x7fab24c083c8>,\n",
       "  <matplotlib.lines.Line2D at 0x7fab24c08710>],\n",
       " 'boxes': [<matplotlib.lines.Line2D at 0x7fab24bffba8>],\n",
       " 'medians': [<matplotlib.lines.Line2D at 0x7fab24c08a58>],\n",
       " 'fliers': [<matplotlib.lines.Line2D at 0x7fab24c08da0>],\n",
       " 'means': []}"
      ]
     },
     "execution_count": 5,
     "metadata": {},
     "output_type": "execute_result"
    },
    {
     "data": {
      "image/png": "[encoded data removed]",
      "text/plain": [
       "<Figure size 432x288 with 1 Axes>"
      ]
     },
     "metadata": {},
     "output_type": "display_data"
    }
   ],
   "source": [
    "mean = data['C4'].mean()\n",
    "STD = data['C4'].std()\n",
    "median = data['C4'].median()\n",
    "data['C4']=data['C4'].apply(lambda x: outliers(x))\n",
    "\n",
    "# Plotting box plots for identifying outliers\n",
    "plt.boxplot(data.C4)"
   ]
  },
  {
   "cell_type": "code",
   "execution_count": 6,
   "metadata": {},
   "outputs": [
    {
     "data": {
      "text/plain": [
       "{'whiskers': [<matplotlib.lines.Line2D at 0x7fab24b60d30>,\n",
       "  <matplotlib.lines.Line2D at 0x7fab24b690b8>],\n",
       " 'caps': [<matplotlib.lines.Line2D at 0x7fab24b69400>,\n",
       "  <matplotlib.lines.Line2D at 0x7fab24b69748>],\n",
       " 'boxes': [<matplotlib.lines.Line2D at 0x7fab24b60be0>],\n",
       " 'medians': [<matplotlib.lines.Line2D at 0x7fab24b69a90>],\n",
       " 'fliers': [<matplotlib.lines.Line2D at 0x7fab24b69dd8>],\n",
       " 'means': []}"
      ]
     },
     "execution_count": 6,
     "metadata": {},
     "output_type": "execute_result"
    },
    {
     "data": {
      "image/png": "[encoded data removed]",
      "text/plain": [
       "<Figure size 432x288 with 1 Axes>"
      ]
     },
     "metadata": {},
     "output_type": "display_data"
    }
   ],
   "source": [
    "mean = data['C7'].mean()\n",
    "STD = data['C7'].std()\n",
    "median = data['C7'].median()\n",
    "data['C7']=data['C7'].apply(lambda x: outliers(x))\n",
    "\n",
    "# Plotting box plots for identifying outliers\n",
    "plt.boxplot(data.C7)"
   ]
  },
  {
   "cell_type": "code",
   "execution_count": 7,
   "metadata": {},
   "outputs": [
    {
     "data": {
      "text/plain": [
       "{'whiskers': [<matplotlib.lines.Line2D at 0x7fab24acb198>,\n",
       "  <matplotlib.lines.Line2D at 0x7fab24acb4e0>],\n",
       " 'caps': [<matplotlib.lines.Line2D at 0x7fab24acb828>,\n",
       "  <matplotlib.lines.Line2D at 0x7fab24acbb70>],\n",
       " 'boxes': [<matplotlib.lines.Line2D at 0x7fab24acb048>],\n",
       " 'medians': [<matplotlib.lines.Line2D at 0x7fab24acbeb8>],\n",
       " 'fliers': [<matplotlib.lines.Line2D at 0x7fab24ad5240>],\n",
       " 'means': []}"
      ]
     },
     "execution_count": 7,
     "metadata": {},
     "output_type": "execute_result"
    },
    {
     "data": {
      "image/png": "[encoded data removed]",
      "text/plain": [
       "<Figure size 432x288 with 1 Axes>"
      ]
     },
     "metadata": {},
     "output_type": "display_data"
    }
   ],
   "source": [
    "mean = data[\"C5'\"].mean()\n",
    "STD = data[\"C5'\"].std()\n",
    "median = data[\"C5'\"].median()\n",
    "data[\"C5'\"]=data[\"C5'\"].apply(lambda x: outliers(x))\n",
    "\n",
    "# Plotting box plots for identifying outliers\n",
    "plt.boxplot(data[\"C5'\"])"
   ]
  },
  {
   "cell_type": "code",
   "execution_count": 8,
   "metadata": {},
   "outputs": [
    {
     "data": {
      "text/plain": [
       "{'whiskers': [<matplotlib.lines.Line2D at 0x7fab24aab630>,\n",
       "  <matplotlib.lines.Line2D at 0x7fab24aab978>],\n",
       " 'caps': [<matplotlib.lines.Line2D at 0x7fab24aabcc0>,\n",
       "  <matplotlib.lines.Line2D at 0x7fab24ab3048>],\n",
       " 'boxes': [<matplotlib.lines.Line2D at 0x7fab24aab2b0>],\n",
       " 'medians': [<matplotlib.lines.Line2D at 0x7fab24ab3390>],\n",
       " 'fliers': [<matplotlib.lines.Line2D at 0x7fab24ab36d8>],\n",
       " 'means': []}"
      ]
     },
     "execution_count": 8,
     "metadata": {},
     "output_type": "execute_result"
    },
    {
     "data": {
      "image/png": "[encoded data removed]",
      "text/plain": [
       "<Figure size 432x288 with 1 Axes>"
      ]
     },
     "metadata": {},
     "output_type": "display_data"
    }
   ],
   "source": [
    "mean = data[\"C6'\"].mean()\n",
    "STD = data[\"C6'\"].std()\n",
    "median = data[\"C6'\"].median()\n",
    "data[\"C6'\"]=data[\"C6'\"].apply(lambda x: outliers(x))\n",
    "\n",
    "# Plotting box plots for identifying outliers\n",
    "plt.boxplot(data[\"C6'\"])"
   ]
  },
  {
   "cell_type": "code",
   "execution_count": 9,
   "metadata": {},
   "outputs": [
    {
     "data": {
      "text/plain": [
       "{'whiskers': [<matplotlib.lines.Line2D at 0x7fab24a7e710>,\n",
       "  <matplotlib.lines.Line2D at 0x7fab24a7ea58>],\n",
       " 'caps': [<matplotlib.lines.Line2D at 0x7fab24a7eda0>,\n",
       "  <matplotlib.lines.Line2D at 0x7fab24a09128>],\n",
       " 'boxes': [<matplotlib.lines.Line2D at 0x7fab24a7e5c0>],\n",
       " 'medians': [<matplotlib.lines.Line2D at 0x7fab24a09470>],\n",
       " 'fliers': [<matplotlib.lines.Line2D at 0x7fab24a097b8>],\n",
       " 'means': []}"
      ]
     },
     "execution_count": 9,
     "metadata": {},
     "output_type": "execute_result"
    },
    {
     "data": {
      "image/png": "[encoded data removed]",
      "text/plain": [
       "<Figure size 432x288 with 1 Axes>"
      ]
     },
     "metadata": {},
     "output_type": "display_data"
    }
   ],
   "source": [
    "mean = data[\"T3'\"].mean()\n",
    "STD = data[\"T3'\"].std()\n",
    "median = data[\"T3'\"].median()\n",
    "data[\"T3'\"]=data[\"T3'\"].apply(lambda x: outliers(x))\n",
    "\n",
    "# Plotting box plots for identifying outliers\n",
    "plt.boxplot(data[\"T3'\"])"
   ]
  },
  {
   "cell_type": "code",
   "execution_count": 10,
   "metadata": {},
   "outputs": [
    {
     "data": {
      "text/plain": [
       "{'whiskers': [<matplotlib.lines.Line2D at 0x7fab24aefda0>,\n",
       "  <matplotlib.lines.Line2D at 0x7fab249dcdd8>],\n",
       " 'caps': [<matplotlib.lines.Line2D at 0x7fab249e5160>,\n",
       "  <matplotlib.lines.Line2D at 0x7fab249e54a8>],\n",
       " 'boxes': [<matplotlib.lines.Line2D at 0x7fab249dc748>],\n",
       " 'medians': [<matplotlib.lines.Line2D at 0x7fab249e57f0>],\n",
       " 'fliers': [<matplotlib.lines.Line2D at 0x7fab249e5b38>],\n",
       " 'means': []}"
      ]
     },
     "execution_count": 10,
     "metadata": {},
     "output_type": "execute_result"
    },
    {
     "data": {
      "image/png": "[encoded data removed]",
      "text/plain": [
       "<Figure size 432x288 with 1 Axes>"
      ]
     },
     "metadata": {},
     "output_type": "display_data"
    }
   ],
   "source": [
    "mean = data[\"T4'\"].mean()\n",
    "STD = data[\"T4'\"].std()\n",
    "median = data[\"T4'\"].median()\n",
    "data[\"T4'\"]=data[\"T4'\"].apply(lambda x: outliers(x))\n",
    "\n",
    "# Plotting box plots for identifying outliers\n",
    "plt.boxplot(data[\"T4'\"])"
   ]
  },
  {
   "cell_type": "code",
   "execution_count": 11,
   "metadata": {},
   "outputs": [
    {
     "data": {
      "text/plain": [
       "{'whiskers': [<matplotlib.lines.Line2D at 0x7fab249b9b38>,\n",
       "  <matplotlib.lines.Line2D at 0x7fab249b9e80>],\n",
       " 'caps': [<matplotlib.lines.Line2D at 0x7fab249c2208>,\n",
       "  <matplotlib.lines.Line2D at 0x7fab249c2550>],\n",
       " 'boxes': [<matplotlib.lines.Line2D at 0x7fab249b99e8>],\n",
       " 'medians': [<matplotlib.lines.Line2D at 0x7fab249c2898>],\n",
       " 'fliers': [<matplotlib.lines.Line2D at 0x7fab249c2be0>],\n",
       " 'means': []}"
      ]
     },
     "execution_count": 11,
     "metadata": {},
     "output_type": "execute_result"
    },
    {
     "data": {
      "image/png": "[encoded data removed]",
      "text/plain": [
       "<Figure size 432x288 with 1 Axes>"
      ]
     },
     "metadata": {},
     "output_type": "display_data"
    }
   ],
   "source": [
    "mean = data[\"T5'\"].mean()\n",
    "STD = data[\"T5'\"].std()\n",
    "median = data[\"T5'\"].median()\n",
    "data[\"T5'\"]=data[\"T5'\"].apply(lambda x: outliers(x))\n",
    "\n",
    "# Plotting box plots for identifying outliers\n",
    "plt.boxplot(data[\"T5'\"])"
   ]
  },
  {
   "cell_type": "code",
   "execution_count": 12,
   "metadata": {},
   "outputs": [
    {
     "data": {
      "text/plain": [
       "{'whiskers': [<matplotlib.lines.Line2D at 0x7fab24919c18>,\n",
       "  <matplotlib.lines.Line2D at 0x7fab24919f60>],\n",
       " 'caps': [<matplotlib.lines.Line2D at 0x7fab249232e8>,\n",
       "  <matplotlib.lines.Line2D at 0x7fab24923630>],\n",
       " 'boxes': [<matplotlib.lines.Line2D at 0x7fab24919898>],\n",
       " 'medians': [<matplotlib.lines.Line2D at 0x7fab24923978>],\n",
       " 'fliers': [<matplotlib.lines.Line2D at 0x7fab24923cc0>],\n",
       " 'means': []}"
      ]
     },
     "execution_count": 12,
     "metadata": {},
     "output_type": "execute_result"
    },
    {
     "data": {
      "image/png": "[encoded data removed]",
      "text/plain": [
       "<Figure size 432x288 with 1 Axes>"
      ]
     },
     "metadata": {},
     "output_type": "display_data"
    }
   ],
   "source": [
    "mean = data[\"S1'\"].mean()\n",
    "STD = data[\"S1'\"].std()\n",
    "median = data[\"S1'\"].median()\n",
    "data[\"S1'\"]=data[\"S1'\"].apply(lambda x: outliers(x))\n",
    "\n",
    "# Plotting box plots for identifying outliers\n",
    "plt.boxplot(data[\"S1'\"])"
   ]
  },
  {
   "cell_type": "code",
   "execution_count": 13,
   "metadata": {},
   "outputs": [
    {
     "data": {
      "text/plain": [
       "{'whiskers': [<matplotlib.lines.Line2D at 0x7fab248f6780>,\n",
       "  <matplotlib.lines.Line2D at 0x7fab248f6ac8>],\n",
       " 'caps': [<matplotlib.lines.Line2D at 0x7fab248f6e10>,\n",
       "  <matplotlib.lines.Line2D at 0x7fab24900198>],\n",
       " 'boxes': [<matplotlib.lines.Line2D at 0x7fab248f6630>],\n",
       " 'medians': [<matplotlib.lines.Line2D at 0x7fab249004e0>],\n",
       " 'fliers': [<matplotlib.lines.Line2D at 0x7fab24900828>],\n",
       " 'means': []}"
      ]
     },
     "execution_count": 13,
     "metadata": {},
     "output_type": "execute_result"
    },
    {
     "data": {
      "image/png": "[encoded data removed]",
      "text/plain": [
       "<Figure size 432x288 with 1 Axes>"
      ]
     },
     "metadata": {},
     "output_type": "display_data"
    }
   ],
   "source": [
    "mean = data[\"S2'\"].mean()\n",
    "STD = data[\"S2'\"].std()\n",
    "median = data[\"S2'\"].median()\n",
    "data[\"S2'\"]=data[\"S2'\"].apply(lambda x: outliers(x))\n",
    "\n",
    "# Plotting box plots for identifying outliers\n",
    "plt.boxplot(data[\"S2'\"])"
   ]
  },
  {
   "cell_type": "code",
   "execution_count": 14,
   "metadata": {},
   "outputs": [
    {
     "data": {
      "text/plain": [
       "{'whiskers': [<matplotlib.lines.Line2D at 0x7fab2484ee80>,\n",
       "  <matplotlib.lines.Line2D at 0x7fab24857208>],\n",
       " 'caps': [<matplotlib.lines.Line2D at 0x7fab24857550>,\n",
       "  <matplotlib.lines.Line2D at 0x7fab24857898>],\n",
       " 'boxes': [<matplotlib.lines.Line2D at 0x7fab2484ed30>],\n",
       " 'medians': [<matplotlib.lines.Line2D at 0x7fab24857be0>],\n",
       " 'fliers': [<matplotlib.lines.Line2D at 0x7fab24857f28>],\n",
       " 'means': []}"
      ]
     },
     "execution_count": 14,
     "metadata": {},
     "output_type": "execute_result"
    },
    {
     "data": {
      "image/png": "[encoded data removed]",
      "text/plain": [
       "<Figure size 432x288 with 1 Axes>"
      ]
     },
     "metadata": {},
     "output_type": "display_data"
    }
   ],
   "source": [
    "mean = data[\"S3'\"].mean()\n",
    "STD = data[\"S3'\"].std()\n",
    "median = data[\"S3'\"].median()\n",
    "data[\"S3'\"]=data[\"S3'\"].apply(lambda x: outliers(x))\n",
    "\n",
    "# Plotting box plots for identifying outliers\n",
    "plt.boxplot(data[\"S3'\"])"
   ]
  },
  {
   "cell_type": "code",
   "execution_count": 15,
   "metadata": {},
   "outputs": [
    {
     "data": {
      "text/plain": [
       "C1     4.748302\n",
       "C2     0.863636\n",
       "C4     0.009062\n",
       "C7     4.749202\n",
       "C3'    0.529326\n",
       "C5'    1.561029\n",
       "C6'    2.766883\n",
       "T3'    0.963239\n",
       "T4'    0.628361\n",
       "T5'   -1.287276\n",
       "S1'   -2.292127\n",
       "S2'   -2.068702\n",
       "S3'   -1.952203\n",
       "dtype: float64"
      ]
     },
     "execution_count": 15,
     "metadata": {},
     "output_type": "execute_result"
    }
   ],
   "source": [
    "data.mean()"
   ]
  },
  {
   "cell_type": "code",
   "execution_count": 16,
   "metadata": {},
   "outputs": [],
   "source": [
    "## Exporting to a csv file\n",
    "data.to_csv(\"Outliers_Z\",\",\")"
   ]
  }
 ],
 "metadata": {
  "kernelspec": {
   "display_name": "Python 3",
   "language": "python",
   "name": "python3"
  },
  "language_info": {
   "codemirror_mode": {
    "name": "ipython",
    "version": 3
   },
   "file_extension": ".py",
   "mimetype": "text/x-python",
   "name": "python",
   "nbconvert_exporter": "python",
   "pygments_lexer": "ipython3",
   "version": "3.6.5"
  }
 },
 "nbformat": 4,
 "nbformat_minor": 2
}
