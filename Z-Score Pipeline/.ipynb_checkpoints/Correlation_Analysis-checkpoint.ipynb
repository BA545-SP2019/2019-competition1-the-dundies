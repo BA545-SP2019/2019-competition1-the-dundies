{
 "cells": [
  {
   "cell_type": "code",
   "execution_count": 12,
   "metadata": {},
   "outputs": [],
   "source": [
    "# Importing useful packages\n",
    "import pandas as pd\n",
    "import numpy as np\n",
    "import seaborn as sns\n",
    "import matplotlib.pyplot as plt\n",
    "from pandas.plotting import scatter_matrix\n",
    "\n",
    "# Importing csv file that is ready for use\n",
    "data = pd.read_csv(\"Ready_DF_USE_ME\", index_col=0)"
   ]
  },
  {
   "cell_type": "code",
   "execution_count": 13,
   "metadata": {},
   "outputs": [
    {
     "data": {
      "text/html": [
       "<div>\n",
       "<style scoped>\n",
       "    .dataframe tbody tr th:only-of-type {\n",
       "        vertical-align: middle;\n",
       "    }\n",
       "\n",
       "    .dataframe tbody tr th {\n",
       "        vertical-align: top;\n",
       "    }\n",
       "\n",
       "    .dataframe thead th {\n",
       "        text-align: right;\n",
       "    }\n",
       "</style>\n",
       "<table border=\"1\" class=\"dataframe\">\n",
       "  <thead>\n",
       "    <tr style=\"text-align: right;\">\n",
       "      <th></th>\n",
       "      <th>C1</th>\n",
       "      <th>C2</th>\n",
       "      <th>C4</th>\n",
       "      <th>C7</th>\n",
       "      <th>C3'</th>\n",
       "      <th>C5'</th>\n",
       "      <th>C6'</th>\n",
       "      <th>T3'</th>\n",
       "      <th>T4'</th>\n",
       "      <th>T5'</th>\n",
       "      <th>S1'</th>\n",
       "      <th>S2'</th>\n",
       "      <th>S3'</th>\n",
       "      <th>Y1</th>\n",
       "      <th>Y2</th>\n",
       "    </tr>\n",
       "  </thead>\n",
       "  <tbody>\n",
       "    <tr>\n",
       "      <th>0</th>\n",
       "      <td>0.144811</td>\n",
       "      <td>0.397360</td>\n",
       "      <td>0.700156</td>\n",
       "      <td>-0.590043</td>\n",
       "      <td>0.942972</td>\n",
       "      <td>0.070221</td>\n",
       "      <td>1.133020</td>\n",
       "      <td>0.635348</td>\n",
       "      <td>0.182031</td>\n",
       "      <td>0.375422</td>\n",
       "      <td>-0.165963</td>\n",
       "      <td>0.276180</td>\n",
       "      <td>-0.104356</td>\n",
       "      <td>0</td>\n",
       "      <td>1</td>\n",
       "    </tr>\n",
       "    <tr>\n",
       "      <th>1</th>\n",
       "      <td>1.841533</td>\n",
       "      <td>-2.516611</td>\n",
       "      <td>-0.784155</td>\n",
       "      <td>-1.085427</td>\n",
       "      <td>-1.060477</td>\n",
       "      <td>-0.023130</td>\n",
       "      <td>-0.776623</td>\n",
       "      <td>0.210550</td>\n",
       "      <td>0.247332</td>\n",
       "      <td>-0.031227</td>\n",
       "      <td>-1.622714</td>\n",
       "      <td>0.972579</td>\n",
       "      <td>-0.128206</td>\n",
       "      <td>1</td>\n",
       "      <td>0</td>\n",
       "    </tr>\n",
       "  </tbody>\n",
       "</table>\n",
       "</div>"
      ],
      "text/plain": [
       "         C1        C2        C4        C7       C3'       C5'       C6'  \\\n",
       "0  0.144811  0.397360  0.700156 -0.590043  0.942972  0.070221  1.133020   \n",
       "1  1.841533 -2.516611 -0.784155 -1.085427 -1.060477 -0.023130 -0.776623   \n",
       "\n",
       "        T3'       T4'       T5'       S1'       S2'       S3'  Y1  Y2  \n",
       "0  0.635348  0.182031  0.375422 -0.165963  0.276180 -0.104356   0   1  \n",
       "1  0.210550  0.247332 -0.031227 -1.622714  0.972579 -0.128206   1   0  "
      ]
     },
     "execution_count": 13,
     "metadata": {},
     "output_type": "execute_result"
    }
   ],
   "source": [
    "# Checking the data\n",
    "data.head(2)"
   ]
  },
  {
   "cell_type": "code",
   "execution_count": 14,
   "metadata": {},
   "outputs": [
    {
     "name": "stdout",
     "output_type": "stream",
     "text": [
      "           C1        C2        C4        C7       C3'       C5'       C6'  \\\n",
      "C1   1.000000  0.011403  0.125621  0.069690  0.037929 -0.038233 -0.061900   \n",
      "C2   0.011403  1.000000  0.003983  0.171702  0.010506  0.176980  0.133546   \n",
      "C4   0.125621  0.003983  1.000000  0.003018 -0.022497 -0.021798  0.040165   \n",
      "C7   0.069690  0.171702  0.003018  1.000000  0.301876 -0.086229  0.052131   \n",
      "C3'  0.037929  0.010506 -0.022497  0.301876  1.000000 -0.024248  0.153251   \n",
      "C5' -0.038233  0.176980 -0.021798 -0.086229 -0.024248  1.000000  0.070666   \n",
      "C6' -0.061900  0.133546  0.040165  0.052131  0.153251  0.070666  1.000000   \n",
      "T3' -0.050663  0.017829  0.058506 -0.160384 -0.138848  0.101968 -0.097318   \n",
      "T4'  0.062880  0.025956  0.096594  0.081255  0.061468  0.083645 -0.045244   \n",
      "T5'  0.016385  0.115793  0.056933 -0.135321 -0.235955  0.124840 -0.114092   \n",
      "S1'  0.010749  0.066954  0.004531  0.129333  0.055747 -0.051578 -0.051380   \n",
      "S2'  0.034580  0.004482 -0.022685  0.159884 -0.031552 -0.105757 -0.113292   \n",
      "S3' -0.070741 -0.005719  0.038073 -0.111539 -0.108747  0.064785 -0.047537   \n",
      "Y1   0.044089 -0.064492 -0.049687  0.003399 -0.089353 -0.048929 -0.765364   \n",
      "Y2  -0.016344  0.067018  0.106405 -0.069190  0.012719  0.040829  0.215572   \n",
      "\n",
      "          T3'       T4'       T5'       S1'       S2'       S3'        Y1  \\\n",
      "C1  -0.050663  0.062880  0.016385  0.010749  0.034580 -0.070741  0.044089   \n",
      "C2   0.017829  0.025956  0.115793  0.066954  0.004482 -0.005719 -0.064492   \n",
      "C4   0.058506  0.096594  0.056933  0.004531 -0.022685  0.038073 -0.049687   \n",
      "C7  -0.160384  0.081255 -0.135321  0.129333  0.159884 -0.111539  0.003399   \n",
      "C3' -0.138848  0.061468 -0.235955  0.055747 -0.031552 -0.108747 -0.089353   \n",
      "C5'  0.101968  0.083645  0.124840 -0.051578 -0.105757  0.064785 -0.048929   \n",
      "C6' -0.097318 -0.045244 -0.114092 -0.051380 -0.113292 -0.047537 -0.765364   \n",
      "T3'  1.000000 -0.105339  0.447287  0.149142  0.044278  0.349382  0.111992   \n",
      "T4' -0.105339  1.000000 -0.106117  0.063021 -0.045496 -0.073423  0.065703   \n",
      "T5'  0.447287 -0.106117  1.000000  0.134946  0.139365  0.354065  0.117743   \n",
      "S1'  0.149142  0.063021  0.134946  1.000000  0.085687  0.164852  0.104614   \n",
      "S2'  0.044278 -0.045496  0.139365  0.085687  1.000000  0.096547  0.168784   \n",
      "S3'  0.349382 -0.073423  0.354065  0.164852  0.096547  1.000000  0.066471   \n",
      "Y1   0.111992  0.065703  0.117743  0.104614  0.168784  0.066471  1.000000   \n",
      "Y2  -0.004392 -0.007800 -0.004473 -0.044237 -0.096419  0.072978 -0.223612   \n",
      "\n",
      "           Y2  \n",
      "C1  -0.016344  \n",
      "C2   0.067018  \n",
      "C4   0.106405  \n",
      "C7  -0.069190  \n",
      "C3'  0.012719  \n",
      "C5'  0.040829  \n",
      "C6'  0.215572  \n",
      "T3' -0.004392  \n",
      "T4' -0.007800  \n",
      "T5' -0.004473  \n",
      "S1' -0.044237  \n",
      "S2' -0.096419  \n",
      "S3'  0.072978  \n",
      "Y1  -0.223612  \n",
      "Y2   1.000000  \n"
     ]
    }
   ],
   "source": [
    "## Performing the correlation analysis that is really ugly\n",
    "print(data.corr(method=\"spearman\"))\n",
    "\n",
    "### It sucks to look at kinda"
   ]
  },
  {
   "cell_type": "code",
   "execution_count": 15,
   "metadata": {},
   "outputs": [
    {
     "data": {
      "text/plain": [
       "<matplotlib.axes._subplots.AxesSubplot at 0x7f158f0c95f8>"
      ]
     },
     "execution_count": 15,
     "metadata": {},
     "output_type": "execute_result"
    },
    {
     "data": {
      "image/png": "[encoded data removed]",
      "text/plain": [
       "<Figure size 792x648 with 2 Axes>"
      ]
     },
     "metadata": {},
     "output_type": "display_data"
    }
   ],
   "source": [
    "## We will make it look nicer to the eye\n",
    "# Visualizing a Correlation Matrix\n",
    "correlation_visual = data.corr(method='spearman')\n",
    "\n",
    "# Have to generate a mask(hide) for the upper triangle\n",
    "hide = np.zeros_like(correlation_visual, dtype=np.bool)\n",
    "hide[np.triu_indices_from(hide)] = True\n",
    "\n",
    "# Setting the subplot for the correlation matrix\n",
    "f , ax = plt.subplots(figsize=(11,9))\n",
    "\n",
    "# Generating a diverging colormap\n",
    "cmap = sns.diverging_palette(100, 200, as_cmap=True)\n",
    "\n",
    "# Adding the heatmap\n",
    "sns.heatmap(correlation_visual, mask=hide, cmap=cmap, vmin=-1,vmax=1, center=0, square=True, linewidths=.6, cbar_kws={\"shrink\": .5})"
   ]
  },
  {
   "cell_type": "code",
   "execution_count": 19,
   "metadata": {},
   "outputs": [
    {
     "data": {
      "text/plain": [
       "C1     False\n",
       "C2     False\n",
       "C4     False\n",
       "C7     False\n",
       "C3'    False\n",
       "C5'    False\n",
       "C6'     True\n",
       "T3'    False\n",
       "T4'    False\n",
       "T5'    False\n",
       "S1'    False\n",
       "S2'    False\n",
       "S3'    False\n",
       "Y1      True\n",
       "Y2     False\n",
       "Name: Y1, dtype: bool"
      ]
     },
     "execution_count": 19,
     "metadata": {},
     "output_type": "execute_result"
    }
   ],
   "source": [
    "## Now we will check to see which features are highly correlated\n",
    "\n",
    "Y1 = data.corr()['Y1'] > 0.5\n",
    "Y1_2 = data.corr()['Y1'] < -0.5\n",
    "\n",
    "## Using the 'pipe' as the logical OR operator to give results\n",
    "Y1 | Y1_2\n",
    "\n",
    "## C6' is highly correlated"
   ]
  },
  {
   "cell_type": "code",
   "execution_count": 21,
   "metadata": {},
   "outputs": [
    {
     "data": {
      "text/plain": [
       "C1     False\n",
       "C2     False\n",
       "C4     False\n",
       "C7     False\n",
       "C3'    False\n",
       "C5'    False\n",
       "C6'    False\n",
       "T3'    False\n",
       "T4'    False\n",
       "T5'    False\n",
       "S1'    False\n",
       "S2'    False\n",
       "S3'    False\n",
       "Y1     False\n",
       "Y2      True\n",
       "Name: Y2, dtype: bool"
      ]
     },
     "execution_count": 21,
     "metadata": {},
     "output_type": "execute_result"
    }
   ],
   "source": [
    "## Creating variables to check which features are highly correlated with Y2\n",
    "\n",
    "Y2 = data.corr()['Y2'] > 0.5\n",
    "Y2_1 = data.corr()['Y2'] < -0.5\n",
    "\n",
    "## Using the 'pipe' operator as the logical OR\n",
    "\n",
    "Y2 | Y2_1\n",
    "\n",
    "## There are no features that are higly correlated with Y2"
   ]
  },
  {
   "cell_type": "markdown",
   "metadata": {},
   "source": [
    "## We will have to drop the feature C6' when doing the RFE for Y1 because it is highly correlated with Y1. ##"
   ]
  },
  {
   "cell_type": "code",
   "execution_count": null,
   "metadata": {},
   "outputs": [],
   "source": []
  }
 ],
 "metadata": {
  "kernelspec": {
   "display_name": "Python 3",
   "language": "python",
   "name": "python3"
  },
  "language_info": {
   "codemirror_mode": {
    "name": "ipython",
    "version": 3
   },
   "file_extension": ".py",
   "mimetype": "text/x-python",
   "name": "python",
   "nbconvert_exporter": "python",
   "pygments_lexer": "ipython3",
   "version": "3.6.5"
  }
 },
 "nbformat": 4,
 "nbformat_minor": 2
}
