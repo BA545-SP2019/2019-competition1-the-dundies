{
 "cells": [
  {
   "cell_type": "code",
   "execution_count": 1,
   "metadata": {},
   "outputs": [
    {
     "data": {
      "text/html": [
       "<div>\n",
       "<style scoped>\n",
       "    .dataframe tbody tr th:only-of-type {\n",
       "        vertical-align: middle;\n",
       "    }\n",
       "\n",
       "    .dataframe tbody tr th {\n",
       "        vertical-align: top;\n",
       "    }\n",
       "\n",
       "    .dataframe thead th {\n",
       "        text-align: right;\n",
       "    }\n",
       "</style>\n",
       "<table border=\"1\" class=\"dataframe\">\n",
       "  <thead>\n",
       "    <tr style=\"text-align: right;\">\n",
       "      <th></th>\n",
       "      <th>C1</th>\n",
       "      <th>C2</th>\n",
       "      <th>C4</th>\n",
       "      <th>C7</th>\n",
       "      <th>C3'</th>\n",
       "      <th>C5'</th>\n",
       "      <th>C6'</th>\n",
       "      <th>T3'</th>\n",
       "      <th>T4'</th>\n",
       "      <th>T5'</th>\n",
       "      <th>S1'</th>\n",
       "      <th>S2'</th>\n",
       "      <th>S3'</th>\n",
       "      <th>Y1</th>\n",
       "      <th>Y2</th>\n",
       "    </tr>\n",
       "  </thead>\n",
       "  <tbody>\n",
       "    <tr>\n",
       "      <th>0</th>\n",
       "      <td>0.144811</td>\n",
       "      <td>0.397360</td>\n",
       "      <td>0.700156</td>\n",
       "      <td>-0.590043</td>\n",
       "      <td>0.942972</td>\n",
       "      <td>0.070221</td>\n",
       "      <td>1.133020</td>\n",
       "      <td>0.635348</td>\n",
       "      <td>0.182031</td>\n",
       "      <td>0.375422</td>\n",
       "      <td>-0.165963</td>\n",
       "      <td>0.276180</td>\n",
       "      <td>-0.104356</td>\n",
       "      <td>0</td>\n",
       "      <td>1</td>\n",
       "    </tr>\n",
       "    <tr>\n",
       "      <th>1</th>\n",
       "      <td>1.841533</td>\n",
       "      <td>-2.516611</td>\n",
       "      <td>-0.784155</td>\n",
       "      <td>-1.085427</td>\n",
       "      <td>-1.060477</td>\n",
       "      <td>-0.023130</td>\n",
       "      <td>-0.776623</td>\n",
       "      <td>0.210550</td>\n",
       "      <td>0.247332</td>\n",
       "      <td>-0.031227</td>\n",
       "      <td>-1.622714</td>\n",
       "      <td>0.972579</td>\n",
       "      <td>-0.128206</td>\n",
       "      <td>1</td>\n",
       "      <td>0</td>\n",
       "    </tr>\n",
       "  </tbody>\n",
       "</table>\n",
       "</div>"
      ],
      "text/plain": [
       "         C1        C2        C4        C7       C3'       C5'       C6'  \\\n",
       "0  0.144811  0.397360  0.700156 -0.590043  0.942972  0.070221  1.133020   \n",
       "1  1.841533 -2.516611 -0.784155 -1.085427 -1.060477 -0.023130 -0.776623   \n",
       "\n",
       "        T3'       T4'       T5'       S1'       S2'       S3'  Y1  Y2  \n",
       "0  0.635348  0.182031  0.375422 -0.165963  0.276180 -0.104356   0   1  \n",
       "1  0.210550  0.247332 -0.031227 -1.622714  0.972579 -0.128206   1   0  "
      ]
     },
     "execution_count": 1,
     "metadata": {},
     "output_type": "execute_result"
    }
   ],
   "source": [
    "import pandas as pd\n",
    "import numpy as np\n",
    "import matplotlib.pyplot as plt\n",
    "from sklearn import preprocessing\n",
    "import seaborn as sns\n",
    "from sklearn import datasets\n",
    "from sklearn.feature_selection import RFE\n",
    "from sklearn.linear_model import LogisticRegression\n",
    "\n",
    "data = pd.read_csv(\"Ready_DF_USE_ME\", index_col=0)\n",
    "data.head(2)"
   ]
  },
  {
   "cell_type": "code",
   "execution_count": 2,
   "metadata": {},
   "outputs": [],
   "source": [
    "## First we will separate the target variables from the rest of the dataframe into their own variables\n",
    "Y1 = data.loc[:,['Y1']].values.ravel()\n",
    "Y2 = data.loc[:,['Y2']].values.ravel()"
   ]
  },
  {
   "cell_type": "code",
   "execution_count": 3,
   "metadata": {},
   "outputs": [
    {
     "data": {
      "text/html": [
       "<div>\n",
       "<style scoped>\n",
       "    .dataframe tbody tr th:only-of-type {\n",
       "        vertical-align: middle;\n",
       "    }\n",
       "\n",
       "    .dataframe tbody tr th {\n",
       "        vertical-align: top;\n",
       "    }\n",
       "\n",
       "    .dataframe thead th {\n",
       "        text-align: right;\n",
       "    }\n",
       "</style>\n",
       "<table border=\"1\" class=\"dataframe\">\n",
       "  <thead>\n",
       "    <tr style=\"text-align: right;\">\n",
       "      <th></th>\n",
       "      <th>C1</th>\n",
       "      <th>C2</th>\n",
       "      <th>C4</th>\n",
       "      <th>C7</th>\n",
       "      <th>C3'</th>\n",
       "      <th>C5'</th>\n",
       "      <th>C6'</th>\n",
       "      <th>T3'</th>\n",
       "      <th>T4'</th>\n",
       "      <th>T5'</th>\n",
       "      <th>S1'</th>\n",
       "      <th>S2'</th>\n",
       "      <th>S3'</th>\n",
       "    </tr>\n",
       "  </thead>\n",
       "  <tbody>\n",
       "    <tr>\n",
       "      <th>0</th>\n",
       "      <td>0.144811</td>\n",
       "      <td>0.397360</td>\n",
       "      <td>0.700156</td>\n",
       "      <td>-0.590043</td>\n",
       "      <td>0.942972</td>\n",
       "      <td>0.070221</td>\n",
       "      <td>1.133020</td>\n",
       "      <td>0.635348</td>\n",
       "      <td>0.182031</td>\n",
       "      <td>0.375422</td>\n",
       "      <td>-0.165963</td>\n",
       "      <td>0.276180</td>\n",
       "      <td>-0.104356</td>\n",
       "    </tr>\n",
       "    <tr>\n",
       "      <th>1</th>\n",
       "      <td>1.841533</td>\n",
       "      <td>-2.516611</td>\n",
       "      <td>-0.784155</td>\n",
       "      <td>-1.085427</td>\n",
       "      <td>-1.060477</td>\n",
       "      <td>-0.023130</td>\n",
       "      <td>-0.776623</td>\n",
       "      <td>0.210550</td>\n",
       "      <td>0.247332</td>\n",
       "      <td>-0.031227</td>\n",
       "      <td>-1.622714</td>\n",
       "      <td>0.972579</td>\n",
       "      <td>-0.128206</td>\n",
       "    </tr>\n",
       "  </tbody>\n",
       "</table>\n",
       "</div>"
      ],
      "text/plain": [
       "         C1        C2        C4        C7       C3'       C5'       C6'  \\\n",
       "0  0.144811  0.397360  0.700156 -0.590043  0.942972  0.070221  1.133020   \n",
       "1  1.841533 -2.516611 -0.784155 -1.085427 -1.060477 -0.023130 -0.776623   \n",
       "\n",
       "        T3'       T4'       T5'       S1'       S2'       S3'  \n",
       "0  0.635348  0.182031  0.375422 -0.165963  0.276180 -0.104356  \n",
       "1  0.210550  0.247332 -0.031227 -1.622714  0.972579 -0.128206  "
      ]
     },
     "execution_count": 3,
     "metadata": {},
     "output_type": "execute_result"
    }
   ],
   "source": [
    "## Now we will drop the targets from the dataframe, as they are stored in their own variables\n",
    "data = data.drop(['Y1','Y2'], axis=1)\n",
    "data.head(2)"
   ]
  },
  {
   "cell_type": "code",
   "execution_count": 4,
   "metadata": {},
   "outputs": [
    {
     "name": "stdout",
     "output_type": "stream",
     "text": [
      "[False False False False False False  True  True False False  True  True\n",
      " False]\n",
      "[10  6  9  3  4  2  1  1  5  7  1  1  8]\n"
     ]
    }
   ],
   "source": [
    "##### THIS MODEL IS FOR Y1 #####\n",
    "## We will create a base model to use to evaluate the attributes\n",
    "rfe_model = LogisticRegression()\n",
    "\n",
    "## We will create the RFE Models that we desire\n",
    "rfe = RFE(rfe_model,4)\n",
    "rfe = rfe.fit(data, Y1)\n",
    "\n",
    "## Showing the results from our Y1 RFE Model\n",
    "print(rfe.support_)\n",
    "print(rfe.ranking_)"
   ]
  },
  {
   "cell_type": "code",
   "execution_count": 5,
   "metadata": {},
   "outputs": [
    {
     "name": "stdout",
     "output_type": "stream",
     "text": [
      "[False False  True False False False  True False False False False  True\n",
      "  True]\n",
      "[ 8  3  1  2  7 10  1  4  9  6  5  1  1]\n"
     ]
    }
   ],
   "source": [
    "##### THIS MODEL IS FOR Y1 #####\n",
    "## We will create a base model to use to evaluate the attributes\n",
    "rfe_model = LogisticRegression()\n",
    "\n",
    "## We will create the RFE Models that we desire\n",
    "rfe = RFE(rfe_model,4)\n",
    "rfe = rfe.fit(data, Y2)\n",
    "\n",
    "## Showing the results from our Y1 RFE Model\n",
    "print(rfe.support_)\n",
    "print(rfe.ranking_)"
   ]
  },
  {
   "cell_type": "code",
   "execution_count": null,
   "metadata": {},
   "outputs": [],
   "source": []
  }
 ],
 "metadata": {
  "kernelspec": {
   "display_name": "Python 3",
   "language": "python",
   "name": "python3"
  },
  "language_info": {
   "codemirror_mode": {
    "name": "ipython",
    "version": 3
   },
   "file_extension": ".py",
   "mimetype": "text/x-python",
   "name": "python",
   "nbconvert_exporter": "python",
   "pygments_lexer": "ipython3",
   "version": "3.6.5"
  }
 },
 "nbformat": 4,
 "nbformat_minor": 2
}
