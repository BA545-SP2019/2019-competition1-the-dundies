{
 "cells": [
  {
   "cell_type": "code",
   "execution_count": 1,
   "metadata": {},
   "outputs": [
    {
     "data": {
      "text/html": [
       "<div>\n",
       "<style scoped>\n",
       "    .dataframe tbody tr th:only-of-type {\n",
       "        vertical-align: middle;\n",
       "    }\n",
       "\n",
       "    .dataframe tbody tr th {\n",
       "        vertical-align: top;\n",
       "    }\n",
       "\n",
       "    .dataframe thead th {\n",
       "        text-align: right;\n",
       "    }\n",
       "</style>\n",
       "<table border=\"1\" class=\"dataframe\">\n",
       "  <thead>\n",
       "    <tr style=\"text-align: right;\">\n",
       "      <th></th>\n",
       "      <th>C1</th>\n",
       "      <th>C2</th>\n",
       "      <th>C4</th>\n",
       "      <th>C7</th>\n",
       "      <th>C3'</th>\n",
       "      <th>C5'</th>\n",
       "      <th>C6'</th>\n",
       "      <th>T3'</th>\n",
       "      <th>T4'</th>\n",
       "      <th>T5'</th>\n",
       "      <th>S1'</th>\n",
       "      <th>S2'</th>\n",
       "      <th>S3'</th>\n",
       "    </tr>\n",
       "  </thead>\n",
       "  <tbody>\n",
       "    <tr>\n",
       "      <th>0</th>\n",
       "      <td>4.812184</td>\n",
       "      <td>1.0</td>\n",
       "      <td>0.029074</td>\n",
       "      <td>3.957856</td>\n",
       "      <td>1</td>\n",
       "      <td>1.581932</td>\n",
       "      <td>6.803505</td>\n",
       "      <td>0.968653</td>\n",
       "      <td>0.640426</td>\n",
       "      <td>-1.265604</td>\n",
       "      <td>-2.312061</td>\n",
       "      <td>-2.036267</td>\n",
       "      <td>-1.961438</td>\n",
       "    </tr>\n",
       "    <tr>\n",
       "      <th>1</th>\n",
       "      <td>5.560682</td>\n",
       "      <td>0.0</td>\n",
       "      <td>-0.013352</td>\n",
       "      <td>3.293464</td>\n",
       "      <td>0</td>\n",
       "      <td>1.554144</td>\n",
       "      <td>0.000000</td>\n",
       "      <td>0.965033</td>\n",
       "      <td>0.644753</td>\n",
       "      <td>-1.289079</td>\n",
       "      <td>-2.487039</td>\n",
       "      <td>-1.954482</td>\n",
       "      <td>-1.963549</td>\n",
       "    </tr>\n",
       "  </tbody>\n",
       "</table>\n",
       "</div>"
      ],
      "text/plain": [
       "         C1   C2        C4        C7  C3'       C5'       C6'       T3'  \\\n",
       "0  4.812184  1.0  0.029074  3.957856    1  1.581932  6.803505  0.968653   \n",
       "1  5.560682  0.0 -0.013352  3.293464    0  1.554144  0.000000  0.965033   \n",
       "\n",
       "        T4'       T5'       S1'       S2'       S3'  \n",
       "0  0.640426 -1.265604 -2.312061 -2.036267 -1.961438  \n",
       "1  0.644753 -1.289079 -2.487039 -1.954482 -1.963549  "
      ]
     },
     "execution_count": 1,
     "metadata": {},
     "output_type": "execute_result"
    }
   ],
   "source": [
    "# Importing useful packages\n",
    "# Importing useful packages\n",
    "import pandas as pd\n",
    "import numpy as np\n",
    "import matplotlib.pyplot as plt\n",
    "import seaborn as sns\n",
    "from scipy.stats import kurtosis, skew\n",
    "from sklearn import datasets\n",
    "from sklearn import preprocessing\n",
    "\n",
    "# Importing csv to variable\n",
    "data = pd.read_csv(\"Outliers_Z\", index_col=0)\n",
    "data.head(2)"
   ]
  },
  {
   "cell_type": "code",
   "execution_count": 2,
   "metadata": {},
   "outputs": [
    {
     "data": {
      "text/html": [
       "<div>\n",
       "<style scoped>\n",
       "    .dataframe tbody tr th:only-of-type {\n",
       "        vertical-align: middle;\n",
       "    }\n",
       "\n",
       "    .dataframe tbody tr th {\n",
       "        vertical-align: top;\n",
       "    }\n",
       "\n",
       "    .dataframe thead th {\n",
       "        text-align: right;\n",
       "    }\n",
       "</style>\n",
       "<table border=\"1\" class=\"dataframe\">\n",
       "  <thead>\n",
       "    <tr style=\"text-align: right;\">\n",
       "      <th></th>\n",
       "      <th>C1</th>\n",
       "      <th>C2</th>\n",
       "      <th>C4</th>\n",
       "      <th>C7</th>\n",
       "      <th>C3'</th>\n",
       "      <th>C5'</th>\n",
       "      <th>C6'</th>\n",
       "      <th>T3'</th>\n",
       "      <th>T4'</th>\n",
       "      <th>T5'</th>\n",
       "      <th>S1'</th>\n",
       "      <th>S2'</th>\n",
       "      <th>S3'</th>\n",
       "    </tr>\n",
       "  </thead>\n",
       "  <tbody>\n",
       "    <tr>\n",
       "      <th>0</th>\n",
       "      <td>0.144811</td>\n",
       "      <td>0.397360</td>\n",
       "      <td>0.700156</td>\n",
       "      <td>-0.590043</td>\n",
       "      <td>0.942972</td>\n",
       "      <td>0.070221</td>\n",
       "      <td>1.133020</td>\n",
       "      <td>0.635348</td>\n",
       "      <td>0.182031</td>\n",
       "      <td>0.375422</td>\n",
       "      <td>-0.165963</td>\n",
       "      <td>0.276180</td>\n",
       "      <td>-0.104356</td>\n",
       "    </tr>\n",
       "    <tr>\n",
       "      <th>1</th>\n",
       "      <td>1.841533</td>\n",
       "      <td>-2.516611</td>\n",
       "      <td>-0.784155</td>\n",
       "      <td>-1.085427</td>\n",
       "      <td>-1.060477</td>\n",
       "      <td>-0.023130</td>\n",
       "      <td>-0.776623</td>\n",
       "      <td>0.210550</td>\n",
       "      <td>0.247332</td>\n",
       "      <td>-0.031227</td>\n",
       "      <td>-1.622714</td>\n",
       "      <td>0.972579</td>\n",
       "      <td>-0.128206</td>\n",
       "    </tr>\n",
       "  </tbody>\n",
       "</table>\n",
       "</div>"
      ],
      "text/plain": [
       "         C1        C2        C4        C7       C3'       C5'       C6'  \\\n",
       "0  0.144811  0.397360  0.700156 -0.590043  0.942972  0.070221  1.133020   \n",
       "1  1.841533 -2.516611 -0.784155 -1.085427 -1.060477 -0.023130 -0.776623   \n",
       "\n",
       "        T3'       T4'       T5'       S1'       S2'       S3'  \n",
       "0  0.635348  0.182031  0.375422 -0.165963  0.276180 -0.104356  \n",
       "1  0.210550  0.247332 -0.031227 -1.622714  0.972579 -0.128206  "
      ]
     },
     "execution_count": 2,
     "metadata": {},
     "output_type": "execute_result"
    }
   ],
   "source": [
    "# We will use .StandardScaler() to normalize using the z-score\n",
    "## We will use .fit_transform() as that helps center the data and then transforms it from the internal objects that it creates\n",
    "\n",
    "## Creating columns for new dataframe post-normalization\n",
    "new_cols = data.columns\n",
    "\n",
    "## Creating a scaler function (z-score function)\n",
    "scaler_z = preprocessing.StandardScaler()\n",
    "\n",
    "## Transforming the data frame `data`\n",
    "data_norm = scaler_z.fit_transform(data)\n",
    "\n",
    "## Creating a new data frame\n",
    "data_norm = pd.DataFrame(data_norm, columns=new_cols)\n",
    "\n",
    "## Printing new dataframe to display new column values\n",
    "data_norm.head(2)"
   ]
  },
  {
   "cell_type": "code",
   "execution_count": 3,
   "metadata": {},
   "outputs": [
    {
     "data": {
      "image/png": "[encoded data removed]",
      "text/plain": [
       "<Figure size 432x288 with 1 Axes>"
      ]
     },
     "metadata": {},
     "output_type": "display_data"
    },
    {
     "data": {
      "image/png": "[encoded data removed]",
      "text/plain": [
       "<Figure size 432x288 with 1 Axes>"
      ]
     },
     "metadata": {},
     "output_type": "display_data"
    },
    {
     "data": {
      "image/png": "[encoded data removed]",
      "text/plain": [
       "<Figure size 432x288 with 1 Axes>"
      ]
     },
     "metadata": {},
     "output_type": "display_data"
    },
    {
     "data": {
      "image/png": "[encoded data removed]",
      "text/plain": [
       "<Figure size 432x288 with 1 Axes>"
      ]
     },
     "metadata": {},
     "output_type": "display_data"
    },
    {
     "data": {
      "image/png": "[encoded data removed]",
      "text/plain": [
       "<Figure size 432x288 with 1 Axes>"
      ]
     },
     "metadata": {},
     "output_type": "display_data"
    },
    {
     "data": {
      "image/png": "[encoded data removed]",
      "text/plain": [
       "<Figure size 432x288 with 1 Axes>"
      ]
     },
     "metadata": {},
     "output_type": "display_data"
    },
    {
     "data": {
      "image/png": "[encoded data removed]",
      "text/plain": [
       "<Figure size 432x288 with 1 Axes>"
      ]
     },
     "metadata": {},
     "output_type": "display_data"
    },
    {
     "data": {
      "image/png": "[encoded data removed]",
      "text/plain": [
       "<Figure size 432x288 with 1 Axes>"
      ]
     },
     "metadata": {},
     "output_type": "display_data"
    },
    {
     "data": {
      "image/png": "[encoded data removed]",
      "text/plain": [
       "<Figure size 432x288 with 1 Axes>"
      ]
     },
     "metadata": {},
     "output_type": "display_data"
    },
    {
     "data": {
      "image/png": "[encoded data removed]",
      "text/plain": [
       "<Figure size 432x288 with 1 Axes>"
      ]
     },
     "metadata": {},
     "output_type": "display_data"
    },
    {
     "data": {
      "image/png": "[encoded data removed]",
      "text/plain": [
       "<Figure size 432x288 with 1 Axes>"
      ]
     },
     "metadata": {},
     "output_type": "display_data"
    },
    {
     "data": {
      "image/png": "[encoded data removed]",
      "text/plain": [
       "<Figure size 432x288 with 1 Axes>"
      ]
     },
     "metadata": {},
     "output_type": "display_data"
    },
    {
     "data": {
      "image/png": "[encoded data removed]",
      "text/plain": [
       "<Figure size 432x288 with 1 Axes>"
      ]
     },
     "metadata": {},
     "output_type": "display_data"
    }
   ],
   "source": [
    "# Creating a 'for loop' to display each of the columns in a histogram\n",
    "# would be the most efficient way to display the distribution of the features\n",
    "\n",
    "## Creating a new variable `new_cols` to store all the features we would like\n",
    "## to display with histograms\n",
    "new_cols = ['C1','C2',\"C3'\",'C4',\"C5'\",\"C6'\",'C7',\"T3'\",\"T4'\",\"T5'\",\"S1'\",\"S2'\",\"S3'\"]\n",
    "\n",
    "## Creating a new variable `plot_hists` to store the `new_cols`\n",
    "## and be populated with data from the `df_data` dataframe\n",
    "plot_hists = data[new_cols]\n",
    "\n",
    "### Creating a for loop that will plot each column in\n",
    "### the variable `plot_hists` as long as it is a column\n",
    "### Using 20 `bins` for each histogram, as well\n",
    "for i in range(len(plot_hists.columns)):\n",
    "    plt.hist(plot_hists.iloc[:,i].dropna(),bins=20)\n",
    "### For each title, we are using the name of the column\n",
    "### as it appears in the `plot_hists` variable    \n",
    "    plt.title('%a' % plot_hists.columns[i])\n",
    "### Ultimately showing the histogram at the end of \n",
    "### the for loop\n",
    "    plt.show()"
   ]
  },
  {
   "cell_type": "code",
   "execution_count": 4,
   "metadata": {},
   "outputs": [
    {
     "data": {
      "text/plain": [
       "C1     1.000734\n",
       "C2     1.000734\n",
       "C4     1.000734\n",
       "C7     1.000734\n",
       "C3'    1.000734\n",
       "C5'    1.000734\n",
       "C6'    1.000734\n",
       "T3'    1.000734\n",
       "T4'    1.000734\n",
       "T5'    1.000734\n",
       "S1'    1.000734\n",
       "S2'    1.000734\n",
       "S3'    1.000734\n",
       "dtype: float64"
      ]
     },
     "execution_count": 4,
     "metadata": {},
     "output_type": "execute_result"
    }
   ],
   "source": [
    "## Checking the standard deviation of the columns\n",
    "data_norm.std()"
   ]
  },
  {
   "cell_type": "code",
   "execution_count": 5,
   "metadata": {},
   "outputs": [],
   "source": [
    "## Exporting to a new csv\n",
    "data_norm.to_csv(\"ReadyDF_NORMAL\", \",\")"
   ]
  }
 ],
 "metadata": {
  "kernelspec": {
   "display_name": "Python 3",
   "language": "python",
   "name": "python3"
  },
  "language_info": {
   "codemirror_mode": {
    "name": "ipython",
    "version": 3
   },
   "file_extension": ".py",
   "mimetype": "text/x-python",
   "name": "python",
   "nbconvert_exporter": "python",
   "pygments_lexer": "ipython3",
   "version": "3.6.5"
  }
 },
 "nbformat": 4,
 "nbformat_minor": 2
}
