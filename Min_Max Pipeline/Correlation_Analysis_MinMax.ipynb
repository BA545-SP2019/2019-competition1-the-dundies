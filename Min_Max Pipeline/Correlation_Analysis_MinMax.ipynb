{
 "cells": [
  {
   "cell_type": "code",
   "execution_count": 2,
   "metadata": {},
   "outputs": [
    {
     "data": {
      "text/html": [
       "<div>\n",
       "<style scoped>\n",
       "    .dataframe tbody tr th:only-of-type {\n",
       "        vertical-align: middle;\n",
       "    }\n",
       "\n",
       "    .dataframe tbody tr th {\n",
       "        vertical-align: top;\n",
       "    }\n",
       "\n",
       "    .dataframe thead th {\n",
       "        text-align: right;\n",
       "    }\n",
       "</style>\n",
       "<table border=\"1\" class=\"dataframe\">\n",
       "  <thead>\n",
       "    <tr style=\"text-align: right;\">\n",
       "      <th></th>\n",
       "      <th>I1</th>\n",
       "      <th>I2</th>\n",
       "      <th>I3</th>\n",
       "      <th>P_IPO</th>\n",
       "      <th>P_H</th>\n",
       "      <th>P_L</th>\n",
       "      <th>P_1Day</th>\n",
       "      <th>Y1</th>\n",
       "      <th>Y2</th>\n",
       "      <th>C1</th>\n",
       "      <th>...</th>\n",
       "      <th>C7</th>\n",
       "      <th>C3'</th>\n",
       "      <th>C5'</th>\n",
       "      <th>C6'</th>\n",
       "      <th>T3'</th>\n",
       "      <th>T4'</th>\n",
       "      <th>T5'</th>\n",
       "      <th>S1'</th>\n",
       "      <th>S2'</th>\n",
       "      <th>S3'</th>\n",
       "    </tr>\n",
       "  </thead>\n",
       "  <tbody>\n",
       "    <tr>\n",
       "      <th>0</th>\n",
       "      <td>AATI</td>\n",
       "      <td>ADVANCED ANALOGIC TECHNOLOGIES INC</td>\n",
       "      <td>3674</td>\n",
       "      <td>10.0</td>\n",
       "      <td>9.5</td>\n",
       "      <td>8.5</td>\n",
       "      <td>11.87</td>\n",
       "      <td>0</td>\n",
       "      <td>1</td>\n",
       "      <td>122.00</td>\n",
       "      <td>...</td>\n",
       "      <td>3.716773</td>\n",
       "      <td>1</td>\n",
       "      <td>3.864345</td>\n",
       "      <td>900.0</td>\n",
       "      <td>0.908876</td>\n",
       "      <td>0.640426</td>\n",
       "      <td>0.054250</td>\n",
       "      <td>0.004875</td>\n",
       "      <td>0.009199</td>\n",
       "      <td>0.010929</td>\n",
       "    </tr>\n",
       "    <tr>\n",
       "      <th>1</th>\n",
       "      <td>ABPI</td>\n",
       "      <td>ACCENTIA BIOPHARMACEUTICALS INC</td>\n",
       "      <td>2834</td>\n",
       "      <td>8.0</td>\n",
       "      <td>10.0</td>\n",
       "      <td>8.0</td>\n",
       "      <td>7.25</td>\n",
       "      <td>1</td>\n",
       "      <td>0</td>\n",
       "      <td>152.75</td>\n",
       "      <td>...</td>\n",
       "      <td>2.960063</td>\n",
       "      <td>0</td>\n",
       "      <td>4.865080</td>\n",
       "      <td>0.0</td>\n",
       "      <td>0.898724</td>\n",
       "      <td>0.644753</td>\n",
       "      <td>0.051395</td>\n",
       "      <td>0.003258</td>\n",
       "      <td>0.011105</td>\n",
       "      <td>0.010876</td>\n",
       "    </tr>\n",
       "  </tbody>\n",
       "</table>\n",
       "<p>2 rows × 22 columns</p>\n",
       "</div>"
      ],
      "text/plain": [
       "     I1                                  I2    I3  P_IPO   P_H  P_L  P_1Day  \\\n",
       "0  AATI  ADVANCED ANALOGIC TECHNOLOGIES INC  3674   10.0   9.5  8.5   11.87   \n",
       "1  ABPI     ACCENTIA BIOPHARMACEUTICALS INC  2834    8.0  10.0  8.0    7.25   \n",
       "\n",
       "   Y1  Y2      C1    ...           C7  C3'       C5'    C6'       T3'  \\\n",
       "0   0   1  122.00    ...     3.716773    1  3.864345  900.0  0.908876   \n",
       "1   1   0  152.75    ...     2.960063    0  4.865080    0.0  0.898724   \n",
       "\n",
       "        T4'       T5'       S1'       S2'       S3'  \n",
       "0  0.640426  0.054250  0.004875  0.009199  0.010929  \n",
       "1  0.644753  0.051395  0.003258  0.011105  0.010876  \n",
       "\n",
       "[2 rows x 22 columns]"
      ]
     },
     "execution_count": 2,
     "metadata": {},
     "output_type": "execute_result"
    }
   ],
   "source": [
    "# Importing useful packages\n",
    "import pandas as pd\n",
    "import numpy as np\n",
    "import seaborn as sns\n",
    "import matplotlib.pyplot as plt\n",
    "from pandas.plotting import scatter_matrix\n",
    "\n",
    "# Importing csv file into variable\n",
    "data = pd.read_csv(\"ReadyDF_USE_ME\", index_col=0)\n",
    "data.head(2)"
   ]
  },
  {
   "cell_type": "code",
   "execution_count": 3,
   "metadata": {},
   "outputs": [
    {
     "name": "stdout",
     "output_type": "stream",
     "text": [
      "              I3     P_IPO       P_H       P_L    P_1Day        Y1        Y2  \\\n",
      "I3      1.000000  0.099088  0.004011  0.002511  0.074290 -0.097887  0.101717   \n",
      "P_IPO   0.099088  1.000000  0.800209  0.802125  0.644600 -0.516461  0.009602   \n",
      "P_H     0.004011  0.800209  1.000000  0.996178  0.444217 -0.078918 -0.102684   \n",
      "P_L     0.002511  0.802125  0.996178  1.000000  0.447109 -0.078283 -0.104790   \n",
      "P_1Day  0.074290  0.644600  0.444217  0.447109  1.000000 -0.434667  0.428875   \n",
      "Y1     -0.097887 -0.516461 -0.078918 -0.078283 -0.434667  1.000000 -0.223612   \n",
      "Y2      0.101717  0.009602 -0.102684 -0.104790  0.428875 -0.223612  1.000000   \n",
      "C1      0.057213 -0.067441 -0.054621 -0.052524 -0.027377  0.054003 -0.010010   \n",
      "C2     -0.040476  0.267550  0.280728  0.291564  0.234564 -0.064492  0.067018   \n",
      "C4     -0.039232 -0.004271 -0.041148 -0.045253  0.002386 -0.069034  0.099981   \n",
      "C7      0.094845  0.390872  0.480249  0.483129  0.154716 -0.040496 -0.053516   \n",
      "C3'     0.108454  0.158533  0.141442  0.147054  0.034618 -0.089353  0.012719   \n",
      "C5'     0.043497  0.031998 -0.011886 -0.014776  0.095501 -0.061752  0.069258   \n",
      "C6'     0.086686  0.628851  0.252916  0.257306  0.509753 -0.765380  0.219352   \n",
      "T3'    -0.042025 -0.121232 -0.104999 -0.108402 -0.058627  0.107095 -0.009435   \n",
      "T4'     0.091974  0.007980  0.073061  0.074470  0.009246  0.067528 -0.004432   \n",
      "T5'    -0.096655 -0.082967 -0.043644 -0.044380 -0.065708  0.111978 -0.015583   \n",
      "S1'    -0.194453  0.009733  0.084892  0.088996 -0.022162  0.096730 -0.054239   \n",
      "S2'    -0.150385  0.033618  0.108778  0.111148 -0.019444  0.173334 -0.113913   \n",
      "S3'    -0.152247 -0.089189 -0.088710 -0.093991  0.005988  0.066061  0.055833   \n",
      "\n",
      "              C1        C2        C4        C7       C3'       C5'       C6'  \\\n",
      "I3      0.057213 -0.040476 -0.039232  0.094845  0.108454  0.043497  0.086686   \n",
      "P_IPO  -0.067441  0.267550 -0.004271  0.390872  0.158533  0.031998  0.628851   \n",
      "P_H    -0.054621  0.280728 -0.041148  0.480249  0.141442 -0.011886  0.252916   \n",
      "P_L    -0.052524  0.291564 -0.045253  0.483129  0.147054 -0.014776  0.257306   \n",
      "P_1Day -0.027377  0.234564  0.002386  0.154716  0.034618  0.095501  0.509753   \n",
      "Y1      0.054003 -0.064492 -0.069034 -0.040496 -0.089353 -0.061752 -0.765380   \n",
      "Y2     -0.010010  0.067018  0.099981 -0.053516  0.012719  0.069258  0.219352   \n",
      "C1      1.000000  0.003051  0.108099  0.061583  0.001202 -0.013595 -0.078051   \n",
      "C2      0.003051  1.000000 -0.031415  0.197111  0.010506  0.149260  0.132240   \n",
      "C4      0.108099 -0.031415  1.000000  0.002374 -0.022830 -0.043788  0.060338   \n",
      "C7      0.061583  0.197111  0.002374  1.000000  0.350204 -0.078454  0.084081   \n",
      "C3'     0.001202  0.010506 -0.022830  0.350204  1.000000 -0.021966  0.154172   \n",
      "C5'    -0.013595  0.149260 -0.043788 -0.078454 -0.021966  1.000000  0.089431   \n",
      "C6'    -0.078051  0.132240  0.060338  0.084081  0.154172  0.089431  1.000000   \n",
      "T3'    -0.053610  0.016440  0.060848 -0.198789 -0.142718  0.099412 -0.099545   \n",
      "T4'     0.047237  0.043340  0.081228  0.124627  0.056521  0.096100 -0.041477   \n",
      "T5'     0.036491  0.117139  0.059651 -0.184949 -0.226585  0.113814 -0.110230   \n",
      "S1'     0.011784  0.065499  0.004165  0.104784  0.072995 -0.015702 -0.047011   \n",
      "S2'     0.038549  0.018306  0.000885  0.165914 -0.045421 -0.074550 -0.099902   \n",
      "S3'    -0.046961  0.016386  0.043717 -0.135032 -0.105359  0.067482 -0.050566   \n",
      "\n",
      "             T3'       T4'       T5'       S1'       S2'       S3'  \n",
      "I3     -0.042025  0.091974 -0.096655 -0.194453 -0.150385 -0.152247  \n",
      "P_IPO  -0.121232  0.007980 -0.082967  0.009733  0.033618 -0.089189  \n",
      "P_H    -0.104999  0.073061 -0.043644  0.084892  0.108778 -0.088710  \n",
      "P_L    -0.108402  0.074470 -0.044380  0.088996  0.111148 -0.093991  \n",
      "P_1Day -0.058627  0.009246 -0.065708 -0.022162 -0.019444  0.005988  \n",
      "Y1      0.107095  0.067528  0.111978  0.096730  0.173334  0.066061  \n",
      "Y2     -0.009435 -0.004432 -0.015583 -0.054239 -0.113913  0.055833  \n",
      "C1     -0.053610  0.047237  0.036491  0.011784  0.038549 -0.046961  \n",
      "C2      0.016440  0.043340  0.117139  0.065499  0.018306  0.016386  \n",
      "C4      0.060848  0.081228  0.059651  0.004165  0.000885  0.043717  \n",
      "C7     -0.198789  0.124627 -0.184949  0.104784  0.165914 -0.135032  \n",
      "C3'    -0.142718  0.056521 -0.226585  0.072995 -0.045421 -0.105359  \n",
      "C5'     0.099412  0.096100  0.113814 -0.015702 -0.074550  0.067482  \n",
      "C6'    -0.099545 -0.041477 -0.110230 -0.047011 -0.099902 -0.050566  \n",
      "T3'     1.000000 -0.094035  0.440657  0.184416  0.059229  0.366671  \n",
      "T4'    -0.094035  1.000000 -0.097012  0.064047 -0.044143 -0.094976  \n",
      "T5'     0.440657 -0.097012  1.000000  0.163025  0.154491  0.381326  \n",
      "S1'     0.184416  0.064047  0.163025  1.000000  0.127135  0.196123  \n",
      "S2'     0.059229 -0.044143  0.154491  0.127135  1.000000  0.126444  \n",
      "S3'     0.366671 -0.094976  0.381326  0.196123  0.126444  1.000000  \n"
     ]
    }
   ],
   "source": [
    "print(data.corr(method=\"spearman\"))"
   ]
  },
  {
   "cell_type": "code",
   "execution_count": 4,
   "metadata": {},
   "outputs": [
    {
     "data": {
      "text/plain": [
       "<matplotlib.axes._subplots.AxesSubplot at 0x7f2ab6472748>"
      ]
     },
     "execution_count": 4,
     "metadata": {},
     "output_type": "execute_result"
    },
    {
     "data": {
      "image/png": "[encoded data removed]",
      "text/plain": [
       "<Figure size 792x648 with 2 Axes>"
      ]
     },
     "metadata": {},
     "output_type": "display_data"
    }
   ],
   "source": [
    "## We will make it look nicer to the eye\n",
    "# Visualizing a Correlation Matrix\n",
    "correlation_visual = data.corr(method='spearman')\n",
    "\n",
    "# Have to generate a mask(hide) for the upper triangle\n",
    "hide = np.zeros_like(correlation_visual, dtype=np.bool)\n",
    "hide[np.triu_indices_from(hide)] = True\n",
    "\n",
    "# Setting the subplot for the correlation matrix\n",
    "f , ax = plt.subplots(figsize=(11,9))\n",
    "\n",
    "# Generating a diverging colormap\n",
    "cmap = sns.diverging_palette(100, 200, as_cmap=True)\n",
    "\n",
    "# Adding the heatmap\n",
    "sns.heatmap(correlation_visual, mask=hide, cmap=cmap, vmin=-1,vmax=1, center=0, square=True, linewidths=.6, cbar_kws={\"shrink\": .5})"
   ]
  },
  {
   "cell_type": "code",
   "execution_count": 6,
   "metadata": {},
   "outputs": [
    {
     "data": {
      "text/plain": [
       "I3        False\n",
       "P_IPO     False\n",
       "P_H       False\n",
       "P_L       False\n",
       "P_1Day    False\n",
       "Y1         True\n",
       "Y2        False\n",
       "C1        False\n",
       "C2        False\n",
       "C4        False\n",
       "C7        False\n",
       "C3'       False\n",
       "C5'       False\n",
       "C6'        True\n",
       "T3'       False\n",
       "T4'       False\n",
       "T5'       False\n",
       "S1'       False\n",
       "S2'       False\n",
       "S3'       False\n",
       "Name: Y1, dtype: bool"
      ]
     },
     "execution_count": 6,
     "metadata": {},
     "output_type": "execute_result"
    }
   ],
   "source": [
    "## Now we will check to see which features are highly correlated\n",
    "\n",
    "Y1 = data.corr()['Y1'] > 0.5\n",
    "Y1_2 = data.corr()['Y1'] < -0.5\n",
    "\n",
    "## Using the 'pipe' as the logical OR operator to give results\n",
    "Y1 | Y1_2\n",
    "\n",
    "## C6' is highly correlated"
   ]
  },
  {
   "cell_type": "code",
   "execution_count": 8,
   "metadata": {},
   "outputs": [
    {
     "data": {
      "text/plain": [
       "I3        False\n",
       "P_IPO     False\n",
       "P_H       False\n",
       "P_L       False\n",
       "P_1Day    False\n",
       "Y1        False\n",
       "Y2         True\n",
       "C1        False\n",
       "C2        False\n",
       "C4        False\n",
       "C7        False\n",
       "C3'       False\n",
       "C5'       False\n",
       "C6'       False\n",
       "T3'       False\n",
       "T4'       False\n",
       "T5'       False\n",
       "S1'       False\n",
       "S2'       False\n",
       "S3'       False\n",
       "Name: Y2, dtype: bool"
      ]
     },
     "execution_count": 8,
     "metadata": {},
     "output_type": "execute_result"
    }
   ],
   "source": [
    "## Now we will check to see which features are highly correlated\n",
    "\n",
    "Y2 = data.corr()['Y2'] > 0.5\n",
    "Y2_1 = data.corr()['Y2'] < -0.5\n",
    "\n",
    "## Using the 'pipe' as the logical OR operator to give results\n",
    "Y2 | Y2_1\n",
    "\n",
    "## There are no features that are highly correlated with feature 'Y2'"
   ]
  },
  {
   "cell_type": "code",
   "execution_count": null,
   "metadata": {},
   "outputs": [],
   "source": []
  }
 ],
 "metadata": {
  "kernelspec": {
   "display_name": "Python 3",
   "language": "python",
   "name": "python3"
  },
  "language_info": {
   "codemirror_mode": {
    "name": "ipython",
    "version": 3
   },
   "file_extension": ".py",
   "mimetype": "text/x-python",
   "name": "python",
   "nbconvert_exporter": "python",
   "pygments_lexer": "ipython3",
   "version": "3.6.5"
  }
 },
 "nbformat": 4,
 "nbformat_minor": 2
}
