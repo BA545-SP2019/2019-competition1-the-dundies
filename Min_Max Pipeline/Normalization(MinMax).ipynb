{
 "cells": [
  {
   "cell_type": "markdown",
   "metadata": {},
   "source": [
    "# Normalization - MinMax #"
   ]
  },
  {
   "cell_type": "code",
   "execution_count": 5,
   "metadata": {},
   "outputs": [
    {
     "data": {
      "text/html": [
       "<div>\n",
       "<style scoped>\n",
       "    .dataframe tbody tr th:only-of-type {\n",
       "        vertical-align: middle;\n",
       "    }\n",
       "\n",
       "    .dataframe tbody tr th {\n",
       "        vertical-align: top;\n",
       "    }\n",
       "\n",
       "    .dataframe thead th {\n",
       "        text-align: right;\n",
       "    }\n",
       "</style>\n",
       "<table border=\"1\" class=\"dataframe\">\n",
       "  <thead>\n",
       "    <tr style=\"text-align: right;\">\n",
       "      <th></th>\n",
       "      <th>C1</th>\n",
       "      <th>C2</th>\n",
       "      <th>C4</th>\n",
       "      <th>C7</th>\n",
       "      <th>C3'</th>\n",
       "      <th>C5'</th>\n",
       "      <th>C6'</th>\n",
       "      <th>T3'</th>\n",
       "      <th>T4'</th>\n",
       "      <th>T5'</th>\n",
       "      <th>S1'</th>\n",
       "      <th>S2'</th>\n",
       "      <th>S3'</th>\n",
       "    </tr>\n",
       "  </thead>\n",
       "  <tbody>\n",
       "    <tr>\n",
       "      <th>0</th>\n",
       "      <td>122.00</td>\n",
       "      <td>1.0</td>\n",
       "      <td>0.029074</td>\n",
       "      <td>51.345</td>\n",
       "      <td>1</td>\n",
       "      <td>3.864345</td>\n",
       "      <td>900.0</td>\n",
       "      <td>0.908876</td>\n",
       "      <td>0.640426</td>\n",
       "      <td>0.054250</td>\n",
       "      <td>0.004875</td>\n",
       "      <td>0.009199</td>\n",
       "      <td>0.010929</td>\n",
       "    </tr>\n",
       "    <tr>\n",
       "      <th>1</th>\n",
       "      <td>152.75</td>\n",
       "      <td>0.0</td>\n",
       "      <td>-0.013352</td>\n",
       "      <td>25.936</td>\n",
       "      <td>0</td>\n",
       "      <td>4.865080</td>\n",
       "      <td>0.0</td>\n",
       "      <td>0.898724</td>\n",
       "      <td>0.644753</td>\n",
       "      <td>0.051395</td>\n",
       "      <td>0.003258</td>\n",
       "      <td>0.011105</td>\n",
       "      <td>0.010876</td>\n",
       "    </tr>\n",
       "  </tbody>\n",
       "</table>\n",
       "</div>"
      ],
      "text/plain": [
       "       C1   C2        C4      C7  C3'       C5'    C6'       T3'       T4'  \\\n",
       "0  122.00  1.0  0.029074  51.345    1  3.864345  900.0  0.908876  0.640426   \n",
       "1  152.75  0.0 -0.013352  25.936    0  4.865080    0.0  0.898724  0.644753   \n",
       "\n",
       "        T5'       S1'       S2'       S3'  \n",
       "0  0.054250  0.004875  0.009199  0.010929  \n",
       "1  0.051395  0.003258  0.011105  0.010876  "
      ]
     },
     "execution_count": 5,
     "metadata": {},
     "output_type": "execute_result"
    }
   ],
   "source": [
    "# Importing useful packages\n",
    "# Importing useful packages\n",
    "import pandas as pd\n",
    "import numpy as np\n",
    "import matplotlib.pyplot as plt\n",
    "import seaborn as sns\n",
    "from scipy.stats import kurtosis, skew\n",
    "from sklearn import datasets\n",
    "from scipy.stats import iqr\n",
    "from sklearn import preprocessing\n",
    "from sklearn.preprocessing import MinMaxScaler\n",
    "\n",
    "# Read in the csv file\n",
    "data = pd.read_csv(\"ReadyDF_Outliers\", index_col=0)\n",
    "data.head(2)"
   ]
  },
  {
   "cell_type": "code",
   "execution_count": 6,
   "metadata": {},
   "outputs": [],
   "source": [
    "# Creating a new variable for columns\n",
    "new_cols = ['C1','C2',\"C3'\",'C4',\"C5'\",\"C6'\",'C7',\"T3'\",\"T4'\",\"T5'\",\"S1'\",\"S2'\",\"S3'\"]\n",
    "# Normalizing using MinMax\n",
    "minmax = preprocessing.MinMaxScaler()\n",
    "normal_data = (minmax.fit_transform(data))\n",
    "normal_data = pd.DataFrame(normal_data, columns=new_cols)"
   ]
  },
  {
   "cell_type": "code",
   "execution_count": 7,
   "metadata": {},
   "outputs": [
    {
     "data": {
      "text/plain": [
       "C1     115.363270\n",
       "C2       0.863636\n",
       "C4       0.007342\n",
       "C7     154.910100\n",
       "C3'      0.529326\n",
       "C5'      3.853964\n",
       "C6'    588.819648\n",
       "T3'      0.895960\n",
       "T4'      0.628948\n",
       "T5'      0.052013\n",
       "S1'      0.005205\n",
       "S2'      0.008789\n",
       "S3'      0.011299\n",
       "dtype: float64"
      ]
     },
     "execution_count": 7,
     "metadata": {},
     "output_type": "execute_result"
    }
   ],
   "source": [
    "# Checking the mean to see if the normalization took place\n",
    "data.mean()"
   ]
  },
  {
   "cell_type": "code",
   "execution_count": 8,
   "metadata": {},
   "outputs": [],
   "source": [
    "# Exporting to csv file\n",
    "data.to_csv(\"ReadyDF_Normalization\",\",\")"
   ]
  }
 ],
 "metadata": {
  "kernelspec": {
   "display_name": "Python 3",
   "language": "python",
   "name": "python3"
  },
  "language_info": {
   "codemirror_mode": {
    "name": "ipython",
    "version": 3
   },
   "file_extension": ".py",
   "mimetype": "text/x-python",
   "name": "python",
   "nbconvert_exporter": "python",
   "pygments_lexer": "ipython3",
   "version": "3.6.5"
  }
 },
 "nbformat": 4,
 "nbformat_minor": 2
}
