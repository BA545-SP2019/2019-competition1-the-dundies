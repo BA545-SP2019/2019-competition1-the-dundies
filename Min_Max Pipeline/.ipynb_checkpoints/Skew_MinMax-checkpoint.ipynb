{
 "cells": [
  {
   "cell_type": "markdown",
   "metadata": {},
   "source": [
    "# Fixing Skewness - MinMax #"
   ]
  },
  {
   "cell_type": "code",
   "execution_count": 1,
   "metadata": {},
   "outputs": [
    {
     "name": "stdout",
     "output_type": "stream",
     "text": [
      "       C1   C2        C4      C7  C3'       C5'    C6'       T3'       T4'  \\\n",
      "0  122.00  1.0  0.029074  51.345    1  3.864345  900.0  0.908876  0.640426   \n",
      "1  152.75  0.0 -0.013352  25.936    0  4.865080    0.0  0.898724  0.644753   \n",
      "2   90.00  1.0  0.020715   7.378    0  3.369134    0.0  0.909350  0.636816   \n",
      "\n",
      "        T5'       S1'       S2'       S3'  \n",
      "0  0.054250  0.004875  0.009199  0.010929  \n",
      "1  0.051395  0.003258  0.011105  0.010876  \n",
      "2  0.061764  0.006258  0.006271  0.011403  \n"
     ]
    }
   ],
   "source": [
    "# Importing useful packages\n",
    "import pandas as pd\n",
    "import numpy as np\n",
    "import matplotlib.pyplot as plt\n",
    "import seaborn as sns\n",
    "from scipy.stats import kurtosis, skew\n",
    "from sklearn import preprocessing\n",
    "\n",
    "# Importing data set\n",
    "data = pd.read_csv(\"ReadyDF_Normalization\", index_col=0)\n",
    "print(data.head(3))"
   ]
  },
  {
   "cell_type": "code",
   "execution_count": 2,
   "metadata": {},
   "outputs": [
    {
     "data": {
      "text/plain": [
       "C1     0.484764\n",
       "C2    -2.123926\n",
       "C4    -0.491134\n",
       "C7     1.215108\n",
       "C3'   -0.117764\n",
       "C5'    0.407167\n",
       "C6'    0.831200\n",
       "T3'   -0.410761\n",
       "T4'   -0.028730\n",
       "T5'    0.033674\n",
       "S1'    0.381426\n",
       "S2'    0.406292\n",
       "S3'    0.229440\n",
       "dtype: float64"
      ]
     },
     "execution_count": 2,
     "metadata": {},
     "output_type": "execute_result"
    }
   ],
   "source": [
    "## Checking the skewness of the variables from the beginning\n",
    "data.skew()\n",
    "\n",
    "###### WE ARE IGNORING C2 AND C3' BECAUSE THEY ARE BINARY ######"
   ]
  },
  {
   "cell_type": "code",
   "execution_count": 3,
   "metadata": {},
   "outputs": [
    {
     "data": {
      "text/plain": [
       "(array([232., 178.,  49.,  40., 117.,  22.,   8.,  18.,   8.,  10.]),\n",
       " array([7.400000e-02, 6.567020e+01, 1.312664e+02, 1.968626e+02,\n",
       "        2.624588e+02, 3.280550e+02, 3.936512e+02, 4.592474e+02,\n",
       "        5.248436e+02, 5.904398e+02, 6.560360e+02]),\n",
       " <a list of 10 Patch objects>)"
      ]
     },
     "execution_count": 3,
     "metadata": {},
     "output_type": "execute_result"
    },
    {
     "data": {
      "image/png": "[encoded data removed]",
      "text/plain": [
       "<Figure size 432x288 with 1 Axes>"
      ]
     },
     "metadata": {},
     "output_type": "display_data"
    }
   ],
   "source": [
    "## The only feature that would need fixing for the skew is 'C7'\n",
    "##### Histogram before fixing the skew\n",
    "plt.hist(data['C7'])"
   ]
  },
  {
   "cell_type": "code",
   "execution_count": 4,
   "metadata": {},
   "outputs": [
    {
     "data": {
      "text/plain": [
       "(array([ 30.,  37.,  46.,  84.,  97., 139.,  54., 138.,  24.,  33.]),\n",
       " array([0.41983365, 1.24676247, 2.0736913 , 2.90062013, 3.72754895,\n",
       "        4.55447778, 5.38140661, 6.20833543, 7.03526426, 7.86219309,\n",
       "        8.68912191]),\n",
       " <a list of 10 Patch objects>)"
      ]
     },
     "execution_count": 4,
     "metadata": {},
     "output_type": "execute_result"
    },
    {
     "data": {
      "image/png": "[encoded data removed]",
      "text/plain": [
       "<Figure size 432x288 with 1 Axes>"
      ]
     },
     "metadata": {},
     "output_type": "display_data"
    }
   ],
   "source": [
    "### Fixing the skew with cubed root\n",
    "data['C7'] = np.cbrt(data['C7'])\n",
    "\n",
    "### Plotting the histogram after fixing the skew\n",
    "plt.hist(data['C7'])"
   ]
  },
  {
   "cell_type": "code",
   "execution_count": 5,
   "metadata": {},
   "outputs": [
    {
     "data": {
      "text/plain": [
       "C1     0.484764\n",
       "C2    -2.123926\n",
       "C4    -0.491134\n",
       "C7    -0.171688\n",
       "C3'   -0.117764\n",
       "C5'    0.407167\n",
       "C6'    0.831200\n",
       "T3'   -0.410761\n",
       "T4'   -0.028730\n",
       "T5'    0.033674\n",
       "S1'    0.381426\n",
       "S2'    0.406292\n",
       "S3'    0.229440\n",
       "dtype: float64"
      ]
     },
     "execution_count": 5,
     "metadata": {},
     "output_type": "execute_result"
    }
   ],
   "source": [
    "### Displaying the skew of the features after fixing C7\n",
    "data.skew()"
   ]
  },
  {
   "cell_type": "code",
   "execution_count": 6,
   "metadata": {},
   "outputs": [],
   "source": [
    "## Exporting as csv file\n",
    "data.to_csv(\"ReadyDF_Skew\", \",\")"
   ]
  },
  {
   "cell_type": "code",
   "execution_count": null,
   "metadata": {},
   "outputs": [],
   "source": []
  }
 ],
 "metadata": {
  "kernelspec": {
   "display_name": "Python 3",
   "language": "python",
   "name": "python3"
  },
  "language_info": {
   "codemirror_mode": {
    "name": "ipython",
    "version": 3
   },
   "file_extension": ".py",
   "mimetype": "text/x-python",
   "name": "python",
   "nbconvert_exporter": "python",
   "pygments_lexer": "ipython3",
   "version": "3.6.5"
  }
 },
 "nbformat": 4,
 "nbformat_minor": 2
}
