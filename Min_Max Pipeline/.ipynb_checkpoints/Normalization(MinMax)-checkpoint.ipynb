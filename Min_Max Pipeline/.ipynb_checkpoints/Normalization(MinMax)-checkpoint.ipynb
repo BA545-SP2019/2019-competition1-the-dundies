{
 "cells": [
  {
   "cell_type": "markdown",
   "metadata": {},
   "source": [
    "# Normalization - MinMax #"
   ]
  },
  {
   "cell_type": "code",
   "execution_count": 2,
   "metadata": {},
   "outputs": [
    {
     "data": {
      "text/html": [
       "<div>\n",
       "<style scoped>\n",
       "    .dataframe tbody tr th:only-of-type {\n",
       "        vertical-align: middle;\n",
       "    }\n",
       "\n",
       "    .dataframe tbody tr th {\n",
       "        vertical-align: top;\n",
       "    }\n",
       "\n",
       "    .dataframe thead th {\n",
       "        text-align: right;\n",
       "    }\n",
       "</style>\n",
       "<table border=\"1\" class=\"dataframe\">\n",
       "  <thead>\n",
       "    <tr style=\"text-align: right;\">\n",
       "      <th></th>\n",
       "      <th>I1</th>\n",
       "      <th>I2</th>\n",
       "      <th>I3</th>\n",
       "      <th>P_IPO</th>\n",
       "      <th>P_H</th>\n",
       "      <th>P_L</th>\n",
       "      <th>P_1Day</th>\n",
       "      <th>C1</th>\n",
       "      <th>C2</th>\n",
       "      <th>C4</th>\n",
       "      <th>...</th>\n",
       "      <th>C5'</th>\n",
       "      <th>C6'</th>\n",
       "      <th>T3'</th>\n",
       "      <th>T4'</th>\n",
       "      <th>T5'</th>\n",
       "      <th>S1'</th>\n",
       "      <th>S2'</th>\n",
       "      <th>S3'</th>\n",
       "      <th>Y1</th>\n",
       "      <th>Y2</th>\n",
       "    </tr>\n",
       "  </thead>\n",
       "  <tbody>\n",
       "    <tr>\n",
       "      <th>0</th>\n",
       "      <td>AATI</td>\n",
       "      <td>ADVANCED ANALOGIC TECHNOLOGIES INC</td>\n",
       "      <td>3674</td>\n",
       "      <td>10.0</td>\n",
       "      <td>9.5</td>\n",
       "      <td>8.5</td>\n",
       "      <td>11.87</td>\n",
       "      <td>122.00</td>\n",
       "      <td>1.0</td>\n",
       "      <td>0.029074</td>\n",
       "      <td>...</td>\n",
       "      <td>3.864345</td>\n",
       "      <td>900.0</td>\n",
       "      <td>0.908876</td>\n",
       "      <td>0.640426</td>\n",
       "      <td>0.054250</td>\n",
       "      <td>0.004875</td>\n",
       "      <td>0.009199</td>\n",
       "      <td>0.010929</td>\n",
       "      <td>0</td>\n",
       "      <td>1</td>\n",
       "    </tr>\n",
       "    <tr>\n",
       "      <th>1</th>\n",
       "      <td>ABPI</td>\n",
       "      <td>ACCENTIA BIOPHARMACEUTICALS INC</td>\n",
       "      <td>2834</td>\n",
       "      <td>8.0</td>\n",
       "      <td>10.0</td>\n",
       "      <td>8.0</td>\n",
       "      <td>7.25</td>\n",
       "      <td>152.75</td>\n",
       "      <td>0.0</td>\n",
       "      <td>-0.013352</td>\n",
       "      <td>...</td>\n",
       "      <td>4.865080</td>\n",
       "      <td>0.0</td>\n",
       "      <td>0.898724</td>\n",
       "      <td>0.644753</td>\n",
       "      <td>0.051395</td>\n",
       "      <td>0.003258</td>\n",
       "      <td>0.011105</td>\n",
       "      <td>0.010876</td>\n",
       "      <td>1</td>\n",
       "      <td>0</td>\n",
       "    </tr>\n",
       "  </tbody>\n",
       "</table>\n",
       "<p>2 rows × 22 columns</p>\n",
       "</div>"
      ],
      "text/plain": [
       "     I1                                  I2    I3  P_IPO   P_H  P_L  P_1Day  \\\n",
       "0  AATI  ADVANCED ANALOGIC TECHNOLOGIES INC  3674   10.0   9.5  8.5   11.87   \n",
       "1  ABPI     ACCENTIA BIOPHARMACEUTICALS INC  2834    8.0  10.0  8.0    7.25   \n",
       "\n",
       "       C1   C2        C4 ...       C5'    C6'       T3'       T4'       T5'  \\\n",
       "0  122.00  1.0  0.029074 ...  3.864345  900.0  0.908876  0.640426  0.054250   \n",
       "1  152.75  0.0 -0.013352 ...  4.865080    0.0  0.898724  0.644753  0.051395   \n",
       "\n",
       "        S1'       S2'       S3'  Y1  Y2  \n",
       "0  0.004875  0.009199  0.010929   0   1  \n",
       "1  0.003258  0.011105  0.010876   1   0  \n",
       "\n",
       "[2 rows x 22 columns]"
      ]
     },
     "execution_count": 2,
     "metadata": {},
     "output_type": "execute_result"
    }
   ],
   "source": [
    "# Importing useful packages\n",
    "# Importing useful packages\n",
    "import pandas as pd\n",
    "import numpy as np\n",
    "import matplotlib.pyplot as plt\n",
    "import seaborn as sns\n",
    "from scipy.stats import kurtosis, skew\n",
    "from sklearn import datasets\n",
    "from scipy.stats import iqr\n",
    "from sklearn import preprocessing\n",
    "from sklearn.preprocessing import MinMaxScaler\n",
    "\n",
    "# Read in the csv file\n",
    "df_data = pd.read_csv(\"ReadyDF_Outliers\", header=0, index_col=0)\n",
    "df_data.head(2)"
   ]
  },
  {
   "cell_type": "code",
   "execution_count": 3,
   "metadata": {},
   "outputs": [
    {
     "name": "stdout",
     "output_type": "stream",
     "text": [
      "       C1   C2        C4      C7  C3'       C5'    C6'       T3'       T4'  \\\n",
      "0  122.00  1.0  0.029074  51.345    1  3.864345  900.0  0.908876  0.640426   \n",
      "1  152.75  0.0 -0.013352  25.936    0  4.865080    0.0  0.898724  0.644753   \n",
      "\n",
      "        T5'       S1'       S2'       S3'  \n",
      "0  0.054250  0.004875  0.009199  0.010929  \n",
      "1  0.051395  0.003258  0.011105  0.010876  \n"
     ]
    }
   ],
   "source": [
    "# Creating a new variable for columns\n",
    "new_cols = ['C1','C2',\"C3'\",'C4',\"C5'\",\"C6'\",'C7',\"T3'\",\"T4'\",\"T5'\",\"S1'\",\"S2'\",\"S3'\"]\n",
    "# Creating a new \n",
    "df_normal_minmax = df_data.drop(['I1','I2','I3','P_IPO','P_H','P_L','P_1Day','Y1','Y2'],axis=1)\n",
    "print(df_normal_minmax.head(2))\n",
    "# Normalizing using MinMax\n",
    "minmax = preprocessing.MinMaxScaler()\n",
    "normal_df_data = (minmax.fit_transform(df_normal_minmax))\n",
    "normal_df_data = pd.DataFrame(normal_df_data, columns=new_cols)"
   ]
  },
  {
   "cell_type": "code",
   "execution_count": null,
   "metadata": {},
   "outputs": [],
   "source": [
    "# Exporting to csv file\n"
   ]
  }
 ],
 "metadata": {
  "kernelspec": {
   "display_name": "Python 3",
   "language": "python",
   "name": "python3"
  },
  "language_info": {
   "codemirror_mode": {
    "name": "ipython",
    "version": 3
   },
   "file_extension": ".py",
   "mimetype": "text/x-python",
   "name": "python",
   "nbconvert_exporter": "python",
   "pygments_lexer": "ipython3",
   "version": "3.6.5"
  }
 },
 "nbformat": 4,
 "nbformat_minor": 2
}
