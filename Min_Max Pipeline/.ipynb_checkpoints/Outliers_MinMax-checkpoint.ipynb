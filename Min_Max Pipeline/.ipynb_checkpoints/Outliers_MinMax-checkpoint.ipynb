{
 "cells": [
  {
   "cell_type": "markdown",
   "metadata": {},
   "source": [
    "## Outliers - MinMax ##"
   ]
  },
  {
   "cell_type": "code",
   "execution_count": 1,
   "metadata": {},
   "outputs": [
    {
     "data": {
      "text/html": [
       "<div>\n",
       "<style scoped>\n",
       "    .dataframe tbody tr th:only-of-type {\n",
       "        vertical-align: middle;\n",
       "    }\n",
       "\n",
       "    .dataframe tbody tr th {\n",
       "        vertical-align: top;\n",
       "    }\n",
       "\n",
       "    .dataframe thead th {\n",
       "        text-align: right;\n",
       "    }\n",
       "</style>\n",
       "<table border=\"1\" class=\"dataframe\">\n",
       "  <thead>\n",
       "    <tr style=\"text-align: right;\">\n",
       "      <th></th>\n",
       "      <th>I1</th>\n",
       "      <th>I2</th>\n",
       "      <th>I3</th>\n",
       "      <th>P_IPO</th>\n",
       "      <th>P_H</th>\n",
       "      <th>P_L</th>\n",
       "      <th>P_1Day</th>\n",
       "      <th>C1</th>\n",
       "      <th>C2</th>\n",
       "      <th>C4</th>\n",
       "      <th>...</th>\n",
       "      <th>C5'</th>\n",
       "      <th>C6'</th>\n",
       "      <th>T3'</th>\n",
       "      <th>T4'</th>\n",
       "      <th>T5'</th>\n",
       "      <th>S1'</th>\n",
       "      <th>S2'</th>\n",
       "      <th>S3'</th>\n",
       "      <th>Y1</th>\n",
       "      <th>Y2</th>\n",
       "    </tr>\n",
       "  </thead>\n",
       "  <tbody>\n",
       "    <tr>\n",
       "      <th>0</th>\n",
       "      <td>AATI</td>\n",
       "      <td>ADVANCED ANALOGIC TECHNOLOGIES INC</td>\n",
       "      <td>3674</td>\n",
       "      <td>10.0</td>\n",
       "      <td>9.5</td>\n",
       "      <td>8.5</td>\n",
       "      <td>11.87</td>\n",
       "      <td>122.0</td>\n",
       "      <td>1.0</td>\n",
       "      <td>0.029074</td>\n",
       "      <td>...</td>\n",
       "      <td>3.864345</td>\n",
       "      <td>900.0</td>\n",
       "      <td>0.908876</td>\n",
       "      <td>0.640426</td>\n",
       "      <td>0.054250</td>\n",
       "      <td>0.004875</td>\n",
       "      <td>0.009199</td>\n",
       "      <td>0.010929</td>\n",
       "      <td>0</td>\n",
       "      <td>1</td>\n",
       "    </tr>\n",
       "    <tr>\n",
       "      <th>1</th>\n",
       "      <td>ABPI</td>\n",
       "      <td>ACCENTIA BIOPHARMACEUTICALS INC</td>\n",
       "      <td>2834</td>\n",
       "      <td>8.0</td>\n",
       "      <td>10.0</td>\n",
       "      <td>8.0</td>\n",
       "      <td>7.25</td>\n",
       "      <td>259.0</td>\n",
       "      <td>0.0</td>\n",
       "      <td>-0.013352</td>\n",
       "      <td>...</td>\n",
       "      <td>12.028832</td>\n",
       "      <td>0.0</td>\n",
       "      <td>0.898724</td>\n",
       "      <td>0.644753</td>\n",
       "      <td>0.051395</td>\n",
       "      <td>0.003258</td>\n",
       "      <td>0.011105</td>\n",
       "      <td>0.010876</td>\n",
       "      <td>1</td>\n",
       "      <td>0</td>\n",
       "    </tr>\n",
       "  </tbody>\n",
       "</table>\n",
       "<p>2 rows × 22 columns</p>\n",
       "</div>"
      ],
      "text/plain": [
       "     I1                                  I2    I3  P_IPO   P_H  P_L  P_1Day  \\\n",
       "0  AATI  ADVANCED ANALOGIC TECHNOLOGIES INC  3674   10.0   9.5  8.5   11.87   \n",
       "1  ABPI     ACCENTIA BIOPHARMACEUTICALS INC  2834    8.0  10.0  8.0    7.25   \n",
       "\n",
       "      C1   C2        C4 ...        C5'    C6'       T3'       T4'       T5'  \\\n",
       "0  122.0  1.0  0.029074 ...   3.864345  900.0  0.908876  0.640426  0.054250   \n",
       "1  259.0  0.0 -0.013352 ...  12.028832    0.0  0.898724  0.644753  0.051395   \n",
       "\n",
       "        S1'       S2'       S3'  Y1  Y2  \n",
       "0  0.004875  0.009199  0.010929   0   1  \n",
       "1  0.003258  0.011105  0.010876   1   0  \n",
       "\n",
       "[2 rows x 22 columns]"
      ]
     },
     "execution_count": 1,
     "metadata": {},
     "output_type": "execute_result"
    }
   ],
   "source": [
    "# Importing useful packages\n",
    "# Importing useful packages\n",
    "import pandas as pd\n",
    "import numpy as np\n",
    "import matplotlib.pyplot as plt\n",
    "import seaborn as sns\n",
    "from scipy.stats import kurtosis, skew\n",
    "from sklearn import datasets\n",
    "from scipy.stats import iqr\n",
    "from sklearn import preprocessing\n",
    "from sklearn.preprocessing import MinMaxScaler\n",
    "\n",
    "# Read in the csv file\n",
    "data = pd.read_csv(\"../ReadyDF\", header=0, index_col=0)\n",
    "data.head(2)"
   ]
  },
  {
   "cell_type": "code",
   "execution_count": 2,
   "metadata": {},
   "outputs": [
    {
     "name": "stdout",
     "output_type": "stream",
     "text": [
      "     I1                                  I2    I3  P_IPO   P_H  P_L  P_1Day\n",
      "0  AATI  ADVANCED ANALOGIC TECHNOLOGIES INC  3674   10.0   9.5  8.5   11.87\n",
      "1  ABPI     ACCENTIA BIOPHARMACEUTICALS INC  2834    8.0  10.0  8.0    7.25\n",
      "   Y1  Y2\n",
      "0   0   1\n",
      "1   1   0\n"
     ]
    }
   ],
   "source": [
    "# Creating a target variables\n",
    "targets = data.iloc[:,:7]\n",
    "print(targets.head(2))\n",
    "\n",
    "targets2 = data.iloc[:,20:22]\n",
    "print(targets2.head(2))"
   ]
  },
  {
   "cell_type": "code",
   "execution_count": 3,
   "metadata": {},
   "outputs": [
    {
     "name": "stdout",
     "output_type": "stream",
     "text": [
      "      C1   C2        C4      C7  C3'        C5'    C6'       T3'       T4'  \\\n",
      "0  122.0  1.0  0.029074  51.345    1   3.864345  900.0  0.908876  0.640426   \n",
      "1  259.0  0.0 -0.013352  25.936    0  12.028832    0.0  0.898724  0.644753   \n",
      "\n",
      "        T5'       S1'       S2'       S3'  \n",
      "0  0.054250  0.004875  0.009199  0.010929  \n",
      "1  0.051395  0.003258  0.011105  0.010876  \n"
     ]
    }
   ],
   "source": [
    "# Concatinate the target variables together into `Targets`\n",
    "Targets = pd.concat([targets,targets2], axis=1, join_axes=[data.index])\n",
    "data = data.drop(['I1','I2','I3','P_IPO','P_H','P_L','P_1Day','Y1','Y2'], axis=1)\n",
    "print(data.head(2))"
   ]
  },
  {
   "cell_type": "code",
   "execution_count": 4,
   "metadata": {},
   "outputs": [
    {
     "data": {
      "text/plain": [
       "C1     148.350440\n",
       "C2       0.863636\n",
       "C4       0.007342\n",
       "C7     458.587321\n",
       "C3'      0.529326\n",
       "C5'      4.625317\n",
       "C6'    608.907625\n",
       "T3'      0.915750\n",
       "T4'      0.628061\n",
       "T5'      0.080699\n",
       "S1'      0.005504\n",
       "S2'      0.009181\n",
       "S3'      0.011857\n",
       "dtype: float64"
      ]
     },
     "execution_count": 4,
     "metadata": {},
     "output_type": "execute_result"
    }
   ],
   "source": [
    "# Checking the Mean before fixing outliers\n",
    "data.mean()"
   ]
  },
  {
   "cell_type": "markdown",
   "metadata": {},
   "source": [
    "## Outliers - IQR ##"
   ]
  },
  {
   "cell_type": "code",
   "execution_count": 5,
   "metadata": {},
   "outputs": [
    {
     "data": {
      "text/plain": [
       "{'whiskers': [<matplotlib.lines.Line2D at 0x7f66eaa87978>,\n",
       "  <matplotlib.lines.Line2D at 0x7f66eaa87cc0>],\n",
       " 'caps': [<matplotlib.lines.Line2D at 0x7f66eaa1e048>,\n",
       "  <matplotlib.lines.Line2D at 0x7f66eaa1e390>],\n",
       " 'boxes': [<matplotlib.lines.Line2D at 0x7f66eaa87828>],\n",
       " 'medians': [<matplotlib.lines.Line2D at 0x7f66eaa1e6d8>],\n",
       " 'fliers': [<matplotlib.lines.Line2D at 0x7f66eaa1ea20>],\n",
       " 'means': []}"
      ]
     },
     "execution_count": 5,
     "metadata": {},
     "output_type": "execute_result"
    },
    {
     "data": {
      "image/png": "[encoded data removed]",
      "text/plain": [
       "<Figure size 432x288 with 1 Axes>"
      ]
     },
     "metadata": {},
     "output_type": "display_data"
    }
   ],
   "source": [
    "# Defining the function 'iqr_outliers' to help with outliers\n",
    "\n",
    "def iqr_outliers(x):\n",
    "    if x > (Q3 + (1.5*IQR)):\n",
    "        x=Q3\n",
    "    elif x <(Q1 - (1.5*IQR)):\n",
    "        x=Q1\n",
    "    else:\n",
    "        pass\n",
    "    return(x)\n",
    "\n",
    "Q1 = data['C1'].quantile(0.25)\n",
    "Q3 = data['C1'].quantile(0.75)\n",
    "IQR = iqr(data['C1'])\n",
    "data['C1']=data['C1'].apply(lambda x: iqr_outliers(x))\n",
    "\n",
    "# Plotting box plots for identifying outliers\n",
    "plt.boxplot(data.C1)"
   ]
  },
  {
   "cell_type": "code",
   "execution_count": 6,
   "metadata": {},
   "outputs": [
    {
     "data": {
      "text/plain": [
       "{'whiskers': [<matplotlib.lines.Line2D at 0x7f66ea995390>,\n",
       "  <matplotlib.lines.Line2D at 0x7f66ea9956d8>],\n",
       " 'caps': [<matplotlib.lines.Line2D at 0x7f66ea995a20>,\n",
       "  <matplotlib.lines.Line2D at 0x7f66ea995d68>],\n",
       " 'boxes': [<matplotlib.lines.Line2D at 0x7f66ea995240>],\n",
       " 'medians': [<matplotlib.lines.Line2D at 0x7f66ea99d0f0>],\n",
       " 'fliers': [<matplotlib.lines.Line2D at 0x7f66ea99d438>],\n",
       " 'means': []}"
      ]
     },
     "execution_count": 6,
     "metadata": {},
     "output_type": "execute_result"
    },
    {
     "data": {
      "image/png": "[encoded data removed]",
      "text/plain": [
       "<Figure size 432x288 with 1 Axes>"
      ]
     },
     "metadata": {},
     "output_type": "display_data"
    }
   ],
   "source": [
    "Q1 = data['C7'].quantile(0.25)\n",
    "Q3 = data['C7'].quantile(0.75)\n",
    "IQR = iqr(data['C7'])\n",
    "data['C7']=data['C7'].apply(lambda x: iqr_outliers(x))\n",
    "\n",
    "# Plotting box plots for identifying outliers\n",
    "plt.boxplot(data.C7)"
   ]
  },
  {
   "cell_type": "code",
   "execution_count": 7,
   "metadata": {},
   "outputs": [
    {
     "data": {
      "text/plain": [
       "{'whiskers': [<matplotlib.lines.Line2D at 0x7f66ea9718d0>,\n",
       "  <matplotlib.lines.Line2D at 0x7f66ea971c18>],\n",
       " 'caps': [<matplotlib.lines.Line2D at 0x7f66ea971f60>,\n",
       "  <matplotlib.lines.Line2D at 0x7f66ea97c2e8>],\n",
       " 'boxes': [<matplotlib.lines.Line2D at 0x7f66ea971780>],\n",
       " 'medians': [<matplotlib.lines.Line2D at 0x7f66ea97c630>],\n",
       " 'fliers': [<matplotlib.lines.Line2D at 0x7f66ea97c978>],\n",
       " 'means': []}"
      ]
     },
     "execution_count": 7,
     "metadata": {},
     "output_type": "execute_result"
    },
    {
     "data": {
      "image/png": "[encoded data removed]",
      "text/plain": [
       "<Figure size 432x288 with 1 Axes>"
      ]
     },
     "metadata": {},
     "output_type": "display_data"
    }
   ],
   "source": [
    "Q1 = data[\"C5'\"].quantile(0.25)\n",
    "Q3 = data[\"C5'\"].quantile(0.75)\n",
    "IQR = iqr(data[\"C5'\"])\n",
    "data[\"C5'\"]=data[\"C5'\"].apply(lambda x: iqr_outliers(x))\n",
    "\n",
    "# Plotting box plots for identifying outliers\n",
    "plt.boxplot(data[\"C5'\"])"
   ]
  },
  {
   "cell_type": "code",
   "execution_count": 8,
   "metadata": {},
   "outputs": [
    {
     "data": {
      "text/plain": [
       "{'whiskers': [<matplotlib.lines.Line2D at 0x7f66ea8dc5c0>,\n",
       "  <matplotlib.lines.Line2D at 0x7f66ea8dc908>],\n",
       " 'caps': [<matplotlib.lines.Line2D at 0x7f66ea8dcc50>,\n",
       "  <matplotlib.lines.Line2D at 0x7f66ea8dcf98>],\n",
       " 'boxes': [<matplotlib.lines.Line2D at 0x7f66ea8dc470>],\n",
       " 'medians': [<matplotlib.lines.Line2D at 0x7f66ea8e5320>],\n",
       " 'fliers': [<matplotlib.lines.Line2D at 0x7f66ea8e5668>],\n",
       " 'means': []}"
      ]
     },
     "execution_count": 8,
     "metadata": {},
     "output_type": "execute_result"
    },
    {
     "data": {
      "image/png": "[encoded data removed]",
      "text/plain": [
       "<Figure size 432x288 with 1 Axes>"
      ]
     },
     "metadata": {},
     "output_type": "display_data"
    }
   ],
   "source": [
    "Q1 = data[\"C6'\"].quantile(0.25)\n",
    "Q3 = data[\"C6'\"].quantile(0.75)\n",
    "IQR = iqr(data[\"C6'\"])\n",
    "data[\"C6'\"]=data[\"C6'\"].apply(lambda x: iqr_outliers(x))\n",
    "\n",
    "# Plotting box plots for identifying outliers\n",
    "plt.boxplot(data[\"C6'\"])"
   ]
  },
  {
   "cell_type": "code",
   "execution_count": 9,
   "metadata": {},
   "outputs": [
    {
     "data": {
      "text/plain": [
       "{'whiskers': [<matplotlib.lines.Line2D at 0x7f66ea8b66d8>,\n",
       "  <matplotlib.lines.Line2D at 0x7f66ea8b6a20>],\n",
       " 'caps': [<matplotlib.lines.Line2D at 0x7f66ea8b6d68>,\n",
       "  <matplotlib.lines.Line2D at 0x7f66ea8c10f0>],\n",
       " 'boxes': [<matplotlib.lines.Line2D at 0x7f66ea8b6588>],\n",
       " 'medians': [<matplotlib.lines.Line2D at 0x7f66ea8c1438>],\n",
       " 'fliers': [<matplotlib.lines.Line2D at 0x7f66ea8c1780>],\n",
       " 'means': []}"
      ]
     },
     "execution_count": 9,
     "metadata": {},
     "output_type": "execute_result"
    },
    {
     "data": {
      "image/png": "[encoded data removed]",
      "text/plain": [
       "<Figure size 432x288 with 1 Axes>"
      ]
     },
     "metadata": {},
     "output_type": "display_data"
    }
   ],
   "source": [
    "Q1 = data[\"T3'\"].quantile(0.25)\n",
    "Q3 = data[\"T3'\"].quantile(0.75)\n",
    "IQR = iqr(data[\"T3'\"])\n",
    "data[\"T3'\"]=data[\"T3'\"].apply(lambda x: iqr_outliers(x))\n",
    "\n",
    "# Plotting box plots for identifying outliers\n",
    "plt.boxplot(data[\"T3'\"])"
   ]
  },
  {
   "cell_type": "code",
   "execution_count": 10,
   "metadata": {},
   "outputs": [
    {
     "data": {
      "text/plain": [
       "{'whiskers': [<matplotlib.lines.Line2D at 0x7f66ea8943c8>,\n",
       "  <matplotlib.lines.Line2D at 0x7f66ea894710>],\n",
       " 'caps': [<matplotlib.lines.Line2D at 0x7f66ea894a58>,\n",
       "  <matplotlib.lines.Line2D at 0x7f66ea894da0>],\n",
       " 'boxes': [<matplotlib.lines.Line2D at 0x7f66ea894278>],\n",
       " 'medians': [<matplotlib.lines.Line2D at 0x7f66ea81e128>],\n",
       " 'fliers': [<matplotlib.lines.Line2D at 0x7f66ea81e470>],\n",
       " 'means': []}"
      ]
     },
     "execution_count": 10,
     "metadata": {},
     "output_type": "execute_result"
    },
    {
     "data": {
      "image/png": "[encoded data removed]",
      "text/plain": [
       "<Figure size 432x288 with 1 Axes>"
      ]
     },
     "metadata": {},
     "output_type": "display_data"
    }
   ],
   "source": [
    "Q1 = data[\"T4'\"].quantile(0.25)\n",
    "Q3 = data[\"T4'\"].quantile(0.75)\n",
    "IQR = iqr(data[\"T4'\"])\n",
    "data[\"T4'\"]=data[\"T4'\"].apply(lambda x: iqr_outliers(x))\n",
    "\n",
    "# Plotting box plots for identifying outliers\n",
    "plt.boxplot(data[\"T4'\"])"
   ]
  },
  {
   "cell_type": "code",
   "execution_count": 11,
   "metadata": {},
   "outputs": [
    {
     "data": {
      "text/plain": [
       "{'whiskers': [<matplotlib.lines.Line2D at 0x7f66ea7ec9e8>,\n",
       "  <matplotlib.lines.Line2D at 0x7f66ea7ecd30>],\n",
       " 'caps': [<matplotlib.lines.Line2D at 0x7f66ea7f90b8>,\n",
       "  <matplotlib.lines.Line2D at 0x7f66ea7f9400>],\n",
       " 'boxes': [<matplotlib.lines.Line2D at 0x7f66ea7ec898>],\n",
       " 'medians': [<matplotlib.lines.Line2D at 0x7f66ea7f9748>],\n",
       " 'fliers': [<matplotlib.lines.Line2D at 0x7f66ea7f9a90>],\n",
       " 'means': []}"
      ]
     },
     "execution_count": 11,
     "metadata": {},
     "output_type": "execute_result"
    },
    {
     "data": {
      "image/png": "[encoded data removed]",
      "text/plain": [
       "<Figure size 432x288 with 1 Axes>"
      ]
     },
     "metadata": {},
     "output_type": "display_data"
    }
   ],
   "source": [
    "Q1 = data[\"T5'\"].quantile(0.25)\n",
    "Q3 = data[\"T5'\"].quantile(0.75)\n",
    "IQR = iqr(data[\"T5'\"])\n",
    "data[\"T5'\"]=data[\"T5'\"].apply(lambda x: iqr_outliers(x))\n",
    "\n",
    "# Plotting box plots for identifying outliers\n",
    "plt.boxplot(data[\"T5'\"])"
   ]
  },
  {
   "cell_type": "code",
   "execution_count": 12,
   "metadata": {},
   "outputs": [
    {
     "data": {
      "text/plain": [
       "{'whiskers': [<matplotlib.lines.Line2D at 0x7f66ea7b0080>,\n",
       "  <matplotlib.lines.Line2D at 0x7f66ea7b0390>],\n",
       " 'caps': [<matplotlib.lines.Line2D at 0x7f66ea7b06d8>,\n",
       "  <matplotlib.lines.Line2D at 0x7f66ea7b0a20>],\n",
       " 'boxes': [<matplotlib.lines.Line2D at 0x7f66ea7caef0>],\n",
       " 'medians': [<matplotlib.lines.Line2D at 0x7f66ea7b0d68>],\n",
       " 'fliers': [<matplotlib.lines.Line2D at 0x7f66ea75e0f0>],\n",
       " 'means': []}"
      ]
     },
     "execution_count": 12,
     "metadata": {},
     "output_type": "execute_result"
    },
    {
     "data": {
      "image/png": "[encoded data removed]",
      "text/plain": [
       "<Figure size 432x288 with 1 Axes>"
      ]
     },
     "metadata": {},
     "output_type": "display_data"
    }
   ],
   "source": [
    "Q1 = data[\"S1'\"].quantile(0.25)\n",
    "Q3 = data[\"S1'\"].quantile(0.75)\n",
    "IQR = iqr(data[\"S1'\"])\n",
    "data[\"S1'\"]=data[\"S1'\"].apply(lambda x: iqr_outliers(x))\n",
    "\n",
    "# Plotting box plots for identifying outliers\n",
    "plt.boxplot(data[\"S1'\"])"
   ]
  },
  {
   "cell_type": "code",
   "execution_count": 13,
   "metadata": {},
   "outputs": [
    {
     "data": {
      "text/plain": [
       "{'whiskers': [<matplotlib.lines.Line2D at 0x7f66ea72eb00>,\n",
       "  <matplotlib.lines.Line2D at 0x7f66ea72ee48>],\n",
       " 'caps': [<matplotlib.lines.Line2D at 0x7f66ea7391d0>,\n",
       "  <matplotlib.lines.Line2D at 0x7f66ea739518>],\n",
       " 'boxes': [<matplotlib.lines.Line2D at 0x7f66ea72e9b0>],\n",
       " 'medians': [<matplotlib.lines.Line2D at 0x7f66ea739860>],\n",
       " 'fliers': [<matplotlib.lines.Line2D at 0x7f66ea739ba8>],\n",
       " 'means': []}"
      ]
     },
     "execution_count": 13,
     "metadata": {},
     "output_type": "execute_result"
    },
    {
     "data": {
      "image/png": "[encoded data removed]",
      "text/plain": [
       "<Figure size 432x288 with 1 Axes>"
      ]
     },
     "metadata": {},
     "output_type": "display_data"
    }
   ],
   "source": [
    "Q1 = data[\"S2'\"].quantile(0.25)\n",
    "Q3 = data[\"S2'\"].quantile(0.75)\n",
    "IQR = iqr(data[\"S2'\"])\n",
    "data[\"S2'\"]=data[\"S2'\"].apply(lambda x: iqr_outliers(x))\n",
    "\n",
    "# Plotting box plots for identifying outliers\n",
    "plt.boxplot(data[\"S2'\"])"
   ]
  },
  {
   "cell_type": "code",
   "execution_count": 14,
   "metadata": {},
   "outputs": [
    {
     "data": {
      "text/plain": [
       "{'whiskers': [<matplotlib.lines.Line2D at 0x7f66ea713160>,\n",
       "  <matplotlib.lines.Line2D at 0x7f66ea7134a8>],\n",
       " 'caps': [<matplotlib.lines.Line2D at 0x7f66ea7137f0>,\n",
       "  <matplotlib.lines.Line2D at 0x7f66ea713b38>],\n",
       " 'boxes': [<matplotlib.lines.Line2D at 0x7f66ea70afd0>],\n",
       " 'medians': [<matplotlib.lines.Line2D at 0x7f66ea713e80>],\n",
       " 'fliers': [<matplotlib.lines.Line2D at 0x7f66ea69e208>],\n",
       " 'means': []}"
      ]
     },
     "execution_count": 14,
     "metadata": {},
     "output_type": "execute_result"
    },
    {
     "data": {
      "image/png": "[encoded data removed]",
      "text/plain": [
       "<Figure size 432x288 with 1 Axes>"
      ]
     },
     "metadata": {},
     "output_type": "display_data"
    }
   ],
   "source": [
    "Q1 = data[\"S3'\"].quantile(0.25)\n",
    "Q3 = data[\"S3'\"].quantile(0.75)\n",
    "IQR = iqr(data[\"S3'\"])\n",
    "data[\"S3'\"]=data[\"S3'\"].apply(lambda x: iqr_outliers(x))\n",
    "\n",
    "# Plotting box plots for identifying outliers\n",
    "plt.boxplot(data[\"S3'\"])"
   ]
  },
  {
   "cell_type": "code",
   "execution_count": 16,
   "metadata": {},
   "outputs": [
    {
     "data": {
      "text/plain": [
       "C1     115.363270\n",
       "C2       0.863636\n",
       "C4       0.007342\n",
       "C7     154.910100\n",
       "C3'      0.529326\n",
       "C5'      3.853964\n",
       "C6'    588.819648\n",
       "T3'      0.895960\n",
       "T4'      0.628948\n",
       "T5'      0.052013\n",
       "S1'      0.005205\n",
       "S2'      0.008789\n",
       "S3'      0.011299\n",
       "dtype: float64"
      ]
     },
     "execution_count": 16,
     "metadata": {},
     "output_type": "execute_result"
    }
   ],
   "source": [
    "# Checking the mean after fixing outliers\n",
    "data.mean()"
   ]
  },
  {
   "cell_type": "code",
   "execution_count": 15,
   "metadata": {},
   "outputs": [],
   "source": [
    "# Exporting Outliers to csv file\n",
    "data.to_csv(\"ReadyDF_Outliers\",\",\")"
   ]
  },
  {
   "cell_type": "code",
   "execution_count": null,
   "metadata": {},
   "outputs": [],
   "source": []
  }
 ],
 "metadata": {
  "kernelspec": {
   "display_name": "Python 3",
   "language": "python",
   "name": "python3"
  },
  "language_info": {
   "codemirror_mode": {
    "name": "ipython",
    "version": 3
   },
   "file_extension": ".py",
   "mimetype": "text/x-python",
   "name": "python",
   "nbconvert_exporter": "python",
   "pygments_lexer": "ipython3",
   "version": "3.6.5"
  }
 },
 "nbformat": 4,
 "nbformat_minor": 2
}
