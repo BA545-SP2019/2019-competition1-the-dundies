{
 "cells": [
  {
   "cell_type": "markdown",
   "metadata": {},
   "source": [
    "# Competition 1 #"
   ]
  },
  {
   "cell_type": "markdown",
   "metadata": {},
   "source": [
    "#### Research Question & Goal ####\n",
    "\n",
    "What are the determinants of the IPO underpricing phenomena? It is our job as a group to understand and identify the underlying determinants that factor into IPO underpricing."
   ]
  },
  {
   "cell_type": "markdown",
   "metadata": {},
   "source": [
    "### Business Understanding ###\n",
    "\n",
    "According to Investopedia.com, Underpricing is the listing of an intial public offering (IPO) below its market value. When the offer price of the stock is lower than the price of the first trade, the stock is considered to be underpriced. This will only last for a short amount of time, as the demand of the stock is going to drive it back up to its value.\n",
    "\n",
    "From a company standpoint, they wish to have the intial public offering as high as possible, which in turn raises the most capital. The quantitative factors that go into an initial public offering are all financial analysis reports from the company itself. Before the IPO, the company will be analyzed by its sales, expenses, earnings, and cash flow. Furthermore, a company's earnings and expected earnings growth are the biggest factors in the IPO. Marketability in a specific industry and the general market also can drive an IPO up or down.\n",
    "\n",
    "Once the investment bankers or IPO underwriters determine the IPO price of the company's stock, the day before the stock is offered publically, the company will market the IPO to potential investors. For historical purposes, IPOs are viewed as risky investments because of the lack of historical data that is collected on them. The less liquidity that the stock/company has and predicatble IPO shares are going to be, the more likely they are going to be underprices to compensate for assumed risk. Company's also underprice their IPO to entice more investors to buy stocks to raise more capital.\n",
    "\n",
    "With all of this information about intial public offerings, is there a few determinants that can be identified as to why the phenomenon of underpricing exists? The dataset that we have been provided provide information about companies and information regarding their IPO, such as IPO Offering, IPO Characteristics, Textual Characterisitics, Sentiment Characteristics, Target Variables, Control Variables, and IPO Identifiers.\n",
    "\n",
    "The variables that have been provided are listed below:\n",
    "\n",
    " - P(IPO) - Offer Price\n",
    " - P(H) - Price Range Higher Bound\n",
    " - P(L) - Price Range Lower Bound\n",
    " - P(1Day) - First Day Trading Price\n",
    " - C1 - Days\n",
    " - C2 - Top-Tier Dummy\n",
    " - C3 - Earnings per Share\n",
    " - C4 - Prior NASDAQ 15-Day Returns\n",
    " - C5 - Outstanding Shares\n",
    " - C6 - Offering Shares\n",
    " - C7 - Sales\n",
    " - T1 - Number of Sentences\n",
    " - T2 - Number of Words\n",
    " - T3 - Number of Real Words\n",
    " - T4 - Number of Long Sentences\n",
    " - T5 - Number of Long Words\n",
    " - S1 - Number of Positive Words\n",
    " - S2 - Number of Negative Words\n",
    " - S3 - Number of Uncertain Words\n",
    " - Y1 - Pre-IPO Price Revision\n",
    " - Y2 - Post-IPO Initial Return\n",
    " - C3' - Positive EPS Dummy\n",
    " - C5' - Share Overhang\n",
    " - C6' - Up Revision\n",
    " - I1 - Ticker\n",
    " - I2 - Company Name\n",
    " - I3 - Standard Industry Classifier"
   ]
  },
  {
   "cell_type": "markdown",
   "metadata": {},
   "source": [
    "## Data Understanding ##"
   ]
  },
  {
   "cell_type": "code",
   "execution_count": 1,
   "metadata": {},
   "outputs": [],
   "source": [
    "# Importing useful packages\n",
    "import pandas as pd\n",
    "import numpy as np\n",
    "import matplotlib.pyplot as plt\n",
    "import seaborn as sns\n",
    "from scipy.stats import kurtosis, skew\n",
    "from sklearn import datasets\n",
    "from scipy.stats import iqr\n",
    "from sklearn import preprocessing\n",
    "\n",
    "# Read in the .xlsx datafile and converting into a DataFrame\n",
    "data = pd.read_excel(\"../2019-competition1-the-dundies/Competition1_raw_data.xlsx\",header=0,na_values=\"-\")\n",
    "df_data = pd.DataFrame(data)"
   ]
  },
  {
   "cell_type": "code",
   "execution_count": 2,
   "metadata": {},
   "outputs": [
    {
     "name": "stdout",
     "output_type": "stream",
     "text": [
      "     I1                                  I2    I3  P(IPO)  P(H)  P(L)  \\\n",
      "0  AATI  ADVANCED ANALOGIC TECHNOLOGIES INC  3674    10.0   9.5   8.5   \n",
      "1  ABPI     ACCENTIA BIOPHARMACEUTICALS INC  2834     8.0  10.0   8.0   \n",
      "2  ACAD          ACADIA PHARMACEUTICALS INC  2834     7.0  14.0  12.0   \n",
      "3  ACHN       ACHILLION PHARMACEUTICALS INC  2834    11.5  16.0  14.0   \n",
      "4  ACLI     AMERICAN COMMERCIAL LINES INC.   4492    21.0  21.0  19.0   \n",
      "\n",
      "     P(1Day)     C1   C2    C3  ...            C6       C7     T1       T2  \\\n",
      "0  11.870000  122.0  1.0  3.43  ...    10600000.0   51.345  470.0  12719.0   \n",
      "1   7.250000  259.0  0.0 -1.62  ...     2400000.0   25.936  791.0  21792.0   \n",
      "2   6.700000   90.0  1.0 -1.24  ...     5000000.0    7.378  201.0   5262.0   \n",
      "3  12.390000  209.0  1.0 -0.91  ...     4500000.0    8.526  328.0   8259.0   \n",
      "4  56.599998   80.0  1.0  0.07  ...     8250000.0  632.298  572.0  14830.0   \n",
      "\n",
      "        T3     T4      T5    S1     S2     S3  \n",
      "0  11560.0  301.0   690.0  62.0  117.0  139.0  \n",
      "1  19585.0  510.0  1120.0  71.0  242.0  237.0  \n",
      "2   4785.0  128.0   325.0  61.0   33.0   60.0  \n",
      "3   7574.0  177.0   509.0  80.0   59.0  110.0  \n",
      "4  13176.0  336.0   720.0  67.0  149.0  167.0  \n",
      "\n",
      "[5 rows x 22 columns]\n"
     ]
    }
   ],
   "source": [
    "# Understanding the datatypes for the features\n",
    "print(df_data.head())"
   ]
  },
  {
   "cell_type": "markdown",
   "metadata": {},
   "source": [
    "__We will remove the column headers that have parentheses in them to underscores, as it will be easier to reference those columns.__"
   ]
  },
  {
   "cell_type": "code",
   "execution_count": 3,
   "metadata": {},
   "outputs": [
    {
     "name": "stdout",
     "output_type": "stream",
     "text": [
      "     I1                                  I2    I3  P_IPO   P_H   P_L  \\\n",
      "0  AATI  ADVANCED ANALOGIC TECHNOLOGIES INC  3674   10.0   9.5   8.5   \n",
      "1  ABPI     ACCENTIA BIOPHARMACEUTICALS INC  2834    8.0  10.0   8.0   \n",
      "2  ACAD          ACADIA PHARMACEUTICALS INC  2834    7.0  14.0  12.0   \n",
      "3  ACHN       ACHILLION PHARMACEUTICALS INC  2834   11.5  16.0  14.0   \n",
      "4  ACLI     AMERICAN COMMERCIAL LINES INC.   4492   21.0  21.0  19.0   \n",
      "\n",
      "      P_1Day     C1   C2    C3  ...            C6       C7     T1       T2  \\\n",
      "0  11.870000  122.0  1.0  3.43  ...    10600000.0   51.345  470.0  12719.0   \n",
      "1   7.250000  259.0  0.0 -1.62  ...     2400000.0   25.936  791.0  21792.0   \n",
      "2   6.700000   90.0  1.0 -1.24  ...     5000000.0    7.378  201.0   5262.0   \n",
      "3  12.390000  209.0  1.0 -0.91  ...     4500000.0    8.526  328.0   8259.0   \n",
      "4  56.599998   80.0  1.0  0.07  ...     8250000.0  632.298  572.0  14830.0   \n",
      "\n",
      "        T3     T4      T5    S1     S2     S3  \n",
      "0  11560.0  301.0   690.0  62.0  117.0  139.0  \n",
      "1  19585.0  510.0  1120.0  71.0  242.0  237.0  \n",
      "2   4785.0  128.0   325.0  61.0   33.0   60.0  \n",
      "3   7574.0  177.0   509.0  80.0   59.0  110.0  \n",
      "4  13176.0  336.0   720.0  67.0  149.0  167.0  \n",
      "\n",
      "[5 rows x 22 columns]\n"
     ]
    }
   ],
   "source": [
    "# Renaming Column Headers with '()' in it\n",
    "cols = ['I1','I2','I3','P_IPO','P_H','P_L','P_1Day','C1','C2','C3','C4','C5','C6','C7','T1','T2','T3','T4','T5','S1','S2','S3']\n",
    "\n",
    "# Define columns of 'df_data' using 'cols'\n",
    "df_data.columns = cols\n",
    "\n",
    "# Displaying the first 5 rows of dataframe 'df_data'\n",
    "# it should show 22 columns\n",
    "print(df_data.head())"
   ]
  },
  {
   "cell_type": "code",
   "execution_count": 4,
   "metadata": {},
   "outputs": [
    {
     "name": "stdout",
     "output_type": "stream",
     "text": [
      "            P_IPO         P_H         P_L       P_1Day           C1  \\\n",
      "count  677.000000  672.000000  672.000000   660.000000   660.000000   \n",
      "mean    13.837666   15.481190   13.515045    25.934766   149.728788   \n",
      "std      6.053731    6.653429    5.835646    73.234948   152.817467   \n",
      "min      3.000000    0.000000    3.000000     0.000000    10.000000   \n",
      "25%     10.000000   12.500000   11.000000    11.000000    85.000000   \n",
      "50%     13.500000   15.000000   13.000000    14.845000   107.000000   \n",
      "75%     17.000000   17.000000   15.000000    20.485000   155.250000   \n",
      "max     85.000000  135.000000  108.000000  1159.200562  2087.000000   \n",
      "\n",
      "               C2           C3          C4            C5            C6  \\\n",
      "count  660.000000   646.000000  660.000000  6.760000e+02  6.760000e+02   \n",
      "mean     0.859091     1.788904    0.007282  4.935776e+07  1.241519e+07   \n",
      "std      0.348192   162.666532    0.033318  1.043764e+08  2.512855e+07   \n",
      "min      0.000000  -786.239000   -0.162352  3.693227e+06  5.250000e+05   \n",
      "25%      1.000000    -0.852500   -0.013927  1.871417e+07  5.000000e+06   \n",
      "50%      1.000000     0.010000    0.009125  2.740018e+07  7.398704e+06   \n",
      "75%      1.000000     0.470000    0.031571  4.980786e+07  1.200000e+07   \n",
      "max      1.000000  3864.500000    0.092896  2.138085e+09  4.212336e+08   \n",
      "\n",
      "                 C7           T1            T2            T3           T4  \\\n",
      "count    610.000000   681.000000    681.000000    681.000000   681.000000   \n",
      "mean     500.459962   465.634361  12758.606461  11395.844347   294.353891   \n",
      "std     1648.337634   175.741647   5449.644597   4839.670179   121.532637   \n",
      "min        0.074000   132.000000      0.000000      0.000000     0.000000   \n",
      "25%       37.245750   351.000000   9195.000000   8162.000000   213.000000   \n",
      "50%      103.833000   444.000000  12045.000000  10785.000000   279.000000   \n",
      "75%      331.138000   551.000000  15241.000000  13760.000000   354.000000   \n",
      "max    30683.000000  1750.000000  49056.000000  43952.000000  1058.000000   \n",
      "\n",
      "                 T5          S1          S2          S3  \n",
      "count    681.000000  681.000000  681.000000  681.000000  \n",
      "mean     679.220264   68.421439  120.104258  144.759178  \n",
      "std      472.914323   39.096525   84.828959   69.276285  \n",
      "min       -1.000000   -1.000000   20.000000   26.000000  \n",
      "25%      462.000000   45.000000   73.000000  100.000000  \n",
      "50%      624.000000   60.000000  100.000000  134.000000  \n",
      "75%      795.000000   85.000000  142.000000  173.000000  \n",
      "max    10277.000000  309.000000  944.000000  883.000000  \n"
     ]
    }
   ],
   "source": [
    "# Describing the Data\n",
    "print(df_data.describe())"
   ]
  },
  {
   "cell_type": "code",
   "execution_count": 5,
   "metadata": {},
   "outputs": [
    {
     "name": "stdout",
     "output_type": "stream",
     "text": [
      "I1         object\n",
      "I2         object\n",
      "I3         object\n",
      "P_IPO     float64\n",
      "P_H       float64\n",
      "P_L       float64\n",
      "P_1Day    float64\n",
      "C1        float64\n",
      "C2        float64\n",
      "C3        float64\n",
      "C4        float64\n",
      "C5        float64\n",
      "C6        float64\n",
      "C7        float64\n",
      "T1        float64\n",
      "T2        float64\n",
      "T3        float64\n",
      "T4        float64\n",
      "T5        float64\n",
      "S1        float64\n",
      "S2        float64\n",
      "S3        float64\n",
      "dtype: object\n"
     ]
    }
   ],
   "source": [
    "# Defining the Data Types of the Data\n",
    "print(df_data.dtypes)"
   ]
  },
  {
   "cell_type": "code",
   "execution_count": 6,
   "metadata": {},
   "outputs": [
    {
     "data": {
      "text/html": [
       "<div>\n",
       "<style scoped>\n",
       "    .dataframe tbody tr th:only-of-type {\n",
       "        vertical-align: middle;\n",
       "    }\n",
       "\n",
       "    .dataframe tbody tr th {\n",
       "        vertical-align: top;\n",
       "    }\n",
       "\n",
       "    .dataframe thead th {\n",
       "        text-align: right;\n",
       "    }\n",
       "</style>\n",
       "<table border=\"1\" class=\"dataframe\">\n",
       "  <thead>\n",
       "    <tr style=\"text-align: right;\">\n",
       "      <th></th>\n",
       "      <th>I1</th>\n",
       "      <th>I2</th>\n",
       "      <th>I3</th>\n",
       "      <th>P_IPO</th>\n",
       "      <th>P_H</th>\n",
       "      <th>P_L</th>\n",
       "      <th>P_1Day</th>\n",
       "      <th>C1</th>\n",
       "      <th>C2</th>\n",
       "      <th>C3</th>\n",
       "      <th>...</th>\n",
       "      <th>C6</th>\n",
       "      <th>C7</th>\n",
       "      <th>T1</th>\n",
       "      <th>T2</th>\n",
       "      <th>T3</th>\n",
       "      <th>T4</th>\n",
       "      <th>T5</th>\n",
       "      <th>S1</th>\n",
       "      <th>S2</th>\n",
       "      <th>S3</th>\n",
       "    </tr>\n",
       "  </thead>\n",
       "  <tbody>\n",
       "    <tr>\n",
       "      <th>174</th>\n",
       "      <td>DLB</td>\n",
       "      <td>Dolby Laboratories, Inc.</td>\n",
       "      <td>6794, 3861, 3663, 7819</td>\n",
       "      <td>18.0</td>\n",
       "      <td>18.0</td>\n",
       "      <td>16.0</td>\n",
       "      <td>24.299999</td>\n",
       "      <td>90.0</td>\n",
       "      <td>1.0</td>\n",
       "      <td>0.47</td>\n",
       "      <td>...</td>\n",
       "      <td>27500000.0</td>\n",
       "      <td>289.041</td>\n",
       "      <td>500.0</td>\n",
       "      <td>15288.0</td>\n",
       "      <td>14243.0</td>\n",
       "      <td>360.0</td>\n",
       "      <td>912.0</td>\n",
       "      <td>69.0</td>\n",
       "      <td>122.0</td>\n",
       "      <td>165.0</td>\n",
       "    </tr>\n",
       "  </tbody>\n",
       "</table>\n",
       "<p>1 rows × 22 columns</p>\n",
       "</div>"
      ],
      "text/plain": [
       "      I1                         I2                      I3  P_IPO   P_H  \\\n",
       "174  DLB  Dolby Laboratories, Inc.   6794, 3861, 3663, 7819   18.0  18.0   \n",
       "\n",
       "      P_L     P_1Day    C1   C2    C3  ...            C6       C7     T1  \\\n",
       "174  16.0  24.299999  90.0  1.0  0.47  ...    27500000.0  289.041  500.0   \n",
       "\n",
       "          T2       T3     T4     T5    S1     S2     S3  \n",
       "174  15288.0  14243.0  360.0  912.0  69.0  122.0  165.0  \n",
       "\n",
       "[1 rows x 22 columns]"
      ]
     },
     "execution_count": 6,
     "metadata": {},
     "output_type": "execute_result"
    }
   ],
   "source": [
    "# Changing column `I3` to a float for binning in the future\n",
    "df_data.I3.astype(str)\n",
    "df_data.loc[(df_data.I1 == 'UPG')]\n",
    "df_data.loc[(df_data.I1 == 'DTSI')]\n",
    "df_data.loc[(df_data.I1 == 'RLD')]\n",
    "df_data.loc[(df_data.I1 == 'DLB')]"
   ]
  },
  {
   "cell_type": "code",
   "execution_count": 7,
   "metadata": {},
   "outputs": [
    {
     "data": {
      "text/plain": [
       "0      3674.0\n",
       "1      2834.0\n",
       "2      2834.0\n",
       "3      2834.0\n",
       "4      4492.0\n",
       "5      7379.0\n",
       "6      2836.0\n",
       "7      2834.0\n",
       "8      7372.0\n",
       "9      3714.0\n",
       "10        NaN\n",
       "11     2854.0\n",
       "12     2835.0\n",
       "13     2834.0\n",
       "14     3845.0\n",
       "15     7389.0\n",
       "16     5047.0\n",
       "17     3568.0\n",
       "18     3661.0\n",
       "19     4512.0\n",
       "20     2834.0\n",
       "21     2911.0\n",
       "22     8099.0\n",
       "23     2834.0\n",
       "24     2836.0\n",
       "25     2834.0\n",
       "26     3674.0\n",
       "27     3674.0\n",
       "28     4931.0\n",
       "29     2834.0\n",
       "        ...  \n",
       "652    4953.0\n",
       "653    6324.0\n",
       "654    2834.0\n",
       "655    7372.0\n",
       "656    7389.0\n",
       "657    8711.0\n",
       "658    2869.0\n",
       "659    1311.0\n",
       "660    7359.0\n",
       "661    7929.0\n",
       "662    2911.0\n",
       "663    7011.0\n",
       "664    7372.0\n",
       "665    7389.0\n",
       "666    1311.0\n",
       "667    2834.0\n",
       "668    2835.0\n",
       "669    8742.0\n",
       "670    2221.0\n",
       "671    3841.0\n",
       "672    1311.0\n",
       "673    7389.0\n",
       "674    4911.0\n",
       "675    2834.0\n",
       "676    3341.0\n",
       "677    7514.0\n",
       "678    3845.0\n",
       "679    3663.0\n",
       "680    5600.0\n",
       "681    2510.0\n",
       "Name: I3, Length: 682, dtype: float64"
      ]
     },
     "execution_count": 7,
     "metadata": {},
     "output_type": "execute_result"
    }
   ],
   "source": [
    "# Imputing for column `I3` due to its multiple values for certain rows\n",
    "df_data.loc[(df_data.index[620]), 'I3']=7389\n",
    "df_data.loc[(df_data.index[499]), 'I3']=3663\n",
    "df_data.loc[(df_data.index[187]), 'I3']=3651\n",
    "df_data.loc[(df_data.index[174]), 'I3']=6794\n",
    "# Changing column `I3` to float datatype\n",
    "df_data.I3.astype(float)"
   ]
  },
  {
   "cell_type": "markdown",
   "metadata": {},
   "source": [
    "### Understanding Missing Values ###\n",
    "\n",
    "Upon intial investigation, there seem to be no missing values, which is great.\n",
    "\n",
    "But doing some further digging, there are missing values, but the 'for loop', it does not pick up on dashes/hyphens. To show that there are missing values in the dataset."
   ]
  },
  {
   "cell_type": "code",
   "execution_count": 8,
   "metadata": {},
   "outputs": [
    {
     "name": "stdout",
     "output_type": "stream",
     "text": [
      "I1 0\n",
      "I2 0\n",
      "I3 8\n",
      "P_IPO 5\n",
      "P_H 10\n",
      "P_L 10\n",
      "P_1Day 22\n",
      "C1 22\n",
      "C2 22\n",
      "C3 36\n",
      "C4 22\n",
      "C5 6\n",
      "C6 6\n",
      "C7 72\n",
      "T1 1\n",
      "T2 1\n",
      "T3 1\n",
      "T4 1\n",
      "T5 1\n",
      "S1 1\n",
      "S2 1\n",
      "S3 1\n"
     ]
    }
   ],
   "source": [
    "# Creating an empty list for column names\n",
    "names = []\n",
    "\n",
    "# Creating an empty list for the number of null values in each column\n",
    "values = []\n",
    "\n",
    "# Checking for Missing Values\n",
    "for col in df_data.columns:\n",
    "    names.append(col)\n",
    "    values.append(df_data[col].isnull().sum())\n",
    "    print(names[-1],values[-1])"
   ]
  },
  {
   "cell_type": "code",
   "execution_count": 9,
   "metadata": {},
   "outputs": [
    {
     "data": {
      "text/plain": [
       "Text(0, 0.5, 'Count of Missing Value')"
      ]
     },
     "execution_count": 9,
     "metadata": {},
     "output_type": "execute_result"
    },
    {
     "data": {
      "image/png": "[encoded data removed]",
      "text/plain": [
       "<Figure size 432x288 with 1 Axes>"
      ]
     },
     "metadata": {},
     "output_type": "display_data"
    }
   ],
   "source": [
    "# Creating a graph to visulize missing values\n",
    "missing_values = df_data.isnull().sum()\n",
    "missing_values = missing_values[missing_values > 0]\n",
    "missing_values.sort_values(inplace=True)\n",
    "missing_values.plot.bar()\n",
    "\n",
    "# Adding peripherials to graph\n",
    "plt.title('Missing Values')\n",
    "plt.xlabel('Feature')\n",
    "plt.ylabel('Count of Missing Value')"
   ]
  },
  {
   "cell_type": "markdown",
   "metadata": {},
   "source": [
    "##### More Missing Values ####\n",
    "\n",
    "There are only two columns `I1` and `I2` that do not have any \"hyphens\" or missing values."
   ]
  },
  {
   "cell_type": "markdown",
   "metadata": {},
   "source": [
    "The issue that we have now is how to deal with these missing values.\n",
    "\n",
    "It is unique to see that columns `T1` through `S3` all have 1 missing value. Is it safe to assume that the individual missing values from those columns all belong to one record? Possibly. We will have to identify that one record if that is the case."
   ]
  },
  {
   "cell_type": "markdown",
   "metadata": {},
   "source": [
    "#### Imputing Missing Values ####\n",
    "\n",
    "We are going to start by imputing values 1 column at a time, as not all the columns will call for the same imputation.\n",
    "\n",
    "We will begin with column `I3`, as we can find the SIC code online through multiple websites for cross-checking and validation."
   ]
  },
  {
   "cell_type": "code",
   "execution_count": 10,
   "metadata": {},
   "outputs": [
    {
     "data": {
      "text/html": [
       "<div>\n",
       "<style scoped>\n",
       "    .dataframe tbody tr th:only-of-type {\n",
       "        vertical-align: middle;\n",
       "    }\n",
       "\n",
       "    .dataframe tbody tr th {\n",
       "        vertical-align: top;\n",
       "    }\n",
       "\n",
       "    .dataframe thead th {\n",
       "        text-align: right;\n",
       "    }\n",
       "</style>\n",
       "<table border=\"1\" class=\"dataframe\">\n",
       "  <thead>\n",
       "    <tr style=\"text-align: right;\">\n",
       "      <th></th>\n",
       "      <th>I1</th>\n",
       "      <th>I2</th>\n",
       "      <th>I3</th>\n",
       "      <th>P_IPO</th>\n",
       "      <th>P_H</th>\n",
       "      <th>P_L</th>\n",
       "      <th>P_1Day</th>\n",
       "      <th>C1</th>\n",
       "      <th>C2</th>\n",
       "      <th>C3</th>\n",
       "      <th>...</th>\n",
       "      <th>C6</th>\n",
       "      <th>C7</th>\n",
       "      <th>T1</th>\n",
       "      <th>T2</th>\n",
       "      <th>T3</th>\n",
       "      <th>T4</th>\n",
       "      <th>T5</th>\n",
       "      <th>S1</th>\n",
       "      <th>S2</th>\n",
       "      <th>S3</th>\n",
       "    </tr>\n",
       "  </thead>\n",
       "  <tbody>\n",
       "    <tr>\n",
       "      <th>10</th>\n",
       "      <td>ADKU</td>\n",
       "      <td>ADCARE HEALTH SYSTEMS, INC</td>\n",
       "      <td>NaN</td>\n",
       "      <td>NaN</td>\n",
       "      <td>NaN</td>\n",
       "      <td>NaN</td>\n",
       "      <td>NaN</td>\n",
       "      <td>NaN</td>\n",
       "      <td>NaN</td>\n",
       "      <td>NaN</td>\n",
       "      <td>...</td>\n",
       "      <td>NaN</td>\n",
       "      <td>NaN</td>\n",
       "      <td>332.0</td>\n",
       "      <td>7534.0</td>\n",
       "      <td>6747.0</td>\n",
       "      <td>169.0</td>\n",
       "      <td>263.0</td>\n",
       "      <td>51.0</td>\n",
       "      <td>65.0</td>\n",
       "      <td>74.0</td>\n",
       "    </tr>\n",
       "    <tr>\n",
       "      <th>86</th>\n",
       "      <td>BLT</td>\n",
       "      <td>BLOUNT INTERNATIONAL INC</td>\n",
       "      <td>NaN</td>\n",
       "      <td>NaN</td>\n",
       "      <td>NaN</td>\n",
       "      <td>NaN</td>\n",
       "      <td>NaN</td>\n",
       "      <td>NaN</td>\n",
       "      <td>NaN</td>\n",
       "      <td>NaN</td>\n",
       "      <td>...</td>\n",
       "      <td>NaN</td>\n",
       "      <td>NaN</td>\n",
       "      <td>538.0</td>\n",
       "      <td>12732.0</td>\n",
       "      <td>11126.0</td>\n",
       "      <td>301.0</td>\n",
       "      <td>631.0</td>\n",
       "      <td>94.0</td>\n",
       "      <td>172.0</td>\n",
       "      <td>116.0</td>\n",
       "    </tr>\n",
       "    <tr>\n",
       "      <th>268</th>\n",
       "      <td>GSL</td>\n",
       "      <td>GLOBAL SIGNAL INC</td>\n",
       "      <td>NaN</td>\n",
       "      <td>18.0</td>\n",
       "      <td>NaN</td>\n",
       "      <td>NaN</td>\n",
       "      <td>NaN</td>\n",
       "      <td>NaN</td>\n",
       "      <td>NaN</td>\n",
       "      <td>NaN</td>\n",
       "      <td>...</td>\n",
       "      <td>7000000.0</td>\n",
       "      <td>NaN</td>\n",
       "      <td>631.0</td>\n",
       "      <td>19479.0</td>\n",
       "      <td>17409.0</td>\n",
       "      <td>451.0</td>\n",
       "      <td>976.0</td>\n",
       "      <td>71.0</td>\n",
       "      <td>252.0</td>\n",
       "      <td>155.0</td>\n",
       "    </tr>\n",
       "    <tr>\n",
       "      <th>330</th>\n",
       "      <td>KFI</td>\n",
       "      <td>KKR Financial Holdings LLC</td>\n",
       "      <td>NaN</td>\n",
       "      <td>NaN</td>\n",
       "      <td>NaN</td>\n",
       "      <td>NaN</td>\n",
       "      <td>NaN</td>\n",
       "      <td>NaN</td>\n",
       "      <td>NaN</td>\n",
       "      <td>NaN</td>\n",
       "      <td>...</td>\n",
       "      <td>NaN</td>\n",
       "      <td>NaN</td>\n",
       "      <td>246.0</td>\n",
       "      <td>527.0</td>\n",
       "      <td>9046.0</td>\n",
       "      <td>355.0</td>\n",
       "      <td>10277.0</td>\n",
       "      <td>64.0</td>\n",
       "      <td>48.0</td>\n",
       "      <td>123.0</td>\n",
       "    </tr>\n",
       "    <tr>\n",
       "      <th>400</th>\n",
       "      <td>NAUH</td>\n",
       "      <td>National American University Holdings, Inc.</td>\n",
       "      <td>NaN</td>\n",
       "      <td>NaN</td>\n",
       "      <td>NaN</td>\n",
       "      <td>NaN</td>\n",
       "      <td>NaN</td>\n",
       "      <td>NaN</td>\n",
       "      <td>NaN</td>\n",
       "      <td>NaN</td>\n",
       "      <td>...</td>\n",
       "      <td>NaN</td>\n",
       "      <td>NaN</td>\n",
       "      <td>290.0</td>\n",
       "      <td>8454.0</td>\n",
       "      <td>7137.0</td>\n",
       "      <td>192.0</td>\n",
       "      <td>384.0</td>\n",
       "      <td>45.0</td>\n",
       "      <td>68.0</td>\n",
       "      <td>139.0</td>\n",
       "    </tr>\n",
       "    <tr>\n",
       "      <th>490</th>\n",
       "      <td>RCH</td>\n",
       "      <td>CHINA CGAME, INC.</td>\n",
       "      <td>NaN</td>\n",
       "      <td>3.5</td>\n",
       "      <td>NaN</td>\n",
       "      <td>NaN</td>\n",
       "      <td>NaN</td>\n",
       "      <td>NaN</td>\n",
       "      <td>NaN</td>\n",
       "      <td>NaN</td>\n",
       "      <td>...</td>\n",
       "      <td>737000.0</td>\n",
       "      <td>NaN</td>\n",
       "      <td>322.0</td>\n",
       "      <td>9820.0</td>\n",
       "      <td>8893.0</td>\n",
       "      <td>230.0</td>\n",
       "      <td>410.0</td>\n",
       "      <td>61.0</td>\n",
       "      <td>92.0</td>\n",
       "      <td>91.0</td>\n",
       "    </tr>\n",
       "    <tr>\n",
       "      <th>597</th>\n",
       "      <td>TRMM</td>\n",
       "      <td>Access to Money, Inc.</td>\n",
       "      <td>NaN</td>\n",
       "      <td>NaN</td>\n",
       "      <td>NaN</td>\n",
       "      <td>NaN</td>\n",
       "      <td>NaN</td>\n",
       "      <td>NaN</td>\n",
       "      <td>NaN</td>\n",
       "      <td>NaN</td>\n",
       "      <td>...</td>\n",
       "      <td>NaN</td>\n",
       "      <td>NaN</td>\n",
       "      <td>494.0</td>\n",
       "      <td>12004.0</td>\n",
       "      <td>10226.0</td>\n",
       "      <td>277.0</td>\n",
       "      <td>560.0</td>\n",
       "      <td>46.0</td>\n",
       "      <td>100.0</td>\n",
       "      <td>91.0</td>\n",
       "    </tr>\n",
       "    <tr>\n",
       "      <th>614</th>\n",
       "      <td>TZOO</td>\n",
       "      <td>TRAVELZOO INC</td>\n",
       "      <td>NaN</td>\n",
       "      <td>3.5</td>\n",
       "      <td>NaN</td>\n",
       "      <td>NaN</td>\n",
       "      <td>NaN</td>\n",
       "      <td>NaN</td>\n",
       "      <td>NaN</td>\n",
       "      <td>NaN</td>\n",
       "      <td>...</td>\n",
       "      <td>NaN</td>\n",
       "      <td>NaN</td>\n",
       "      <td>146.0</td>\n",
       "      <td>3600.0</td>\n",
       "      <td>3189.0</td>\n",
       "      <td>88.0</td>\n",
       "      <td>181.0</td>\n",
       "      <td>5.0</td>\n",
       "      <td>26.0</td>\n",
       "      <td>38.0</td>\n",
       "    </tr>\n",
       "  </tbody>\n",
       "</table>\n",
       "<p>8 rows × 22 columns</p>\n",
       "</div>"
      ],
      "text/plain": [
       "       I1                                           I2   I3  P_IPO  P_H  P_L  \\\n",
       "10   ADKU                   ADCARE HEALTH SYSTEMS, INC  NaN    NaN  NaN  NaN   \n",
       "86    BLT                     BLOUNT INTERNATIONAL INC  NaN    NaN  NaN  NaN   \n",
       "268   GSL                            GLOBAL SIGNAL INC  NaN   18.0  NaN  NaN   \n",
       "330   KFI                   KKR Financial Holdings LLC  NaN    NaN  NaN  NaN   \n",
       "400  NAUH  National American University Holdings, Inc.  NaN    NaN  NaN  NaN   \n",
       "490   RCH                            CHINA CGAME, INC.  NaN    3.5  NaN  NaN   \n",
       "597  TRMM                       Access to Money, Inc.   NaN    NaN  NaN  NaN   \n",
       "614  TZOO                                TRAVELZOO INC  NaN    3.5  NaN  NaN   \n",
       "\n",
       "     P_1Day  C1  C2  C3  ...           C6  C7     T1       T2       T3     T4  \\\n",
       "10      NaN NaN NaN NaN  ...          NaN NaN  332.0   7534.0   6747.0  169.0   \n",
       "86      NaN NaN NaN NaN  ...          NaN NaN  538.0  12732.0  11126.0  301.0   \n",
       "268     NaN NaN NaN NaN  ...    7000000.0 NaN  631.0  19479.0  17409.0  451.0   \n",
       "330     NaN NaN NaN NaN  ...          NaN NaN  246.0    527.0   9046.0  355.0   \n",
       "400     NaN NaN NaN NaN  ...          NaN NaN  290.0   8454.0   7137.0  192.0   \n",
       "490     NaN NaN NaN NaN  ...     737000.0 NaN  322.0   9820.0   8893.0  230.0   \n",
       "597     NaN NaN NaN NaN  ...          NaN NaN  494.0  12004.0  10226.0  277.0   \n",
       "614     NaN NaN NaN NaN  ...          NaN NaN  146.0   3600.0   3189.0   88.0   \n",
       "\n",
       "          T5    S1     S2     S3  \n",
       "10     263.0  51.0   65.0   74.0  \n",
       "86     631.0  94.0  172.0  116.0  \n",
       "268    976.0  71.0  252.0  155.0  \n",
       "330  10277.0  64.0   48.0  123.0  \n",
       "400    384.0  45.0   68.0  139.0  \n",
       "490    410.0  61.0   92.0   91.0  \n",
       "597    560.0  46.0  100.0   91.0  \n",
       "614    181.0   5.0   26.0   38.0  \n",
       "\n",
       "[8 rows x 22 columns]"
      ]
     },
     "execution_count": 10,
     "metadata": {},
     "output_type": "execute_result"
    }
   ],
   "source": [
    "# Identifying the row that has the missing values for Column 'I3'\n",
    "df_data[df_data['I3'].isnull()]"
   ]
  },
  {
   "cell_type": "code",
   "execution_count": 11,
   "metadata": {},
   "outputs": [],
   "source": [
    "# Imputation for SIC Codes for Column 'I3'\n",
    "df_data.loc[df_data.index[10], 'I3']=8748\n",
    "df_data.loc[df_data.index[86], 'I3']=5251\n",
    "df_data.loc[df_data.index[268], 'I3']=6282\n",
    "df_data.loc[df_data.index[330], 'I3']=7389\n",
    "df_data.loc[df_data.index[400], 'I3']=6211\n",
    "df_data.loc[df_data.index[490], 'I3']=7372\n",
    "df_data.loc[df_data.index[597], 'I3']=6099\n",
    "df_data.loc[df_data.index[614], 'I3']=4724\n",
    "\n",
    "# Redisplaying Column 'I3' checking for missing values after imputing\n",
    "df_data[df_data['I3'].isnull()]\n",
    "\n",
    "# Making the datatype of column `I3` str\n",
    "df_data['I3'].astype(str);"
   ]
  },
  {
   "cell_type": "code",
   "execution_count": 12,
   "metadata": {},
   "outputs": [
    {
     "data": {
      "text/html": [
       "<div>\n",
       "<style scoped>\n",
       "    .dataframe tbody tr th:only-of-type {\n",
       "        vertical-align: middle;\n",
       "    }\n",
       "\n",
       "    .dataframe tbody tr th {\n",
       "        vertical-align: top;\n",
       "    }\n",
       "\n",
       "    .dataframe thead th {\n",
       "        text-align: right;\n",
       "    }\n",
       "</style>\n",
       "<table border=\"1\" class=\"dataframe\">\n",
       "  <thead>\n",
       "    <tr style=\"text-align: right;\">\n",
       "      <th></th>\n",
       "      <th>I1</th>\n",
       "      <th>I2</th>\n",
       "      <th>I3</th>\n",
       "      <th>P_IPO</th>\n",
       "      <th>P_H</th>\n",
       "      <th>P_L</th>\n",
       "      <th>P_1Day</th>\n",
       "      <th>C1</th>\n",
       "      <th>C2</th>\n",
       "      <th>C3</th>\n",
       "      <th>...</th>\n",
       "      <th>C6</th>\n",
       "      <th>C7</th>\n",
       "      <th>T1</th>\n",
       "      <th>T2</th>\n",
       "      <th>T3</th>\n",
       "      <th>T4</th>\n",
       "      <th>T5</th>\n",
       "      <th>S1</th>\n",
       "      <th>S2</th>\n",
       "      <th>S3</th>\n",
       "    </tr>\n",
       "  </thead>\n",
       "  <tbody>\n",
       "  </tbody>\n",
       "</table>\n",
       "<p>0 rows × 22 columns</p>\n",
       "</div>"
      ],
      "text/plain": [
       "Empty DataFrame\n",
       "Columns: [I1, I2, I3, P_IPO, P_H, P_L, P_1Day, C1, C2, C3, C4, C5, C6, C7, T1, T2, T3, T4, T5, S1, S2, S3]\n",
       "Index: []\n",
       "\n",
       "[0 rows x 22 columns]"
      ]
     },
     "execution_count": 12,
     "metadata": {},
     "output_type": "execute_result"
    }
   ],
   "source": [
    "# Imputation for IPO final offering price for 'P_IPO'\n",
    "df_data.loc[df_data.index[10], 'P_IPO']=9.5\n",
    "df_data.loc[df_data.index[86], 'P_IPO']=16.5\n",
    "df_data.loc[df_data.index[330], 'P_IPO']=24.0\n",
    "df_data.loc[df_data.index[400], 'P_IPO']=8.0\n",
    "df_data.loc[df_data.index[597], 'P_IPO']=11.0\n",
    "\n",
    "df_data[df_data['P_IPO'].isnull()]"
   ]
  },
  {
   "cell_type": "code",
   "execution_count": 13,
   "metadata": {},
   "outputs": [],
   "source": [
    "# Imputation for `C7` Sales\n",
    "## We are using the `Mean` for imputing the sales values for column `C7`\n",
    "df_data['C7'].fillna(df_data['C7'].mean(), inplace=True)"
   ]
  },
  {
   "cell_type": "code",
   "execution_count": 14,
   "metadata": {},
   "outputs": [],
   "source": [
    "# Imputing for `P_H` and `P_L`\n",
    "df_data['P_H'].fillna(df_data['P_H'].mean(), inplace=True)\n",
    "df_data['P_L'].fillna(df_data['P_L'].mean(), inplace=True)"
   ]
  },
  {
   "cell_type": "code",
   "execution_count": 15,
   "metadata": {},
   "outputs": [],
   "source": [
    "# Imputing for `P_1Day`\n",
    "## We are using the 'Median' for imputing the P_1Day missing values, as the mean is higher than the median, indicating skewness\n",
    "df_data['P_1Day'].fillna(df_data['P_1Day'].median(), inplace=True)"
   ]
  },
  {
   "cell_type": "code",
   "execution_count": 16,
   "metadata": {},
   "outputs": [],
   "source": [
    "# Imputing for `C1` through `C4`\n",
    "## We are imputing for column `C1` using the median\n",
    "df_data['C1'].fillna(df_data['C1'].median(), inplace=True)\n",
    "\n",
    "## We are imputing for column `C2` using the mode\n",
    "df_data['C2'].fillna(df_data['C2'].mode()[0], inplace=True)\n",
    "\n",
    "## We are imputing for column `C3` using the mean\n",
    "df_data['C3'].fillna(df_data['C3'].mean(), inplace=True)\n",
    "\n",
    "## We are imputing for column `C4` using the mean\n",
    "df_data['C4'].fillna(df_data['C4'].mean(), inplace=True)\n",
    "\n",
    "## We are imputing for column `C5` using the mean\n",
    "df_data['C5'].fillna(df_data['C5'].mean(), inplace=True)\n",
    "\n",
    "## We are imputing for column `C6` using the median\n",
    "df_data['C6'].fillna(df_data['C6'].median(), inplace=True)"
   ]
  },
  {
   "cell_type": "code",
   "execution_count": 17,
   "metadata": {},
   "outputs": [
    {
     "data": {
      "text/html": [
       "<div>\n",
       "<style scoped>\n",
       "    .dataframe tbody tr th:only-of-type {\n",
       "        vertical-align: middle;\n",
       "    }\n",
       "\n",
       "    .dataframe tbody tr th {\n",
       "        vertical-align: top;\n",
       "    }\n",
       "\n",
       "    .dataframe thead th {\n",
       "        text-align: right;\n",
       "    }\n",
       "</style>\n",
       "<table border=\"1\" class=\"dataframe\">\n",
       "  <thead>\n",
       "    <tr style=\"text-align: right;\">\n",
       "      <th></th>\n",
       "      <th>I1</th>\n",
       "      <th>I2</th>\n",
       "      <th>I3</th>\n",
       "      <th>P_IPO</th>\n",
       "      <th>P_H</th>\n",
       "      <th>P_L</th>\n",
       "      <th>P_1Day</th>\n",
       "      <th>C1</th>\n",
       "      <th>C2</th>\n",
       "      <th>C3</th>\n",
       "      <th>...</th>\n",
       "      <th>C6</th>\n",
       "      <th>C7</th>\n",
       "      <th>T1</th>\n",
       "      <th>T2</th>\n",
       "      <th>T3</th>\n",
       "      <th>T4</th>\n",
       "      <th>T5</th>\n",
       "      <th>S1</th>\n",
       "      <th>S2</th>\n",
       "      <th>S3</th>\n",
       "    </tr>\n",
       "  </thead>\n",
       "  <tbody>\n",
       "  </tbody>\n",
       "</table>\n",
       "<p>0 rows × 22 columns</p>\n",
       "</div>"
      ],
      "text/plain": [
       "Empty DataFrame\n",
       "Columns: [I1, I2, I3, P_IPO, P_H, P_L, P_1Day, C1, C2, C3, C4, C5, C6, C7, T1, T2, T3, T4, T5, S1, S2, S3]\n",
       "Index: []\n",
       "\n",
       "[0 rows x 22 columns]"
      ]
     },
     "execution_count": 17,
     "metadata": {},
     "output_type": "execute_result"
    }
   ],
   "source": [
    "# Imputation for columns `T1` through `S3`\n",
    "## There is only 1 row that has these missing values in these columns\n",
    "### EURX EURAND N.V.\n",
    "df_data.loc[df_data['T1'].isnull()]\n",
    "\n",
    "# Imputing the values for this row would be the most accurate if we find the data from the year of EURX's IPO (2007)\n",
    "## We will impute the values using the Mean of the columns with missing values\n",
    "df_data['T1'].fillna(df_data['T1'].mean(), inplace=True)\n",
    "df_data['T2'].fillna(df_data['T2'].mean(), inplace=True)\n",
    "df_data['T3'].fillna(df_data['T3'].mean(), inplace=True)\n",
    "df_data['T4'].fillna(df_data['T4'].mean(), inplace=True)\n",
    "df_data['T5'].fillna(df_data['T5'].mean(), inplace=True)\n",
    "df_data['S1'].fillna(df_data['S1'].mean(), inplace=True)\n",
    "df_data['S2'].fillna(df_data['S2'].mean(), inplace=True)\n",
    "df_data['S3'].fillna(df_data['S3'].mean(), inplace=True)\n",
    "\n",
    "# Re-checking to make sure that there is no row with any missing values in column `T1`\n",
    "df_data.loc[df_data['T1'].isnull()]"
   ]
  },
  {
   "cell_type": "code",
   "execution_count": 18,
   "metadata": {},
   "outputs": [
    {
     "data": {
      "text/html": [
       "<div>\n",
       "<style scoped>\n",
       "    .dataframe tbody tr th:only-of-type {\n",
       "        vertical-align: middle;\n",
       "    }\n",
       "\n",
       "    .dataframe tbody tr th {\n",
       "        vertical-align: top;\n",
       "    }\n",
       "\n",
       "    .dataframe thead th {\n",
       "        text-align: right;\n",
       "    }\n",
       "</style>\n",
       "<table border=\"1\" class=\"dataframe\">\n",
       "  <thead>\n",
       "    <tr style=\"text-align: right;\">\n",
       "      <th></th>\n",
       "      <th>I1</th>\n",
       "      <th>I2</th>\n",
       "      <th>I3</th>\n",
       "      <th>P_IPO</th>\n",
       "      <th>P_H</th>\n",
       "      <th>P_L</th>\n",
       "      <th>P_1Day</th>\n",
       "      <th>C1</th>\n",
       "      <th>C2</th>\n",
       "      <th>C3</th>\n",
       "      <th>...</th>\n",
       "      <th>C6</th>\n",
       "      <th>C7</th>\n",
       "      <th>T1</th>\n",
       "      <th>T2</th>\n",
       "      <th>T3</th>\n",
       "      <th>T4</th>\n",
       "      <th>T5</th>\n",
       "      <th>S1</th>\n",
       "      <th>S2</th>\n",
       "      <th>S3</th>\n",
       "    </tr>\n",
       "  </thead>\n",
       "  <tbody>\n",
       "    <tr>\n",
       "      <th>134</th>\n",
       "      <td>COGT</td>\n",
       "      <td>Cogent, inc.</td>\n",
       "      <td>7373</td>\n",
       "      <td>12.0</td>\n",
       "      <td>12.0</td>\n",
       "      <td>10.0</td>\n",
       "      <td>17.98</td>\n",
       "      <td>133.0</td>\n",
       "      <td>1.0</td>\n",
       "      <td>0.14</td>\n",
       "      <td>...</td>\n",
       "      <td>18000000.0</td>\n",
       "      <td>32.179</td>\n",
       "      <td>419.0</td>\n",
       "      <td>10764.0</td>\n",
       "      <td>9856.0</td>\n",
       "      <td>259.0</td>\n",
       "      <td>643.0</td>\n",
       "      <td>-1.0</td>\n",
       "      <td>97.0</td>\n",
       "      <td>134.0</td>\n",
       "    </tr>\n",
       "  </tbody>\n",
       "</table>\n",
       "<p>1 rows × 22 columns</p>\n",
       "</div>"
      ],
      "text/plain": [
       "       I1            I2    I3  P_IPO   P_H   P_L  P_1Day     C1   C2    C3  \\\n",
       "134  COGT  Cogent, inc.  7373   12.0  12.0  10.0   17.98  133.0  1.0  0.14   \n",
       "\n",
       "     ...            C6      C7     T1       T2      T3     T4     T5   S1  \\\n",
       "134  ...    18000000.0  32.179  419.0  10764.0  9856.0  259.0  643.0 -1.0   \n",
       "\n",
       "       S2     S3  \n",
       "134  97.0  134.0  \n",
       "\n",
       "[1 rows x 22 columns]"
      ]
     },
     "execution_count": 18,
     "metadata": {},
     "output_type": "execute_result"
    }
   ],
   "source": [
    "# Checking columns to see if they have values of 0 or less than 0\n",
    "df_data.loc[df_data['T3']<=0]\n",
    "df_data.loc[df_data['T4']<=0]\n",
    "df_data.loc[df_data['T5']<=0]\n",
    "df_data.loc[df_data['S1']<=0]"
   ]
  },
  {
   "cell_type": "code",
   "execution_count": 19,
   "metadata": {},
   "outputs": [],
   "source": [
    "# Fixing vales that are '0' and 'negatives' as they will generate RunTimeErrors in the logtransformations\n",
    "df_data['T3']=df_data.loc[(df_data['T3']<=0)] = df_data['T3'].median()\n",
    "df_data['T4']=df_data.loc[(df_data['T4']<=0)] = df_data['T4'].median()\n",
    "df_data['T5']=df_data.loc[(df_data['T5']<=0)] = df_data['T5'].median()\n",
    "df_data['S1']=df_data.loc[(df_data['S1']<=0)] = df_data['S1'].median()"
   ]
  },
  {
   "cell_type": "code",
   "execution_count": 20,
   "metadata": {},
   "outputs": [],
   "source": [
    "### Create new columns for T and S dividing with T1 and T2\n",
    "df_data[\"C3'\"]=np.where(df_data['C3']>0,1,0)\n",
    "df_data[\"C5'\"]=(df_data['C5']/df_data['C6'])\n",
    "df_data[\"C6'\"]=np.where(df_data['P_IPO']>((df_data['P_H']+df_data['P_L'])/2), (df_data['P_IPO']-(((df_data['P_H']+df_data['P_L'])/2))/((df_data['P_H']+df_data['P_L'])/2))*100,0)\n",
    "df_data[\"T3'\"]=df_data['T3']/df_data['T2']\n",
    "df_data[\"T4'\"]=df_data['T4']/df_data['T1']\n",
    "df_data[\"T5'\"]=df_data['T5']/df_data['T2']\n",
    "df_data[\"S1'\"]=df_data['S1']/df_data['T2']\n",
    "df_data[\"S2'\"]=df_data['S2']/df_data['T2']\n",
    "df_data[\"S3'\"]=df_data['S3']/df_data['T2']"
   ]
  },
  {
   "cell_type": "code",
   "execution_count": 21,
   "metadata": {},
   "outputs": [],
   "source": [
    "### Adding Target Variables\n",
    "df_data['Y1']=np.where(df_data['P_IPO']<((df_data['P_H']+df_data['P_L'])/2),1,0)\n",
    "df_data['Y2']=np.where(df_data['P_IPO']<df_data['P_1Day'],1,0)"
   ]
  },
  {
   "cell_type": "code",
   "execution_count": 22,
   "metadata": {},
   "outputs": [],
   "source": [
    "# Dropping columns that are no longer needed\n",
    "df_data = df_data.drop(['C3','C5','C6'], axis=1)"
   ]
  },
  {
   "cell_type": "code",
   "execution_count": 23,
   "metadata": {},
   "outputs": [
    {
     "name": "stdout",
     "output_type": "stream",
     "text": [
      "     I1                                  I2      I3  P_IPO   P_H   P_L  \\\n",
      "0  AATI  ADVANCED ANALOGIC TECHNOLOGIES INC  3674.0   10.0   9.5   8.5   \n",
      "1  ABPI     ACCENTIA BIOPHARMACEUTICALS INC  2834.0    8.0  10.0   8.0   \n",
      "2  ACAD          ACADIA PHARMACEUTICALS INC  2834.0    7.0  14.0  12.0   \n",
      "3  ACHN       ACHILLION PHARMACEUTICALS INC  2834.0   11.5  16.0  14.0   \n",
      "4  ACLI     AMERICAN COMMERCIAL LINES INC.   4492.0   21.0  21.0  19.0   \n",
      "\n",
      "      P_1Day     C1   C2        C4 ...        C5'     C6'       T3'       T4'  \\\n",
      "0  11.870000  122.0  1.0  0.029074 ...   3.864345   900.0  0.848259  0.594681   \n",
      "1   7.250000  259.0  0.0 -0.013352 ...  12.028832     0.0  0.495090  0.353350   \n",
      "2   6.700000   90.0  1.0  0.020715 ...   3.369134     0.0  2.050361  1.390547   \n",
      "3  12.390000  209.0  1.0  0.020023 ...   3.299697     0.0  1.306332  0.852134   \n",
      "4  56.599998   80.0  1.0 -0.034895 ...   3.726269  2000.0  0.727512  0.488636   \n",
      "\n",
      "        T5'       S1'       S2'       S3'  Y1  Y2  \n",
      "0  0.049100  0.004717  0.009199  0.010929   0   1  \n",
      "1  0.028657  0.002753  0.011105  0.010876   1   0  \n",
      "2  0.118681  0.011403  0.006271  0.011403   1   0  \n",
      "3  0.075614  0.007265  0.007144  0.013319   1   1  \n",
      "4  0.042111  0.004046  0.010047  0.011261   0   1  \n",
      "\n",
      "[5 rows x 30 columns]\n"
     ]
    }
   ],
   "source": [
    "print(df_data.head())"
   ]
  },
  {
   "cell_type": "code",
   "execution_count": 24,
   "metadata": {},
   "outputs": [
    {
     "data": {
      "text/html": [
       "<div>\n",
       "<style scoped>\n",
       "    .dataframe tbody tr th:only-of-type {\n",
       "        vertical-align: middle;\n",
       "    }\n",
       "\n",
       "    .dataframe tbody tr th {\n",
       "        vertical-align: top;\n",
       "    }\n",
       "\n",
       "    .dataframe thead th {\n",
       "        text-align: right;\n",
       "    }\n",
       "</style>\n",
       "<table border=\"1\" class=\"dataframe\">\n",
       "  <thead>\n",
       "    <tr style=\"text-align: right;\">\n",
       "      <th></th>\n",
       "      <th>I1</th>\n",
       "      <th>I2</th>\n",
       "      <th>I3</th>\n",
       "      <th>P_IPO</th>\n",
       "      <th>P_H</th>\n",
       "      <th>P_L</th>\n",
       "      <th>P_1Day</th>\n",
       "      <th>C1</th>\n",
       "      <th>C2</th>\n",
       "      <th>C4</th>\n",
       "      <th>...</th>\n",
       "      <th>C5'</th>\n",
       "      <th>C6'</th>\n",
       "      <th>T3'</th>\n",
       "      <th>T4'</th>\n",
       "      <th>T5'</th>\n",
       "      <th>S1'</th>\n",
       "      <th>S2'</th>\n",
       "      <th>S3'</th>\n",
       "      <th>Y1</th>\n",
       "      <th>Y2</th>\n",
       "    </tr>\n",
       "  </thead>\n",
       "  <tbody>\n",
       "    <tr>\n",
       "      <th>0</th>\n",
       "      <td>AATI</td>\n",
       "      <td>ADVANCED ANALOGIC TECHNOLOGIES INC</td>\n",
       "      <td>3674.0</td>\n",
       "      <td>10.0</td>\n",
       "      <td>9.5</td>\n",
       "      <td>8.5</td>\n",
       "      <td>11.870000</td>\n",
       "      <td>122.0</td>\n",
       "      <td>1.0</td>\n",
       "      <td>0.029074</td>\n",
       "      <td>...</td>\n",
       "      <td>3.864345</td>\n",
       "      <td>900.0</td>\n",
       "      <td>0.848259</td>\n",
       "      <td>0.594681</td>\n",
       "      <td>0.049100</td>\n",
       "      <td>0.004717</td>\n",
       "      <td>0.009199</td>\n",
       "      <td>0.010929</td>\n",
       "      <td>0</td>\n",
       "      <td>1</td>\n",
       "    </tr>\n",
       "    <tr>\n",
       "      <th>1</th>\n",
       "      <td>ABPI</td>\n",
       "      <td>ACCENTIA BIOPHARMACEUTICALS INC</td>\n",
       "      <td>2834.0</td>\n",
       "      <td>8.0</td>\n",
       "      <td>10.0</td>\n",
       "      <td>8.0</td>\n",
       "      <td>7.250000</td>\n",
       "      <td>259.0</td>\n",
       "      <td>0.0</td>\n",
       "      <td>-0.013352</td>\n",
       "      <td>...</td>\n",
       "      <td>12.028832</td>\n",
       "      <td>0.0</td>\n",
       "      <td>0.495090</td>\n",
       "      <td>0.353350</td>\n",
       "      <td>0.028657</td>\n",
       "      <td>0.002753</td>\n",
       "      <td>0.011105</td>\n",
       "      <td>0.010876</td>\n",
       "      <td>1</td>\n",
       "      <td>0</td>\n",
       "    </tr>\n",
       "    <tr>\n",
       "      <th>2</th>\n",
       "      <td>ACAD</td>\n",
       "      <td>ACADIA PHARMACEUTICALS INC</td>\n",
       "      <td>2834.0</td>\n",
       "      <td>7.0</td>\n",
       "      <td>14.0</td>\n",
       "      <td>12.0</td>\n",
       "      <td>6.700000</td>\n",
       "      <td>90.0</td>\n",
       "      <td>1.0</td>\n",
       "      <td>0.020715</td>\n",
       "      <td>...</td>\n",
       "      <td>3.369134</td>\n",
       "      <td>0.0</td>\n",
       "      <td>2.050361</td>\n",
       "      <td>1.390547</td>\n",
       "      <td>0.118681</td>\n",
       "      <td>0.011403</td>\n",
       "      <td>0.006271</td>\n",
       "      <td>0.011403</td>\n",
       "      <td>1</td>\n",
       "      <td>0</td>\n",
       "    </tr>\n",
       "    <tr>\n",
       "      <th>3</th>\n",
       "      <td>ACHN</td>\n",
       "      <td>ACHILLION PHARMACEUTICALS INC</td>\n",
       "      <td>2834.0</td>\n",
       "      <td>11.5</td>\n",
       "      <td>16.0</td>\n",
       "      <td>14.0</td>\n",
       "      <td>12.390000</td>\n",
       "      <td>209.0</td>\n",
       "      <td>1.0</td>\n",
       "      <td>0.020023</td>\n",
       "      <td>...</td>\n",
       "      <td>3.299697</td>\n",
       "      <td>0.0</td>\n",
       "      <td>1.306332</td>\n",
       "      <td>0.852134</td>\n",
       "      <td>0.075614</td>\n",
       "      <td>0.007265</td>\n",
       "      <td>0.007144</td>\n",
       "      <td>0.013319</td>\n",
       "      <td>1</td>\n",
       "      <td>1</td>\n",
       "    </tr>\n",
       "    <tr>\n",
       "      <th>4</th>\n",
       "      <td>ACLI</td>\n",
       "      <td>AMERICAN COMMERCIAL LINES INC.</td>\n",
       "      <td>4492.0</td>\n",
       "      <td>21.0</td>\n",
       "      <td>21.0</td>\n",
       "      <td>19.0</td>\n",
       "      <td>56.599998</td>\n",
       "      <td>80.0</td>\n",
       "      <td>1.0</td>\n",
       "      <td>-0.034895</td>\n",
       "      <td>...</td>\n",
       "      <td>3.726269</td>\n",
       "      <td>2000.0</td>\n",
       "      <td>0.727512</td>\n",
       "      <td>0.488636</td>\n",
       "      <td>0.042111</td>\n",
       "      <td>0.004046</td>\n",
       "      <td>0.010047</td>\n",
       "      <td>0.011261</td>\n",
       "      <td>0</td>\n",
       "      <td>1</td>\n",
       "    </tr>\n",
       "  </tbody>\n",
       "</table>\n",
       "<p>5 rows × 22 columns</p>\n",
       "</div>"
      ],
      "text/plain": [
       "     I1                                  I2      I3  P_IPO   P_H   P_L  \\\n",
       "0  AATI  ADVANCED ANALOGIC TECHNOLOGIES INC  3674.0   10.0   9.5   8.5   \n",
       "1  ABPI     ACCENTIA BIOPHARMACEUTICALS INC  2834.0    8.0  10.0   8.0   \n",
       "2  ACAD          ACADIA PHARMACEUTICALS INC  2834.0    7.0  14.0  12.0   \n",
       "3  ACHN       ACHILLION PHARMACEUTICALS INC  2834.0   11.5  16.0  14.0   \n",
       "4  ACLI     AMERICAN COMMERCIAL LINES INC.   4492.0   21.0  21.0  19.0   \n",
       "\n",
       "      P_1Day     C1   C2        C4 ...        C5'     C6'       T3'       T4'  \\\n",
       "0  11.870000  122.0  1.0  0.029074 ...   3.864345   900.0  0.848259  0.594681   \n",
       "1   7.250000  259.0  0.0 -0.013352 ...  12.028832     0.0  0.495090  0.353350   \n",
       "2   6.700000   90.0  1.0  0.020715 ...   3.369134     0.0  2.050361  1.390547   \n",
       "3  12.390000  209.0  1.0  0.020023 ...   3.299697     0.0  1.306332  0.852134   \n",
       "4  56.599998   80.0  1.0 -0.034895 ...   3.726269  2000.0  0.727512  0.488636   \n",
       "\n",
       "        T5'       S1'       S2'       S3'  Y1  Y2  \n",
       "0  0.049100  0.004717  0.009199  0.010929   0   1  \n",
       "1  0.028657  0.002753  0.011105  0.010876   1   0  \n",
       "2  0.118681  0.011403  0.006271  0.011403   1   0  \n",
       "3  0.075614  0.007265  0.007144  0.013319   1   1  \n",
       "4  0.042111  0.004046  0.010047  0.011261   0   1  \n",
       "\n",
       "[5 rows x 22 columns]"
      ]
     },
     "execution_count": 24,
     "metadata": {},
     "output_type": "execute_result"
    }
   ],
   "source": [
    "# Dropping columns that have been used to create \"prime\" columns\n",
    "df_data = df_data.drop(['T1','T2','T3','T4','T5','S1','S2','S3'],axis=1)\n",
    "df_data.head()"
   ]
  },
  {
   "cell_type": "code",
   "execution_count": 25,
   "metadata": {},
   "outputs": [
    {
     "name": "stdout",
     "output_type": "stream",
     "text": [
      "I1 0\n",
      "I2 0\n",
      "I3 0\n",
      "P_IPO 0\n",
      "P_H 0\n",
      "P_L 0\n",
      "P_1Day 0\n",
      "C1 0\n",
      "C2 0\n",
      "C4 0\n",
      "C7 0\n",
      "C3' 0\n",
      "C5' 0\n",
      "C6' 0\n",
      "T3' 0\n",
      "T4' 0\n",
      "T5' 0\n",
      "S1' 0\n",
      "S2' 0\n",
      "S3' 0\n",
      "Y1 0\n",
      "Y2 0\n"
     ]
    }
   ],
   "source": [
    "# Re-checking imputations were correctly filling in missing values\n",
    "for col in df_data.columns:\n",
    "    names.append(col)\n",
    "    values.append(df_data[col].isnull().sum())\n",
    "    print(names[-1],values[-1])"
   ]
  },
  {
   "cell_type": "markdown",
   "metadata": {},
   "source": [
    "__All of our missing values have been filled in using the appropriate methods for imputing their values. We most likely have changed the way that we impute the data based on our results from our model, to see if altering the way that we impute would affect the results.__"
   ]
  },
  {
   "cell_type": "markdown",
   "metadata": {},
   "source": [
    "## Outliers ##"
   ]
  },
  {
   "cell_type": "code",
   "execution_count": 26,
   "metadata": {},
   "outputs": [
    {
     "data": {
      "text/plain": [
       "{'whiskers': [<matplotlib.lines.Line2D at 0x7fd972660978>,\n",
       "  <matplotlib.lines.Line2D at 0x7fd972660cc0>],\n",
       " 'caps': [<matplotlib.lines.Line2D at 0x7fd97266c048>,\n",
       "  <matplotlib.lines.Line2D at 0x7fd97266c390>],\n",
       " 'boxes': [<matplotlib.lines.Line2D at 0x7fd972660828>],\n",
       " 'medians': [<matplotlib.lines.Line2D at 0x7fd97266c6d8>],\n",
       " 'fliers': [<matplotlib.lines.Line2D at 0x7fd97266ca20>],\n",
       " 'means': []}"
      ]
     },
     "execution_count": 26,
     "metadata": {},
     "output_type": "execute_result"
    },
    {
     "data": {
      "image/png": "[encoded data removed]",
      "text/plain": [
       "<Figure size 432x288 with 1 Axes>"
      ]
     },
     "metadata": {},
     "output_type": "display_data"
    }
   ],
   "source": [
    "def iqr_outliers(x):\n",
    "    if x > (Q3 + (1.5*IQR)):\n",
    "        x=Q3\n",
    "    elif x <(Q1 - (1.5*IQR)):\n",
    "        x=Q1\n",
    "    else:\n",
    "        pass\n",
    "    return(x)\n",
    "\n",
    "Q1 = df_data['C1'].quantile(0.25)\n",
    "Q3 = df_data['C1'].quantile(0.75)\n",
    "IQR = iqr(df_data['C1'])\n",
    "df_data['C1']=df_data['C1'].apply(lambda x: iqr_outliers(x))\n",
    "\n",
    "# Plotting box plots for identifying outliers\n",
    "plt.boxplot(df_data.C1)"
   ]
  },
  {
   "cell_type": "code",
   "execution_count": 27,
   "metadata": {},
   "outputs": [
    {
     "data": {
      "text/plain": [
       "{'whiskers': [<matplotlib.lines.Line2D at 0x7fd9725c20b8>,\n",
       "  <matplotlib.lines.Line2D at 0x7fd9726090b8>],\n",
       " 'caps': [<matplotlib.lines.Line2D at 0x7fd9725c26d8>,\n",
       "  <matplotlib.lines.Line2D at 0x7fd9725c2a20>],\n",
       " 'boxes': [<matplotlib.lines.Line2D at 0x7fd972638f28>],\n",
       " 'medians': [<matplotlib.lines.Line2D at 0x7fd9725c2d68>],\n",
       " 'fliers': [<matplotlib.lines.Line2D at 0x7fd9725cc0f0>],\n",
       " 'means': []}"
      ]
     },
     "execution_count": 27,
     "metadata": {},
     "output_type": "execute_result"
    },
    {
     "data": {
      "image/png": "[encoded data removed]",
      "text/plain": [
       "<Figure size 432x288 with 1 Axes>"
      ]
     },
     "metadata": {},
     "output_type": "display_data"
    }
   ],
   "source": [
    "Q1 = df_data['C7'].quantile(0.25)\n",
    "Q3 = df_data['C7'].quantile(0.75)\n",
    "IQR = iqr(df_data['C7'])\n",
    "df_data['C7']=df_data['C7'].apply(lambda x: iqr_outliers(x))\n",
    "\n",
    "# Plotting box plots for identifying outliers\n",
    "plt.boxplot(df_data.C7)"
   ]
  },
  {
   "cell_type": "code",
   "execution_count": 28,
   "metadata": {},
   "outputs": [
    {
     "data": {
      "text/plain": [
       "{'whiskers': [<matplotlib.lines.Line2D at 0x7fd97259b1d0>,\n",
       "  <matplotlib.lines.Line2D at 0x7fd97259b518>],\n",
       " 'caps': [<matplotlib.lines.Line2D at 0x7fd97259b860>,\n",
       "  <matplotlib.lines.Line2D at 0x7fd97259bba8>],\n",
       " 'boxes': [<matplotlib.lines.Line2D at 0x7fd97259b080>],\n",
       " 'medians': [<matplotlib.lines.Line2D at 0x7fd97259bef0>],\n",
       " 'fliers': [<matplotlib.lines.Line2D at 0x7fd9725a3278>],\n",
       " 'means': []}"
      ]
     },
     "execution_count": 28,
     "metadata": {},
     "output_type": "execute_result"
    },
    {
     "data": {
      "image/png": "[encoded data removed]",
      "text/plain": [
       "<Figure size 432x288 with 1 Axes>"
      ]
     },
     "metadata": {},
     "output_type": "display_data"
    }
   ],
   "source": [
    "Q1 = df_data[\"C5'\"].quantile(0.25)\n",
    "Q3 = df_data[\"C5'\"].quantile(0.75)\n",
    "IQR = iqr(df_data[\"C5'\"])\n",
    "df_data[\"C5'\"]=df_data[\"C5'\"].apply(lambda x: iqr_outliers(x))\n",
    "\n",
    "# Plotting box plots for identifying outliers\n",
    "plt.boxplot(df_data[\"C5'\"])"
   ]
  },
  {
   "cell_type": "code",
   "execution_count": 29,
   "metadata": {},
   "outputs": [
    {
     "data": {
      "text/plain": [
       "{'whiskers': [<matplotlib.lines.Line2D at 0x7fd972577a20>,\n",
       "  <matplotlib.lines.Line2D at 0x7fd972577d68>],\n",
       " 'caps': [<matplotlib.lines.Line2D at 0x7fd9725000f0>,\n",
       "  <matplotlib.lines.Line2D at 0x7fd972500438>],\n",
       " 'boxes': [<matplotlib.lines.Line2D at 0x7fd9725778d0>],\n",
       " 'medians': [<matplotlib.lines.Line2D at 0x7fd972500780>],\n",
       " 'fliers': [<matplotlib.lines.Line2D at 0x7fd972500ac8>],\n",
       " 'means': []}"
      ]
     },
     "execution_count": 29,
     "metadata": {},
     "output_type": "execute_result"
    },
    {
     "data": {
      "image/png": "[encoded data removed]",
      "text/plain": [
       "<Figure size 432x288 with 1 Axes>"
      ]
     },
     "metadata": {},
     "output_type": "display_data"
    }
   ],
   "source": [
    "Q1 = df_data[\"C6'\"].quantile(0.25)\n",
    "Q3 = df_data[\"C6'\"].quantile(0.75)\n",
    "IQR = iqr(df_data[\"C6'\"])\n",
    "df_data[\"C6'\"]=df_data[\"C6'\"].apply(lambda x: iqr_outliers(x))\n",
    "\n",
    "# Plotting box plots for identifying outliers\n",
    "plt.boxplot(df_data[\"C6'\"])"
   ]
  },
  {
   "cell_type": "code",
   "execution_count": 30,
   "metadata": {},
   "outputs": [
    {
     "data": {
      "text/plain": [
       "{'whiskers': [<matplotlib.lines.Line2D at 0x7fd9724ceb38>,\n",
       "  <matplotlib.lines.Line2D at 0x7fd9724cee80>],\n",
       " 'caps': [<matplotlib.lines.Line2D at 0x7fd9724d9208>,\n",
       "  <matplotlib.lines.Line2D at 0x7fd9724d9550>],\n",
       " 'boxes': [<matplotlib.lines.Line2D at 0x7fd9724ce9e8>],\n",
       " 'medians': [<matplotlib.lines.Line2D at 0x7fd9724d9898>],\n",
       " 'fliers': [<matplotlib.lines.Line2D at 0x7fd9724d9be0>],\n",
       " 'means': []}"
      ]
     },
     "execution_count": 30,
     "metadata": {},
     "output_type": "execute_result"
    },
    {
     "data": {
      "image/png": "[encoded data removed]",
      "text/plain": [
       "<Figure size 432x288 with 1 Axes>"
      ]
     },
     "metadata": {},
     "output_type": "display_data"
    }
   ],
   "source": [
    "Q1 = df_data[\"T3'\"].quantile(0.25)\n",
    "Q3 = df_data[\"T3'\"].quantile(0.75)\n",
    "IQR = iqr(df_data[\"T3'\"])\n",
    "df_data[\"T3'\"]=df_data[\"T3'\"].apply(lambda x: iqr_outliers(x))\n",
    "\n",
    "# Plotting box plots for identifying outliers\n",
    "plt.boxplot(df_data[\"T3'\"])"
   ]
  },
  {
   "cell_type": "code",
   "execution_count": 31,
   "metadata": {},
   "outputs": [
    {
     "data": {
      "text/plain": [
       "{'whiskers': [<matplotlib.lines.Line2D at 0x7fd974745dd8>,\n",
       "  <matplotlib.lines.Line2D at 0x7fd974747128>],\n",
       " 'caps': [<matplotlib.lines.Line2D at 0x7fd974747550>,\n",
       "  <matplotlib.lines.Line2D at 0x7fd974747978>],\n",
       " 'boxes': [<matplotlib.lines.Line2D at 0x7fd974745a90>],\n",
       " 'medians': [<matplotlib.lines.Line2D at 0x7fd974747c88>],\n",
       " 'fliers': [<matplotlib.lines.Line2D at 0x7fd974747f28>],\n",
       " 'means': []}"
      ]
     },
     "execution_count": 31,
     "metadata": {},
     "output_type": "execute_result"
    },
    {
     "data": {
      "image/png": "[encoded data removed]",
      "text/plain": [
       "<Figure size 432x288 with 1 Axes>"
      ]
     },
     "metadata": {},
     "output_type": "display_data"
    }
   ],
   "source": [
    "Q1 = df_data[\"T4'\"].quantile(0.25)\n",
    "Q3 = df_data[\"T4'\"].quantile(0.75)\n",
    "IQR = iqr(df_data[\"T4'\"])\n",
    "df_data[\"T4'\"]=df_data[\"T4'\"].apply(lambda x: iqr_outliers(x))\n",
    "\n",
    "# Plotting box plots for identifying outliers\n",
    "plt.boxplot(df_data[\"T4'\"])"
   ]
  },
  {
   "cell_type": "code",
   "execution_count": 32,
   "metadata": {},
   "outputs": [
    {
     "data": {
      "text/plain": [
       "{'whiskers': [<matplotlib.lines.Line2D at 0x7fd9724b9a90>,\n",
       "  <matplotlib.lines.Line2D at 0x7fd9724b9dd8>],\n",
       " 'caps': [<matplotlib.lines.Line2D at 0x7fd974849160>,\n",
       "  <matplotlib.lines.Line2D at 0x7fd9748494a8>],\n",
       " 'boxes': [<matplotlib.lines.Line2D at 0x7fd9724b9940>],\n",
       " 'medians': [<matplotlib.lines.Line2D at 0x7fd9748497f0>],\n",
       " 'fliers': [<matplotlib.lines.Line2D at 0x7fd974849b38>],\n",
       " 'means': []}"
      ]
     },
     "execution_count": 32,
     "metadata": {},
     "output_type": "execute_result"
    },
    {
     "data": {
      "image/png": "[encoded data removed]",
      "text/plain": [
       "<Figure size 432x288 with 1 Axes>"
      ]
     },
     "metadata": {},
     "output_type": "display_data"
    }
   ],
   "source": [
    "Q1 = df_data[\"T5'\"].quantile(0.25)\n",
    "Q3 = df_data[\"T5'\"].quantile(0.75)\n",
    "IQR = iqr(df_data[\"T5'\"])\n",
    "df_data[\"T5'\"]=df_data[\"T5'\"].apply(lambda x: iqr_outliers(x))\n",
    "\n",
    "# Plotting box plots for identifying outliers\n",
    "plt.boxplot(df_data[\"T5'\"])"
   ]
  },
  {
   "cell_type": "code",
   "execution_count": 33,
   "metadata": {},
   "outputs": [
    {
     "data": {
      "text/plain": [
       "{'whiskers': [<matplotlib.lines.Line2D at 0x7fd9724532e8>,\n",
       "  <matplotlib.lines.Line2D at 0x7fd972453630>],\n",
       " 'caps': [<matplotlib.lines.Line2D at 0x7fd972453978>,\n",
       "  <matplotlib.lines.Line2D at 0x7fd972453cc0>],\n",
       " 'boxes': [<matplotlib.lines.Line2D at 0x7fd972453198>],\n",
       " 'medians': [<matplotlib.lines.Line2D at 0x7fd97245c048>],\n",
       " 'fliers': [<matplotlib.lines.Line2D at 0x7fd97245c390>],\n",
       " 'means': []}"
      ]
     },
     "execution_count": 33,
     "metadata": {},
     "output_type": "execute_result"
    },
    {
     "data": {
      "image/png": "[encoded data removed]",
      "text/plain": [
       "<Figure size 432x288 with 1 Axes>"
      ]
     },
     "metadata": {},
     "output_type": "display_data"
    }
   ],
   "source": [
    "Q1 = df_data[\"S1'\"].quantile(0.25)\n",
    "Q3 = df_data[\"S1'\"].quantile(0.75)\n",
    "IQR = iqr(df_data[\"S1'\"])\n",
    "df_data[\"S1'\"]=df_data[\"S1'\"].apply(lambda x: iqr_outliers(x))\n",
    "\n",
    "# Plotting box plots for identifying outliers\n",
    "plt.boxplot(df_data[\"S1'\"])"
   ]
  },
  {
   "cell_type": "code",
   "execution_count": 34,
   "metadata": {},
   "outputs": [
    {
     "data": {
      "text/plain": [
       "{'whiskers': [<matplotlib.lines.Line2D at 0x7fd97241ab00>,\n",
       "  <matplotlib.lines.Line2D at 0x7fd97241ae48>],\n",
       " 'caps': [<matplotlib.lines.Line2D at 0x7fd9724261d0>,\n",
       "  <matplotlib.lines.Line2D at 0x7fd972426518>],\n",
       " 'boxes': [<matplotlib.lines.Line2D at 0x7fd97241a9b0>],\n",
       " 'medians': [<matplotlib.lines.Line2D at 0x7fd972426860>],\n",
       " 'fliers': [<matplotlib.lines.Line2D at 0x7fd972426ba8>],\n",
       " 'means': []}"
      ]
     },
     "execution_count": 34,
     "metadata": {},
     "output_type": "execute_result"
    },
    {
     "data": {
      "image/png": "[encoded data removed]",
      "text/plain": [
       "<Figure size 432x288 with 1 Axes>"
      ]
     },
     "metadata": {},
     "output_type": "display_data"
    }
   ],
   "source": [
    "Q1 = df_data[\"S2'\"].quantile(0.25)\n",
    "Q3 = df_data[\"S2'\"].quantile(0.75)\n",
    "IQR = iqr(df_data[\"S2'\"])\n",
    "df_data[\"S2'\"]=df_data[\"S2'\"].apply(lambda x: iqr_outliers(x))\n",
    "\n",
    "# Plotting box plots for identifying outliers\n",
    "plt.boxplot(df_data[\"S2'\"])"
   ]
  },
  {
   "cell_type": "code",
   "execution_count": 35,
   "metadata": {},
   "outputs": [
    {
     "data": {
      "text/plain": [
       "{'whiskers': [<matplotlib.lines.Line2D at 0x7fd9723f9160>,\n",
       "  <matplotlib.lines.Line2D at 0x7fd9723f94a8>],\n",
       " 'caps': [<matplotlib.lines.Line2D at 0x7fd9723f97f0>,\n",
       "  <matplotlib.lines.Line2D at 0x7fd9723f9b38>],\n",
       " 'boxes': [<matplotlib.lines.Line2D at 0x7fd9723effd0>],\n",
       " 'medians': [<matplotlib.lines.Line2D at 0x7fd9723f9e80>],\n",
       " 'fliers': [<matplotlib.lines.Line2D at 0x7fd972382208>],\n",
       " 'means': []}"
      ]
     },
     "execution_count": 35,
     "metadata": {},
     "output_type": "execute_result"
    },
    {
     "data": {
      "image/png": "[encoded data removed]",
      "text/plain": [
       "<Figure size 432x288 with 1 Axes>"
      ]
     },
     "metadata": {},
     "output_type": "display_data"
    }
   ],
   "source": [
    "Q1 = df_data[\"S3'\"].quantile(0.25)\n",
    "Q3 = df_data[\"S3'\"].quantile(0.75)\n",
    "IQR = iqr(df_data[\"S3'\"])\n",
    "df_data[\"S3'\"]=df_data[\"S3'\"].apply(lambda x: iqr_outliers(x))\n",
    "\n",
    "# Plotting box plots for identifying outliers\n",
    "plt.boxplot(df_data[\"S3'\"])"
   ]
  },
  {
   "cell_type": "markdown",
   "metadata": {},
   "source": [
    "## Normalising ##"
   ]
  },
  {
   "cell_type": "markdown",
   "metadata": {},
   "source": [
    "We understand that data is not going to be normally distributed. We must identify what distribution each feature/attribute has, and figure out a method to normally distribute that data to move on with our model.\n",
    "\n",
    "We will create histograms for all data that has a `float64` data-type."
   ]
  },
  {
   "cell_type": "code",
   "execution_count": 36,
   "metadata": {},
   "outputs": [
    {
     "data": {
      "image/png": "[encoded data removed]",
      "text/plain": [
       "<Figure size 432x288 with 1 Axes>"
      ]
     },
     "metadata": {},
     "output_type": "display_data"
    },
    {
     "data": {
      "image/png": "[encoded data removed]",
      "text/plain": [
       "<Figure size 432x288 with 1 Axes>"
      ]
     },
     "metadata": {},
     "output_type": "display_data"
    },
    {
     "data": {
      "image/png": "[encoded data removed]",
      "text/plain": [
       "<Figure size 432x288 with 1 Axes>"
      ]
     },
     "metadata": {},
     "output_type": "display_data"
    },
    {
     "data": {
      "image/png": "[encoded data removed]",
      "text/plain": [
       "<Figure size 432x288 with 1 Axes>"
      ]
     },
     "metadata": {},
     "output_type": "display_data"
    },
    {
     "data": {
      "image/png": "[encoded data removed]",
      "text/plain": [
       "<Figure size 432x288 with 1 Axes>"
      ]
     },
     "metadata": {},
     "output_type": "display_data"
    },
    {
     "data": {
      "image/png": "[encoded data removed]",
      "text/plain": [
       "<Figure size 432x288 with 1 Axes>"
      ]
     },
     "metadata": {},
     "output_type": "display_data"
    },
    {
     "data": {
      "image/png": "[encoded data removed]",
      "text/plain": [
       "<Figure size 432x288 with 1 Axes>"
      ]
     },
     "metadata": {},
     "output_type": "display_data"
    },
    {
     "data": {
      "image/png": "[encoded data removed]",
      "text/plain": [
       "<Figure size 432x288 with 1 Axes>"
      ]
     },
     "metadata": {},
     "output_type": "display_data"
    },
    {
     "data": {
      "image/png": "[encoded data removed]",
      "text/plain": [
       "<Figure size 432x288 with 1 Axes>"
      ]
     },
     "metadata": {},
     "output_type": "display_data"
    },
    {
     "data": {
      "image/png": "[encoded data removed]",
      "text/plain": [
       "<Figure size 432x288 with 1 Axes>"
      ]
     },
     "metadata": {},
     "output_type": "display_data"
    },
    {
     "data": {
      "image/png": "[encoded data removed]",
      "text/plain": [
       "<Figure size 432x288 with 1 Axes>"
      ]
     },
     "metadata": {},
     "output_type": "display_data"
    },
    {
     "data": {
      "image/png": "[encoded data removed]",
      "text/plain": [
       "<Figure size 432x288 with 1 Axes>"
      ]
     },
     "metadata": {},
     "output_type": "display_data"
    },
    {
     "data": {
      "image/png": "[encoded data removed]",
      "text/plain": [
       "<Figure size 432x288 with 1 Axes>"
      ]
     },
     "metadata": {},
     "output_type": "display_data"
    },
    {
     "data": {
      "image/png": "[encoded data removed]",
      "text/plain": [
       "<Figure size 432x288 with 1 Axes>"
      ]
     },
     "metadata": {},
     "output_type": "display_data"
    },
    {
     "data": {
      "image/png": "[encoded data removed]",
      "text/plain": [
       "<Figure size 432x288 with 1 Axes>"
      ]
     },
     "metadata": {},
     "output_type": "display_data"
    }
   ],
   "source": [
    "# Creating a 'for loop' to display each of the columns in a histogram\n",
    "# would be the most efficient way to display the distribution of the features\n",
    "\n",
    "## Creating a new variable `new_cols` to store all the features we would like\n",
    "## to display with histograms\n",
    "new_cols = ['P_IPO','P_H','P_L','P_1Day','C1','C4',\"C5'\",\"C5'\",'C7',\"T3'\",\"T4'\",\"T5'\",\"S1'\",\"S2'\",\"S3'\"]\n",
    "\n",
    "## Creating a new variable `plot_hists` to store the `new_cols`\n",
    "## and be populated with data from the `df_data` dataframe\n",
    "plot_hists = df_data[new_cols]\n",
    "\n",
    "### Creating a for loop that will plot each column in\n",
    "### the variable `plot_hists` as long as it is a column\n",
    "### Using 20 `bins` for each histogram, as well\n",
    "for i in range(len(plot_hists.columns)):\n",
    "    plt.hist(plot_hists.iloc[:,i].dropna(),bins=20)\n",
    "### For each title, we are using the name of the column\n",
    "### as it appears in the `plot_hists` variable    \n",
    "    plt.title('%a' % plot_hists.columns[i])\n",
    "### Ultimately showing the histogram at the end of \n",
    "### the for loop\n",
    "    plt.show()"
   ]
  },
  {
   "cell_type": "code",
   "execution_count": 37,
   "metadata": {},
   "outputs": [
    {
     "name": "stdout",
     "output_type": "stream",
     "text": [
      "skew :  [ 3.36531297  9.26290144  7.14359102 12.49503902  0.48369709 -0.48468728\n",
      "  0.45995053  0.45995053  1.08135396  0.53698858  0.46097245  0.53698858\n",
      "  0.53698858  0.40338254  0.22852071]\n"
     ]
    }
   ],
   "source": [
    "# Printing Skewn Value for Each Feature\n",
    "## new_cols = ['P_IPO','P_H','P_L','P_1Day','C1','C3','C4','C5','C6','C7','T1','T2','T3','T4','T5','S1','S2','S3']\n",
    "print(\"skew : \",skew(df_data[new_cols]))"
   ]
  },
  {
   "cell_type": "markdown",
   "metadata": {},
   "source": [
    "The values that have `nan` for skewness"
   ]
  },
  {
   "cell_type": "code",
   "execution_count": 38,
   "metadata": {},
   "outputs": [],
   "source": [
    "def log_transform(feature):\n",
    "    df_data[feature] = np.log1p(df_data[feature].values) # does a log transform on x+1\n",
    "log_transform('P_IPO')\n",
    "log_transform('P_H')\n",
    "log_transform('P_L')\n",
    "log_transform('P_1Day')\n",
    "log_transform('C1')\n",
    "log_transform('C4')\n",
    "log_transform(\"C5'\")\n",
    "log_transform(\"C6'\")\n",
    "log_transform('C7')\n",
    "log_transform(\"T3'\")\n",
    "log_transform(\"T4'\")\n",
    "log_transform(\"T5'\")\n",
    "log_transform(\"S1'\")\n",
    "log_transform(\"S2'\")\n",
    "log_transform(\"S3'\")"
   ]
  },
  {
   "cell_type": "code",
   "execution_count": 39,
   "metadata": {},
   "outputs": [
    {
     "data": {
      "image/png": "[encoded data removed]",
      "text/plain": [
       "<Figure size 432x288 with 1 Axes>"
      ]
     },
     "metadata": {},
     "output_type": "display_data"
    },
    {
     "data": {
      "image/png": "[encoded data removed]",
      "text/plain": [
       "<Figure size 432x288 with 1 Axes>"
      ]
     },
     "metadata": {},
     "output_type": "display_data"
    },
    {
     "data": {
      "image/png": "[encoded data removed]",
      "text/plain": [
       "<Figure size 432x288 with 1 Axes>"
      ]
     },
     "metadata": {},
     "output_type": "display_data"
    },
    {
     "data": {
      "image/png": "[encoded data removed]",
      "text/plain": [
       "<Figure size 432x288 with 1 Axes>"
      ]
     },
     "metadata": {},
     "output_type": "display_data"
    },
    {
     "data": {
      "image/png": "[encoded data removed]",
      "text/plain": [
       "<Figure size 432x288 with 1 Axes>"
      ]
     },
     "metadata": {},
     "output_type": "display_data"
    },
    {
     "data": {
      "image/png": "[encoded data removed]",
      "text/plain": [
       "<Figure size 432x288 with 1 Axes>"
      ]
     },
     "metadata": {},
     "output_type": "display_data"
    },
    {
     "data": {
      "image/png": "[encoded data removed]",
      "text/plain": [
       "<Figure size 432x288 with 1 Axes>"
      ]
     },
     "metadata": {},
     "output_type": "display_data"
    },
    {
     "data": {
      "image/png": "[encoded data removed]",
      "text/plain": [
       "<Figure size 432x288 with 1 Axes>"
      ]
     },
     "metadata": {},
     "output_type": "display_data"
    },
    {
     "data": {
      "image/png": "[encoded data removed]",
      "text/plain": [
       "<Figure size 432x288 with 1 Axes>"
      ]
     },
     "metadata": {},
     "output_type": "display_data"
    },
    {
     "data": {
      "image/png": "[encoded data removed]",
      "text/plain": [
       "<Figure size 432x288 with 1 Axes>"
      ]
     },
     "metadata": {},
     "output_type": "display_data"
    },
    {
     "data": {
      "image/png": "[encoded data removed]",
      "text/plain": [
       "<Figure size 432x288 with 1 Axes>"
      ]
     },
     "metadata": {},
     "output_type": "display_data"
    },
    {
     "data": {
      "image/png": "[encoded data removed]",
      "text/plain": [
       "<Figure size 432x288 with 1 Axes>"
      ]
     },
     "metadata": {},
     "output_type": "display_data"
    },
    {
     "data": {
      "image/png": "[encoded data removed]",
      "text/plain": [
       "<Figure size 432x288 with 1 Axes>"
      ]
     },
     "metadata": {},
     "output_type": "display_data"
    },
    {
     "data": {
      "image/png": "[encoded data removed]",
      "text/plain": [
       "<Figure size 432x288 with 1 Axes>"
      ]
     },
     "metadata": {},
     "output_type": "display_data"
    },
    {
     "data": {
      "image/png": "[encoded data removed]",
      "text/plain": [
       "<Figure size 432x288 with 1 Axes>"
      ]
     },
     "metadata": {},
     "output_type": "display_data"
    }
   ],
   "source": [
    "# Re-plotting the distributions of the attributes\n",
    "for i in range(len(plot_hists.columns)):\n",
    "    plt.hist(plot_hists.iloc[:,i].dropna(),bins='auto')   \n",
    "    plt.title('%a' % plot_hists.columns[i])\n",
    "    plt.show()"
   ]
  },
  {
   "cell_type": "code",
   "execution_count": 40,
   "metadata": {},
   "outputs": [
    {
     "name": "stdout",
     "output_type": "stream",
     "text": [
      "     I1                                  I2      I3     P_IPO       P_H  \\\n",
      "0  AATI  ADVANCED ANALOGIC TECHNOLOGIES INC  3674.0  2.397895  2.351375   \n",
      "1  ABPI     ACCENTIA BIOPHARMACEUTICALS INC  2834.0  2.197225  2.397895   \n",
      "2  ACAD          ACADIA PHARMACEUTICALS INC  2834.0  2.079442  2.708050   \n",
      "3  ACHN       ACHILLION PHARMACEUTICALS INC  2834.0  2.525729  2.833213   \n",
      "4  ACLI     AMERICAN COMMERCIAL LINES INC.   4492.0  3.091042  3.091042   \n",
      "\n",
      "        P_L    P_1Day        C1   C2        C4 ...       C5'       C6'  \\\n",
      "0  2.251292  2.554899  4.812184  1.0  0.028660 ...  1.581932  6.803505   \n",
      "1  2.197225  2.110213  5.035328  0.0 -0.013442 ...  1.782453  0.000000   \n",
      "2  2.564949  2.041220  4.510860  1.0  0.020503 ...  1.474565  0.000000   \n",
      "3  2.708050  2.594508  5.347108  1.0  0.019825 ...  1.458545  0.000000   \n",
      "4  2.995732  4.053523  4.394449  1.0 -0.035518 ...  1.553136  7.601402   \n",
      "\n",
      "        T3'       T4'       T5'       S1'       S2'       S3'  Y1  Y2  \n",
      "0  0.614244  0.466674  0.047932  0.004706  0.009157  0.010869   0   1  \n",
      "1  0.402186  0.302583  0.028254  0.002750  0.011044  0.010817   1   0  \n",
      "2  0.776228  0.585412  0.065705  0.006504  0.006252  0.011338   1   0  \n",
      "3  0.835659  0.616339  0.072892  0.007239  0.007118  0.013231   1   1  \n",
      "4  0.546682  0.397861  0.041248  0.004038  0.009997  0.011198   0   1  \n",
      "\n",
      "[5 rows x 22 columns]\n"
     ]
    }
   ],
   "source": [
    "# Rechecking the dataframe\n",
    "print(df_data.head())"
   ]
  },
  {
   "cell_type": "markdown",
   "metadata": {},
   "source": [
    "## Binning ##"
   ]
  },
  {
   "cell_type": "code",
   "execution_count": 51,
   "metadata": {},
   "outputs": [],
   "source": [
    "## Importing Image from the PIL package\n",
    "from PIL import Image\n",
    "\n",
    "## Creating a variable for the image that we want to import\n",
    "myImage = Image.open(\"Capture.PNG\")\n",
    "## Showing image\n",
    "myImage.show()"
   ]
  },
  {
   "cell_type": "code",
   "execution_count": 78,
   "metadata": {},
   "outputs": [
    {
     "data": {
      "text/plain": [
       "I1        2\n",
       "I2        2\n",
       "I3        2\n",
       "P_IPO     2\n",
       "P_H       2\n",
       "P_L       2\n",
       "P_1Day    2\n",
       "C1        2\n",
       "C2        2\n",
       "C4        2\n",
       "C7        2\n",
       "C3'       2\n",
       "C5'       2\n",
       "C6'       2\n",
       "T3'       2\n",
       "T4'       2\n",
       "T5'       2\n",
       "S1'       2\n",
       "S2'       2\n",
       "S3'       2\n",
       "Y1        2\n",
       "Y2        2\n",
       "dtype: int64"
      ]
     },
     "execution_count": 78,
     "metadata": {},
     "output_type": "execute_result"
    }
   ],
   "source": [
    "# Checking to see how many values are in the SIC Codes that are less than 999\n",
    "SIC1 = df_data.loc[(df_data.I3 < 999)]\n",
    "SIC1.count()"
   ]
  },
  {
   "cell_type": "code",
   "execution_count": 66,
   "metadata": {},
   "outputs": [
    {
     "data": {
      "text/plain": [
       "I1        31\n",
       "I2        31\n",
       "I3        31\n",
       "P_IPO     31\n",
       "P_H       31\n",
       "P_L       31\n",
       "P_1Day    31\n",
       "C1        31\n",
       "C2        31\n",
       "C4        31\n",
       "C7        31\n",
       "C3'       31\n",
       "C5'       31\n",
       "C6'       31\n",
       "T3'       31\n",
       "T4'       31\n",
       "T5'       31\n",
       "S1'       31\n",
       "S2'       31\n",
       "S3'       31\n",
       "Y1        31\n",
       "Y2        31\n",
       "dtype: int64"
      ]
     },
     "execution_count": 66,
     "metadata": {},
     "output_type": "execute_result"
    }
   ],
   "source": [
    "# Checking to see how many values are in the SIC Codes are between 1000 & 1499\n",
    "SIC2 = df_data.loc[(df_data.I3 >= 1000) & (df_data.I3 <= 1499)]\n",
    "SIC2.count()"
   ]
  },
  {
   "cell_type": "code",
   "execution_count": 67,
   "metadata": {},
   "outputs": [
    {
     "data": {
      "text/plain": [
       "I1        2\n",
       "I2        2\n",
       "I3        2\n",
       "P_IPO     2\n",
       "P_H       2\n",
       "P_L       2\n",
       "P_1Day    2\n",
       "C1        2\n",
       "C2        2\n",
       "C4        2\n",
       "C7        2\n",
       "C3'       2\n",
       "C5'       2\n",
       "C6'       2\n",
       "T3'       2\n",
       "T4'       2\n",
       "T5'       2\n",
       "S1'       2\n",
       "S2'       2\n",
       "S3'       2\n",
       "Y1        2\n",
       "Y2        2\n",
       "dtype: int64"
      ]
     },
     "execution_count": 67,
     "metadata": {},
     "output_type": "execute_result"
    }
   ],
   "source": [
    "# Checking to see how many values are in the SIC Codes are between 1500 & 1799\n",
    "SIC3 = df_data.loc[(df_data.I3 >= 1500) & (df_data.I3 <= 1799)]\n",
    "SIC3.count()"
   ]
  },
  {
   "cell_type": "code",
   "execution_count": 68,
   "metadata": {},
   "outputs": [
    {
     "data": {
      "text/plain": [
       "I1        0\n",
       "I2        0\n",
       "I3        0\n",
       "P_IPO     0\n",
       "P_H       0\n",
       "P_L       0\n",
       "P_1Day    0\n",
       "C1        0\n",
       "C2        0\n",
       "C4        0\n",
       "C7        0\n",
       "C3'       0\n",
       "C5'       0\n",
       "C6'       0\n",
       "T3'       0\n",
       "T4'       0\n",
       "T5'       0\n",
       "S1'       0\n",
       "S2'       0\n",
       "S3'       0\n",
       "Y1        0\n",
       "Y2        0\n",
       "dtype: int64"
      ]
     },
     "execution_count": 68,
     "metadata": {},
     "output_type": "execute_result"
    }
   ],
   "source": [
    "# Checking to see how many values are in the SIC Codes are between 1800 & 1999\n",
    "SIC4 = df_data.loc[(df_data.I3 >= 1800) & (df_data.I3 <= 1999)]\n",
    "SIC4.count()"
   ]
  },
  {
   "cell_type": "code",
   "execution_count": 69,
   "metadata": {},
   "outputs": [
    {
     "data": {
      "text/plain": [
       "I1        309\n",
       "I2        309\n",
       "I3        309\n",
       "P_IPO     309\n",
       "P_H       309\n",
       "P_L       309\n",
       "P_1Day    309\n",
       "C1        309\n",
       "C2        309\n",
       "C4        309\n",
       "C7        309\n",
       "C3'       309\n",
       "C5'       309\n",
       "C6'       309\n",
       "T3'       309\n",
       "T4'       309\n",
       "T5'       309\n",
       "S1'       309\n",
       "S2'       309\n",
       "S3'       309\n",
       "Y1        309\n",
       "Y2        309\n",
       "dtype: int64"
      ]
     },
     "execution_count": 69,
     "metadata": {},
     "output_type": "execute_result"
    }
   ],
   "source": [
    "# Checking to see how many values are in the SIC Codes are between 2000 & 3999\n",
    "SIC5 = df_data.loc[(df_data.I3 >= 2000) & (df_data.I3 <= 3999)]\n",
    "SIC5.count()"
   ]
  },
  {
   "cell_type": "code",
   "execution_count": 70,
   "metadata": {},
   "outputs": [
    {
     "data": {
      "text/plain": [
       "I1        60\n",
       "I2        60\n",
       "I3        60\n",
       "P_IPO     60\n",
       "P_H       60\n",
       "P_L       60\n",
       "P_1Day    60\n",
       "C1        60\n",
       "C2        60\n",
       "C4        60\n",
       "C7        60\n",
       "C3'       60\n",
       "C5'       60\n",
       "C6'       60\n",
       "T3'       60\n",
       "T4'       60\n",
       "T5'       60\n",
       "S1'       60\n",
       "S2'       60\n",
       "S3'       60\n",
       "Y1        60\n",
       "Y2        60\n",
       "dtype: int64"
      ]
     },
     "execution_count": 70,
     "metadata": {},
     "output_type": "execute_result"
    }
   ],
   "source": [
    "# Checking to see how many values are in the SIC Codes are between 4000 & 4999\n",
    "SIC6 = df_data.loc[(df_data.I3 >= 4000) & (df_data.I3 <= 4999)]\n",
    "SIC6.count()"
   ]
  },
  {
   "cell_type": "code",
   "execution_count": 71,
   "metadata": {},
   "outputs": [
    {
     "data": {
      "text/plain": [
       "I1        13\n",
       "I2        13\n",
       "I3        13\n",
       "P_IPO     13\n",
       "P_H       13\n",
       "P_L       13\n",
       "P_1Day    13\n",
       "C1        13\n",
       "C2        13\n",
       "C4        13\n",
       "C7        13\n",
       "C3'       13\n",
       "C5'       13\n",
       "C6'       13\n",
       "T3'       13\n",
       "T4'       13\n",
       "T5'       13\n",
       "S1'       13\n",
       "S2'       13\n",
       "S3'       13\n",
       "Y1        13\n",
       "Y2        13\n",
       "dtype: int64"
      ]
     },
     "execution_count": 71,
     "metadata": {},
     "output_type": "execute_result"
    }
   ],
   "source": [
    "# Checking to see how many values are in the SIC Codes are between 5000 & 5199\n",
    "SIC7 = df_data.loc[(df_data.I3 >= 5000) & (df_data.I3 <= 5199)]\n",
    "SIC7.count()"
   ]
  },
  {
   "cell_type": "code",
   "execution_count": 72,
   "metadata": {},
   "outputs": [
    {
     "data": {
      "text/plain": [
       "I1        49\n",
       "I2        49\n",
       "I3        49\n",
       "P_IPO     49\n",
       "P_H       49\n",
       "P_L       49\n",
       "P_1Day    49\n",
       "C1        49\n",
       "C2        49\n",
       "C4        49\n",
       "C7        49\n",
       "C3'       49\n",
       "C5'       49\n",
       "C6'       49\n",
       "T3'       49\n",
       "T4'       49\n",
       "T5'       49\n",
       "S1'       49\n",
       "S2'       49\n",
       "S3'       49\n",
       "Y1        49\n",
       "Y2        49\n",
       "dtype: int64"
      ]
     },
     "execution_count": 72,
     "metadata": {},
     "output_type": "execute_result"
    }
   ],
   "source": [
    "# Checking to see how many values are in the SIC Codes are between 5200 & 5999\n",
    "SIC8 = df_data.loc[(df_data.I3 >= 5200) & (df_data.I3 <= 5999)]\n",
    "SIC8.count()"
   ]
  },
  {
   "cell_type": "code",
   "execution_count": 73,
   "metadata": {},
   "outputs": [
    {
     "data": {
      "text/plain": [
       "I1        9\n",
       "I2        9\n",
       "I3        9\n",
       "P_IPO     9\n",
       "P_H       9\n",
       "P_L       9\n",
       "P_1Day    9\n",
       "C1        9\n",
       "C2        9\n",
       "C4        9\n",
       "C7        9\n",
       "C3'       9\n",
       "C5'       9\n",
       "C6'       9\n",
       "T3'       9\n",
       "T4'       9\n",
       "T5'       9\n",
       "S1'       9\n",
       "S2'       9\n",
       "S3'       9\n",
       "Y1        9\n",
       "Y2        9\n",
       "dtype: int64"
      ]
     },
     "execution_count": 73,
     "metadata": {},
     "output_type": "execute_result"
    }
   ],
   "source": [
    "# Checking to see how many values are in the SIC Codes are between 6000 & 6799\n",
    "SIC9 = df_data.loc[(df_data.I3 >= 6000) & (df_data.I3 <= 6799)]\n",
    "SIC9.count()"
   ]
  },
  {
   "cell_type": "code",
   "execution_count": 74,
   "metadata": {},
   "outputs": [
    {
     "data": {
      "text/plain": [
       "I1        205\n",
       "I2        205\n",
       "I3        205\n",
       "P_IPO     205\n",
       "P_H       205\n",
       "P_L       205\n",
       "P_1Day    205\n",
       "C1        205\n",
       "C2        205\n",
       "C4        205\n",
       "C7        205\n",
       "C3'       205\n",
       "C5'       205\n",
       "C6'       205\n",
       "T3'       205\n",
       "T4'       205\n",
       "T5'       205\n",
       "S1'       205\n",
       "S2'       205\n",
       "S3'       205\n",
       "Y1        205\n",
       "Y2        205\n",
       "dtype: int64"
      ]
     },
     "execution_count": 74,
     "metadata": {},
     "output_type": "execute_result"
    }
   ],
   "source": [
    "# Checking to see how many values are in the SIC Codes are between 7000 & 8999\n",
    "SIC10 = df_data.loc[(df_data.I3 >= 7000) & (df_data.I3 <= 8999)]\n",
    "SIC10.count()"
   ]
  },
  {
   "cell_type": "code",
   "execution_count": 75,
   "metadata": {},
   "outputs": [
    {
     "data": {
      "text/plain": [
       "I1        0\n",
       "I2        0\n",
       "I3        0\n",
       "P_IPO     0\n",
       "P_H       0\n",
       "P_L       0\n",
       "P_1Day    0\n",
       "C1        0\n",
       "C2        0\n",
       "C4        0\n",
       "C7        0\n",
       "C3'       0\n",
       "C5'       0\n",
       "C6'       0\n",
       "T3'       0\n",
       "T4'       0\n",
       "T5'       0\n",
       "S1'       0\n",
       "S2'       0\n",
       "S3'       0\n",
       "Y1        0\n",
       "Y2        0\n",
       "dtype: int64"
      ]
     },
     "execution_count": 75,
     "metadata": {},
     "output_type": "execute_result"
    }
   ],
   "source": [
    "# Checking to see how many values are in the SIC Codes are between 9100 & 9729\n",
    "SIC11 = df_data.loc[(df_data.I3 >= 9100) & (df_data.I3 <= 9729)]\n",
    "SIC11.count()"
   ]
  },
  {
   "cell_type": "code",
   "execution_count": 76,
   "metadata": {},
   "outputs": [
    {
     "data": {
      "text/plain": [
       "I1        2\n",
       "I2        2\n",
       "I3        2\n",
       "P_IPO     2\n",
       "P_H       2\n",
       "P_L       2\n",
       "P_1Day    2\n",
       "C1        2\n",
       "C2        2\n",
       "C4        2\n",
       "C7        2\n",
       "C3'       2\n",
       "C5'       2\n",
       "C6'       2\n",
       "T3'       2\n",
       "T4'       2\n",
       "T5'       2\n",
       "S1'       2\n",
       "S2'       2\n",
       "S3'       2\n",
       "Y1        2\n",
       "Y2        2\n",
       "dtype: int64"
      ]
     },
     "execution_count": 76,
     "metadata": {},
     "output_type": "execute_result"
    }
   ],
   "source": [
    "# Checking to see how many values are in the SIC Codes greater than or equal to 9900\n",
    "SIC12 = df_data.loc[(df_data.I3 >= 9900)]\n",
    "SIC12.count()"
   ]
  },
  {
   "cell_type": "code",
   "execution_count": 82,
   "metadata": {},
   "outputs": [
    {
     "data": {
      "text/html": [
       "<div>\n",
       "<style scoped>\n",
       "    .dataframe tbody tr th:only-of-type {\n",
       "        vertical-align: middle;\n",
       "    }\n",
       "\n",
       "    .dataframe tbody tr th {\n",
       "        vertical-align: top;\n",
       "    }\n",
       "\n",
       "    .dataframe thead th {\n",
       "        text-align: right;\n",
       "    }\n",
       "</style>\n",
       "<table border=\"1\" class=\"dataframe\">\n",
       "  <thead>\n",
       "    <tr style=\"text-align: right;\">\n",
       "      <th></th>\n",
       "      <th>I1</th>\n",
       "      <th>I2</th>\n",
       "      <th>I3</th>\n",
       "      <th>P_IPO</th>\n",
       "      <th>P_H</th>\n",
       "      <th>P_L</th>\n",
       "      <th>P_1Day</th>\n",
       "      <th>C1</th>\n",
       "      <th>C2</th>\n",
       "      <th>C4</th>\n",
       "      <th>...</th>\n",
       "      <th>C6'</th>\n",
       "      <th>T3'</th>\n",
       "      <th>T4'</th>\n",
       "      <th>T5'</th>\n",
       "      <th>S1'</th>\n",
       "      <th>S2'</th>\n",
       "      <th>S3'</th>\n",
       "      <th>Y1</th>\n",
       "      <th>Y2</th>\n",
       "      <th>I3_Bins</th>\n",
       "    </tr>\n",
       "  </thead>\n",
       "  <tbody>\n",
       "    <tr>\n",
       "      <th>0</th>\n",
       "      <td>AATI</td>\n",
       "      <td>ADVANCED ANALOGIC TECHNOLOGIES INC</td>\n",
       "      <td>3674.0</td>\n",
       "      <td>2.397895</td>\n",
       "      <td>2.351375</td>\n",
       "      <td>2.251292</td>\n",
       "      <td>2.554899</td>\n",
       "      <td>4.812184</td>\n",
       "      <td>1.0</td>\n",
       "      <td>0.028660</td>\n",
       "      <td>...</td>\n",
       "      <td>6.803505</td>\n",
       "      <td>0.614244</td>\n",
       "      <td>0.466674</td>\n",
       "      <td>0.047932</td>\n",
       "      <td>0.004706</td>\n",
       "      <td>0.009157</td>\n",
       "      <td>0.010869</td>\n",
       "      <td>0</td>\n",
       "      <td>1</td>\n",
       "      <td>1</td>\n",
       "    </tr>\n",
       "    <tr>\n",
       "      <th>1</th>\n",
       "      <td>ABPI</td>\n",
       "      <td>ACCENTIA BIOPHARMACEUTICALS INC</td>\n",
       "      <td>2834.0</td>\n",
       "      <td>2.197225</td>\n",
       "      <td>2.397895</td>\n",
       "      <td>2.197225</td>\n",
       "      <td>2.110213</td>\n",
       "      <td>5.035328</td>\n",
       "      <td>0.0</td>\n",
       "      <td>-0.013442</td>\n",
       "      <td>...</td>\n",
       "      <td>0.000000</td>\n",
       "      <td>0.402186</td>\n",
       "      <td>0.302583</td>\n",
       "      <td>0.028254</td>\n",
       "      <td>0.002750</td>\n",
       "      <td>0.011044</td>\n",
       "      <td>0.010817</td>\n",
       "      <td>1</td>\n",
       "      <td>0</td>\n",
       "      <td>1</td>\n",
       "    </tr>\n",
       "    <tr>\n",
       "      <th>2</th>\n",
       "      <td>ACAD</td>\n",
       "      <td>ACADIA PHARMACEUTICALS INC</td>\n",
       "      <td>2834.0</td>\n",
       "      <td>2.079442</td>\n",
       "      <td>2.708050</td>\n",
       "      <td>2.564949</td>\n",
       "      <td>2.041220</td>\n",
       "      <td>4.510860</td>\n",
       "      <td>1.0</td>\n",
       "      <td>0.020503</td>\n",
       "      <td>...</td>\n",
       "      <td>0.000000</td>\n",
       "      <td>0.776228</td>\n",
       "      <td>0.585412</td>\n",
       "      <td>0.065705</td>\n",
       "      <td>0.006504</td>\n",
       "      <td>0.006252</td>\n",
       "      <td>0.011338</td>\n",
       "      <td>1</td>\n",
       "      <td>0</td>\n",
       "      <td>1</td>\n",
       "    </tr>\n",
       "    <tr>\n",
       "      <th>3</th>\n",
       "      <td>ACHN</td>\n",
       "      <td>ACHILLION PHARMACEUTICALS INC</td>\n",
       "      <td>2834.0</td>\n",
       "      <td>2.525729</td>\n",
       "      <td>2.833213</td>\n",
       "      <td>2.708050</td>\n",
       "      <td>2.594508</td>\n",
       "      <td>5.347108</td>\n",
       "      <td>1.0</td>\n",
       "      <td>0.019825</td>\n",
       "      <td>...</td>\n",
       "      <td>0.000000</td>\n",
       "      <td>0.835659</td>\n",
       "      <td>0.616339</td>\n",
       "      <td>0.072892</td>\n",
       "      <td>0.007239</td>\n",
       "      <td>0.007118</td>\n",
       "      <td>0.013231</td>\n",
       "      <td>1</td>\n",
       "      <td>1</td>\n",
       "      <td>1</td>\n",
       "    </tr>\n",
       "    <tr>\n",
       "      <th>4</th>\n",
       "      <td>ACLI</td>\n",
       "      <td>AMERICAN COMMERCIAL LINES INC.</td>\n",
       "      <td>4492.0</td>\n",
       "      <td>3.091042</td>\n",
       "      <td>3.091042</td>\n",
       "      <td>2.995732</td>\n",
       "      <td>4.053523</td>\n",
       "      <td>4.394449</td>\n",
       "      <td>1.0</td>\n",
       "      <td>-0.035518</td>\n",
       "      <td>...</td>\n",
       "      <td>7.601402</td>\n",
       "      <td>0.546682</td>\n",
       "      <td>0.397861</td>\n",
       "      <td>0.041248</td>\n",
       "      <td>0.004038</td>\n",
       "      <td>0.009997</td>\n",
       "      <td>0.011198</td>\n",
       "      <td>0</td>\n",
       "      <td>1</td>\n",
       "      <td>2</td>\n",
       "    </tr>\n",
       "  </tbody>\n",
       "</table>\n",
       "<p>5 rows × 23 columns</p>\n",
       "</div>"
      ],
      "text/plain": [
       "     I1                                  I2      I3     P_IPO       P_H  \\\n",
       "0  AATI  ADVANCED ANALOGIC TECHNOLOGIES INC  3674.0  2.397895  2.351375   \n",
       "1  ABPI     ACCENTIA BIOPHARMACEUTICALS INC  2834.0  2.197225  2.397895   \n",
       "2  ACAD          ACADIA PHARMACEUTICALS INC  2834.0  2.079442  2.708050   \n",
       "3  ACHN       ACHILLION PHARMACEUTICALS INC  2834.0  2.525729  2.833213   \n",
       "4  ACLI     AMERICAN COMMERCIAL LINES INC.   4492.0  3.091042  3.091042   \n",
       "\n",
       "        P_L    P_1Day        C1   C2        C4   ...          C6'       T3'  \\\n",
       "0  2.251292  2.554899  4.812184  1.0  0.028660   ...     6.803505  0.614244   \n",
       "1  2.197225  2.110213  5.035328  0.0 -0.013442   ...     0.000000  0.402186   \n",
       "2  2.564949  2.041220  4.510860  1.0  0.020503   ...     0.000000  0.776228   \n",
       "3  2.708050  2.594508  5.347108  1.0  0.019825   ...     0.000000  0.835659   \n",
       "4  2.995732  4.053523  4.394449  1.0 -0.035518   ...     7.601402  0.546682   \n",
       "\n",
       "        T4'       T5'       S1'       S2'       S3'  Y1  Y2  I3_Bins  \n",
       "0  0.466674  0.047932  0.004706  0.009157  0.010869   0   1        1  \n",
       "1  0.302583  0.028254  0.002750  0.011044  0.010817   1   0        1  \n",
       "2  0.585412  0.065705  0.006504  0.006252  0.011338   1   0        1  \n",
       "3  0.616339  0.072892  0.007239  0.007118  0.013231   1   1        1  \n",
       "4  0.397861  0.041248  0.004038  0.009997  0.011198   0   1        2  \n",
       "\n",
       "[5 rows x 23 columns]"
      ]
     },
     "execution_count": 82,
     "metadata": {},
     "output_type": "execute_result"
    }
   ],
   "source": [
    "## Creating 4 Bins for the data that we have seen based on the SIC Codes\n",
    "### Creating a function that will bin the column \"I3\"\n",
    "def I3_Binning(I3):\n",
    "    if I3 < 2000:\n",
    "        return(0)\n",
    "    if I3 >= 2000 and I3 <= 3999:\n",
    "        return(1)\n",
    "    if I3 >= 4000 and I3 <= 6999:\n",
    "        return(2)\n",
    "    if I3 >= 7000:\n",
    "        return(3)\n",
    "    \n",
    "#### Applying the function \"I3_Binning\"\n",
    "df_data['I3_Bins'] = df_data['I3'].apply(I3_Binning)\n",
    "#### Showing the dataframe to check if the new column has been created\n",
    "df_data.head()"
   ]
  },
  {
   "cell_type": "code",
   "execution_count": 83,
   "metadata": {},
   "outputs": [
    {
     "data": {
      "text/plain": [
       "(array([ 35.,   0.,   0., 309.,   0.,   0., 131.,   0.,   0., 207.]),\n",
       " array([0. , 0.3, 0.6, 0.9, 1.2, 1.5, 1.8, 2.1, 2.4, 2.7, 3. ]),\n",
       " <a list of 10 Patch objects>)"
      ]
     },
     "execution_count": 83,
     "metadata": {},
     "output_type": "execute_result"
    },
    {
     "data": {
      "image/png": "[encoded data removed]",
      "text/plain": [
       "<Figure size 432x288 with 1 Axes>"
      ]
     },
     "metadata": {},
     "output_type": "display_data"
    }
   ],
   "source": [
    "# Plotting the new column \"I3_Bins\"\n",
    "plt.hist(df_data.I3_Bins)"
   ]
  },
  {
   "cell_type": "code",
   "execution_count": 86,
   "metadata": {},
   "outputs": [
    {
     "data": {
      "text/html": [
       "<div>\n",
       "<style scoped>\n",
       "    .dataframe tbody tr th:only-of-type {\n",
       "        vertical-align: middle;\n",
       "    }\n",
       "\n",
       "    .dataframe tbody tr th {\n",
       "        vertical-align: top;\n",
       "    }\n",
       "\n",
       "    .dataframe thead th {\n",
       "        text-align: right;\n",
       "    }\n",
       "</style>\n",
       "<table border=\"1\" class=\"dataframe\">\n",
       "  <thead>\n",
       "    <tr style=\"text-align: right;\">\n",
       "      <th></th>\n",
       "      <th>I1</th>\n",
       "      <th>I2</th>\n",
       "      <th>I3</th>\n",
       "      <th>P_IPO</th>\n",
       "      <th>P_H</th>\n",
       "      <th>P_L</th>\n",
       "      <th>P_1Day</th>\n",
       "      <th>C1</th>\n",
       "      <th>C2</th>\n",
       "      <th>C4</th>\n",
       "      <th>...</th>\n",
       "      <th>C6'</th>\n",
       "      <th>T3'</th>\n",
       "      <th>T4'</th>\n",
       "      <th>T5'</th>\n",
       "      <th>S1'</th>\n",
       "      <th>S2'</th>\n",
       "      <th>S3'</th>\n",
       "      <th>Y1</th>\n",
       "      <th>Y2</th>\n",
       "      <th>I3_Bins</th>\n",
       "    </tr>\n",
       "  </thead>\n",
       "  <tbody>\n",
       "    <tr>\n",
       "      <th>0</th>\n",
       "      <td>AATI</td>\n",
       "      <td>ADVANCED ANALOGIC TECHNOLOGIES INC</td>\n",
       "      <td>3674.0</td>\n",
       "      <td>2.397895</td>\n",
       "      <td>2.351375</td>\n",
       "      <td>2.251292</td>\n",
       "      <td>2.554899</td>\n",
       "      <td>4.812184</td>\n",
       "      <td>1.0</td>\n",
       "      <td>0.028660</td>\n",
       "      <td>...</td>\n",
       "      <td>6.803505</td>\n",
       "      <td>0.614244</td>\n",
       "      <td>0.466674</td>\n",
       "      <td>0.047932</td>\n",
       "      <td>0.004706</td>\n",
       "      <td>0.009157</td>\n",
       "      <td>0.010869</td>\n",
       "      <td>0</td>\n",
       "      <td>1</td>\n",
       "      <td>1</td>\n",
       "    </tr>\n",
       "    <tr>\n",
       "      <th>1</th>\n",
       "      <td>ABPI</td>\n",
       "      <td>ACCENTIA BIOPHARMACEUTICALS INC</td>\n",
       "      <td>2834.0</td>\n",
       "      <td>2.197225</td>\n",
       "      <td>2.397895</td>\n",
       "      <td>2.197225</td>\n",
       "      <td>2.110213</td>\n",
       "      <td>5.035328</td>\n",
       "      <td>0.0</td>\n",
       "      <td>-0.013442</td>\n",
       "      <td>...</td>\n",
       "      <td>0.000000</td>\n",
       "      <td>0.402186</td>\n",
       "      <td>0.302583</td>\n",
       "      <td>0.028254</td>\n",
       "      <td>0.002750</td>\n",
       "      <td>0.011044</td>\n",
       "      <td>0.010817</td>\n",
       "      <td>1</td>\n",
       "      <td>0</td>\n",
       "      <td>1</td>\n",
       "    </tr>\n",
       "    <tr>\n",
       "      <th>2</th>\n",
       "      <td>ACAD</td>\n",
       "      <td>ACADIA PHARMACEUTICALS INC</td>\n",
       "      <td>2834.0</td>\n",
       "      <td>2.079442</td>\n",
       "      <td>2.708050</td>\n",
       "      <td>2.564949</td>\n",
       "      <td>2.041220</td>\n",
       "      <td>4.510860</td>\n",
       "      <td>1.0</td>\n",
       "      <td>0.020503</td>\n",
       "      <td>...</td>\n",
       "      <td>0.000000</td>\n",
       "      <td>0.776228</td>\n",
       "      <td>0.585412</td>\n",
       "      <td>0.065705</td>\n",
       "      <td>0.006504</td>\n",
       "      <td>0.006252</td>\n",
       "      <td>0.011338</td>\n",
       "      <td>1</td>\n",
       "      <td>0</td>\n",
       "      <td>1</td>\n",
       "    </tr>\n",
       "    <tr>\n",
       "      <th>3</th>\n",
       "      <td>ACHN</td>\n",
       "      <td>ACHILLION PHARMACEUTICALS INC</td>\n",
       "      <td>2834.0</td>\n",
       "      <td>2.525729</td>\n",
       "      <td>2.833213</td>\n",
       "      <td>2.708050</td>\n",
       "      <td>2.594508</td>\n",
       "      <td>5.347108</td>\n",
       "      <td>1.0</td>\n",
       "      <td>0.019825</td>\n",
       "      <td>...</td>\n",
       "      <td>0.000000</td>\n",
       "      <td>0.835659</td>\n",
       "      <td>0.616339</td>\n",
       "      <td>0.072892</td>\n",
       "      <td>0.007239</td>\n",
       "      <td>0.007118</td>\n",
       "      <td>0.013231</td>\n",
       "      <td>1</td>\n",
       "      <td>1</td>\n",
       "      <td>1</td>\n",
       "    </tr>\n",
       "    <tr>\n",
       "      <th>4</th>\n",
       "      <td>ACLI</td>\n",
       "      <td>AMERICAN COMMERCIAL LINES INC.</td>\n",
       "      <td>4492.0</td>\n",
       "      <td>3.091042</td>\n",
       "      <td>3.091042</td>\n",
       "      <td>2.995732</td>\n",
       "      <td>4.053523</td>\n",
       "      <td>4.394449</td>\n",
       "      <td>1.0</td>\n",
       "      <td>-0.035518</td>\n",
       "      <td>...</td>\n",
       "      <td>7.601402</td>\n",
       "      <td>0.546682</td>\n",
       "      <td>0.397861</td>\n",
       "      <td>0.041248</td>\n",
       "      <td>0.004038</td>\n",
       "      <td>0.009997</td>\n",
       "      <td>0.011198</td>\n",
       "      <td>0</td>\n",
       "      <td>1</td>\n",
       "      <td>2</td>\n",
       "    </tr>\n",
       "  </tbody>\n",
       "</table>\n",
       "<p>5 rows × 23 columns</p>\n",
       "</div>"
      ],
      "text/plain": [
       "     I1                                  I2      I3     P_IPO       P_H  \\\n",
       "0  AATI  ADVANCED ANALOGIC TECHNOLOGIES INC  3674.0  2.397895  2.351375   \n",
       "1  ABPI     ACCENTIA BIOPHARMACEUTICALS INC  2834.0  2.197225  2.397895   \n",
       "2  ACAD          ACADIA PHARMACEUTICALS INC  2834.0  2.079442  2.708050   \n",
       "3  ACHN       ACHILLION PHARMACEUTICALS INC  2834.0  2.525729  2.833213   \n",
       "4  ACLI     AMERICAN COMMERCIAL LINES INC.   4492.0  3.091042  3.091042   \n",
       "\n",
       "        P_L    P_1Day        C1   C2        C4   ...          C6'       T3'  \\\n",
       "0  2.251292  2.554899  4.812184  1.0  0.028660   ...     6.803505  0.614244   \n",
       "1  2.197225  2.110213  5.035328  0.0 -0.013442   ...     0.000000  0.402186   \n",
       "2  2.564949  2.041220  4.510860  1.0  0.020503   ...     0.000000  0.776228   \n",
       "3  2.708050  2.594508  5.347108  1.0  0.019825   ...     0.000000  0.835659   \n",
       "4  2.995732  4.053523  4.394449  1.0 -0.035518   ...     7.601402  0.546682   \n",
       "\n",
       "        T4'       T5'       S1'       S2'       S3'  Y1  Y2  I3_Bins  \n",
       "0  0.466674  0.047932  0.004706  0.009157  0.010869   0   1        1  \n",
       "1  0.302583  0.028254  0.002750  0.011044  0.010817   1   0        1  \n",
       "2  0.585412  0.065705  0.006504  0.006252  0.011338   1   0        1  \n",
       "3  0.616339  0.072892  0.007239  0.007118  0.013231   1   1        1  \n",
       "4  0.397861  0.041248  0.004038  0.009997  0.011198   0   1        2  \n",
       "\n",
       "[5 rows x 23 columns]"
      ]
     },
     "execution_count": 86,
     "metadata": {},
     "output_type": "execute_result"
    }
   ],
   "source": [
    "### Due to the bins `0` and `2`, we have decided to combine them by updating the function \"I3_Binning\"\n",
    "def I3_Binning(I3):\n",
    "    if I3 < 2000:\n",
    "        return(2)\n",
    "    if I3 >= 2000 and I3 <= 3999:\n",
    "        return(1)\n",
    "    if I3 >= 4000 and I3 <= 6999:\n",
    "        return(2)\n",
    "    if I3 >= 7000:\n",
    "        return(3)\n",
    "\n",
    "# Applying the function \"I3_Binning\"\n",
    "df_data['I3_Bins'] = df_data.I3.apply(I3_Binning)\n",
    "# Displaying to check the datafram\n",
    "df_data.head()"
   ]
  },
  {
   "cell_type": "code",
   "execution_count": 89,
   "metadata": {},
   "outputs": [
    {
     "data": {
      "text/plain": [
       "(array([309.,   0.,   0.,   0.,   0., 166.,   0.,   0.,   0., 207.]),\n",
       " array([1. , 1.2, 1.4, 1.6, 1.8, 2. , 2.2, 2.4, 2.6, 2.8, 3. ]),\n",
       " <a list of 10 Patch objects>)"
      ]
     },
     "execution_count": 89,
     "metadata": {},
     "output_type": "execute_result"
    },
    {
     "data": {
      "image/png": "[encoded data removed]",
      "text/plain": [
       "<Figure size 432x288 with 1 Axes>"
      ]
     },
     "metadata": {},
     "output_type": "display_data"
    }
   ],
   "source": [
    "# Plotting the bins that we created\n",
    "\n",
    "plt.hist(df_data['I3_Bins'])"
   ]
  },
  {
   "cell_type": "code",
   "execution_count": null,
   "metadata": {},
   "outputs": [],
   "source": []
  }
 ],
 "metadata": {
  "kernelspec": {
   "display_name": "Python 3",
   "language": "python",
   "name": "python3"
  },
  "language_info": {
   "codemirror_mode": {
    "name": "ipython",
    "version": 3
   },
   "file_extension": ".py",
   "mimetype": "text/x-python",
   "name": "python",
   "nbconvert_exporter": "python",
   "pygments_lexer": "ipython3",
   "version": "3.6.5"
  }
 },
 "nbformat": 4,
 "nbformat_minor": 2
}
