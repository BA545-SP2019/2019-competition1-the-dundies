{
 "cells": [
  {
   "cell_type": "markdown",
   "metadata": {},
   "source": [
    "# Competition 1 #"
   ]
  },
  {
   "cell_type": "markdown",
   "metadata": {},
   "source": [
    "#### Research Question & Goal ####\n",
    "\n",
    "What are the determinants of the IPO underpricing phenomena? It is our job as a group to understand and identify the underlying determinants that factor into IPO underpricing."
   ]
  },
  {
   "cell_type": "markdown",
   "metadata": {},
   "source": [
    "### Business Understanding ###\n",
    "\n",
    "According to Investopedia.com, Underpricing is the listing of an intial public offering (IPO) below its market value. When the offer price of the stock is lower than the price of the first trade, the stock is considered to be underpriced. This will only last for a short amount of time, as the demand of the stock is going to drive it back up to its value.\n",
    "\n",
    "From a company standpoint, they wish to have the intial public offering as high as possible, which in turn raises the most capital. The quantitative factors that go into an initial public offering are all financial analysis reports from the company itself. Before the IPO, the company will be analyzed by its sales, expenses, earnings, and cash flow. Furthermore, a company's earnings and expected earnings growth are the biggest factors in the IPO. Marketability in a specific industry and the general market also can drive an IPO up or down.\n",
    "\n",
    "Once the investment bankers or IPO underwriters determine the IPO price of the company's stock, the day before the stock is offered publically, the company will market the IPO to potential investors. For historical purposes, IPOs are viewed as risky investments because of the lack of historical data that is collected on them. The less liquidity that the stock/company has and predicatble IPO shares are going to be, the more likely they are going to be underprices to compensate for assumed risk. Company's also underprice their IPO to entice more investors to buy stocks to raise more capital.\n",
    "\n",
    "With all of this information about intial public offerings, is there a few determinants that can be identified as to why the phenomenon of underpricing exists? The dataset that we have been provided provide information about companies and information regarding their IPO, such as IPO Offering, IPO Characteristics, Textual Characterisitics, Sentiment Characteristics, Target Variables, Control Variables, and IPO Identifiers.\n",
    "\n",
    "The variables that have been provided are listed below:\n",
    "\n",
    " - P(IPO) - Offer Price\n",
    " - P(H) - Price Range Higher Bound\n",
    " - P(L) - Price Range Lower Bound\n",
    " - P(1Day) - First Day Trading Price\n",
    " - C1 - Days\n",
    " - C2 - Top-Tier Dummy\n",
    " - C3 - Earnings per Share\n",
    " - C4 - Prior NASDAQ 15-Day Returns\n",
    " - C5 - Outstanding Shares\n",
    " - C6 - Offering Shares\n",
    " - C7 - Sales\n",
    " - T1 - Number of Sentences\n",
    " - T2 - Number of Words\n",
    " - T3 - Number of Real Words\n",
    " - T4 - Number of Long Sentences\n",
    " - T5 - Number of Long Words\n",
    " - S1 - Number of Positive Words\n",
    " - S2 - Number of Negative Words\n",
    " - S3 - Number of Uncertain Words\n",
    " - Y1 - Pre-IPO Price Revision\n",
    " - Y2 - Post-IPO Initial Return\n",
    " - C3' - Positive EPS Dummy\n",
    " - C5' - Share Overhang\n",
    " - C6' - Up Revision\n",
    " - I1 - Ticker\n",
    " - I2 - Company Name\n",
    " - I3 - Standard Industry Classifier"
   ]
  },
  {
   "cell_type": "markdown",
   "metadata": {},
   "source": [
    "## Data Understanding ##"
   ]
  },
  {
   "cell_type": "code",
   "execution_count": 1,
   "metadata": {},
   "outputs": [],
   "source": [
    "# Importing useful packages\n",
    "import pandas as pd\n",
    "import numpy as np\n",
    "import matplotlib.pyplot as plt\n",
    "import seaborn as sb\n",
    "from scipy.stats import kurtosis, skew\n",
    "\n",
    "# Read in the .xlsx datafile and converting into a DataFrame\n",
    "data = pd.read_excel(\"../2019-competition1-the-dundies/Competition1_raw_data.xlsx\",header=0,na_values=\"-\")\n",
    "df_data = pd.DataFrame(data)"
   ]
  },
  {
   "cell_type": "code",
   "execution_count": 2,
   "metadata": {},
   "outputs": [
    {
     "name": "stdout",
     "output_type": "stream",
     "text": [
      "     I1                                  I2    I3  P(IPO)  P(H)  P(L)  \\\n",
      "0  AATI  ADVANCED ANALOGIC TECHNOLOGIES INC  3674    10.0   9.5   8.5   \n",
      "1  ABPI     ACCENTIA BIOPHARMACEUTICALS INC  2834     8.0  10.0   8.0   \n",
      "2  ACAD          ACADIA PHARMACEUTICALS INC  2834     7.0  14.0  12.0   \n",
      "3  ACHN       ACHILLION PHARMACEUTICALS INC  2834    11.5  16.0  14.0   \n",
      "4  ACLI     AMERICAN COMMERCIAL LINES INC.   4492    21.0  21.0  19.0   \n",
      "\n",
      "     P(1Day)     C1   C2    C3  ...            C6       C7     T1       T2  \\\n",
      "0  11.870000  122.0  1.0  3.43  ...    10600000.0   51.345  470.0  12719.0   \n",
      "1   7.250000  259.0  0.0 -1.62  ...     2400000.0   25.936  791.0  21792.0   \n",
      "2   6.700000   90.0  1.0 -1.24  ...     5000000.0    7.378  201.0   5262.0   \n",
      "3  12.390000  209.0  1.0 -0.91  ...     4500000.0    8.526  328.0   8259.0   \n",
      "4  56.599998   80.0  1.0  0.07  ...     8250000.0  632.298  572.0  14830.0   \n",
      "\n",
      "        T3     T4      T5    S1     S2     S3  \n",
      "0  11560.0  301.0   690.0  62.0  117.0  139.0  \n",
      "1  19585.0  510.0  1120.0  71.0  242.0  237.0  \n",
      "2   4785.0  128.0   325.0  61.0   33.0   60.0  \n",
      "3   7574.0  177.0   509.0  80.0   59.0  110.0  \n",
      "4  13176.0  336.0   720.0  67.0  149.0  167.0  \n",
      "\n",
      "[5 rows x 22 columns]\n"
     ]
    }
   ],
   "source": [
    "# Understanding the datatypes for the features\n",
    "print(df_data.head())"
   ]
  },
  {
   "cell_type": "markdown",
   "metadata": {},
   "source": [
    "__We will remove the column headers that have parentheses in them to underscores, as it will be easier to reference those columns.__"
   ]
  },
  {
   "cell_type": "code",
   "execution_count": 3,
   "metadata": {},
   "outputs": [
    {
     "name": "stdout",
     "output_type": "stream",
     "text": [
      "     I1                                  I2    I3  P_IPO   P_H   P_L  \\\n",
      "0  AATI  ADVANCED ANALOGIC TECHNOLOGIES INC  3674   10.0   9.5   8.5   \n",
      "1  ABPI     ACCENTIA BIOPHARMACEUTICALS INC  2834    8.0  10.0   8.0   \n",
      "2  ACAD          ACADIA PHARMACEUTICALS INC  2834    7.0  14.0  12.0   \n",
      "3  ACHN       ACHILLION PHARMACEUTICALS INC  2834   11.5  16.0  14.0   \n",
      "4  ACLI     AMERICAN COMMERCIAL LINES INC.   4492   21.0  21.0  19.0   \n",
      "\n",
      "      P_1Day     C1   C2    C3  ...            C6       C7     T1       T2  \\\n",
      "0  11.870000  122.0  1.0  3.43  ...    10600000.0   51.345  470.0  12719.0   \n",
      "1   7.250000  259.0  0.0 -1.62  ...     2400000.0   25.936  791.0  21792.0   \n",
      "2   6.700000   90.0  1.0 -1.24  ...     5000000.0    7.378  201.0   5262.0   \n",
      "3  12.390000  209.0  1.0 -0.91  ...     4500000.0    8.526  328.0   8259.0   \n",
      "4  56.599998   80.0  1.0  0.07  ...     8250000.0  632.298  572.0  14830.0   \n",
      "\n",
      "        T3     T4      T5    S1     S2     S3  \n",
      "0  11560.0  301.0   690.0  62.0  117.0  139.0  \n",
      "1  19585.0  510.0  1120.0  71.0  242.0  237.0  \n",
      "2   4785.0  128.0   325.0  61.0   33.0   60.0  \n",
      "3   7574.0  177.0   509.0  80.0   59.0  110.0  \n",
      "4  13176.0  336.0   720.0  67.0  149.0  167.0  \n",
      "\n",
      "[5 rows x 22 columns]\n"
     ]
    }
   ],
   "source": [
    "# Renaming Column Headers with '()' in it\n",
    "cols = ['I1','I2','I3','P_IPO','P_H','P_L','P_1Day','C1','C2','C3','C4','C5','C6','C7','T1','T2','T3','T4','T5','S1','S2','S3']\n",
    "\n",
    "# Define columns of 'df_data' using 'cols'\n",
    "df_data.columns = cols\n",
    "\n",
    "# Displaying the first 5 rows of dataframe 'df_data'\n",
    "# it should show 22 columns\n",
    "print(df_data.head())"
   ]
  },
  {
   "cell_type": "code",
   "execution_count": 4,
   "metadata": {},
   "outputs": [
    {
     "name": "stdout",
     "output_type": "stream",
     "text": [
      "            P_IPO         P_H         P_L       P_1Day           C1  \\\n",
      "count  677.000000  672.000000  672.000000   660.000000   660.000000   \n",
      "mean    13.837666   15.481190   13.515045    25.934766   149.728788   \n",
      "std      6.053731    6.653429    5.835646    73.234948   152.817467   \n",
      "min      3.000000    0.000000    3.000000     0.000000    10.000000   \n",
      "25%     10.000000   12.500000   11.000000    11.000000    85.000000   \n",
      "50%     13.500000   15.000000   13.000000    14.845000   107.000000   \n",
      "75%     17.000000   17.000000   15.000000    20.485000   155.250000   \n",
      "max     85.000000  135.000000  108.000000  1159.200562  2087.000000   \n",
      "\n",
      "               C2           C3          C4            C5            C6  \\\n",
      "count  660.000000   646.000000  660.000000  6.760000e+02  6.760000e+02   \n",
      "mean     0.859091     1.788904    0.007282  4.935776e+07  1.241519e+07   \n",
      "std      0.348192   162.666532    0.033318  1.043764e+08  2.512855e+07   \n",
      "min      0.000000  -786.239000   -0.162352  3.693227e+06  5.250000e+05   \n",
      "25%      1.000000    -0.852500   -0.013927  1.871417e+07  5.000000e+06   \n",
      "50%      1.000000     0.010000    0.009125  2.740018e+07  7.398704e+06   \n",
      "75%      1.000000     0.470000    0.031571  4.980786e+07  1.200000e+07   \n",
      "max      1.000000  3864.500000    0.092896  2.138085e+09  4.212336e+08   \n",
      "\n",
      "                 C7           T1            T2            T3           T4  \\\n",
      "count    610.000000   681.000000    681.000000    681.000000   681.000000   \n",
      "mean     500.459962   465.634361  12758.606461  11395.844347   294.353891   \n",
      "std     1648.337634   175.741647   5449.644597   4839.670179   121.532637   \n",
      "min        0.074000   132.000000      0.000000      0.000000     0.000000   \n",
      "25%       37.245750   351.000000   9195.000000   8162.000000   213.000000   \n",
      "50%      103.833000   444.000000  12045.000000  10785.000000   279.000000   \n",
      "75%      331.138000   551.000000  15241.000000  13760.000000   354.000000   \n",
      "max    30683.000000  1750.000000  49056.000000  43952.000000  1058.000000   \n",
      "\n",
      "                 T5          S1          S2          S3  \n",
      "count    681.000000  681.000000  681.000000  681.000000  \n",
      "mean     679.220264   68.421439  120.104258  144.759178  \n",
      "std      472.914323   39.096525   84.828959   69.276285  \n",
      "min       -1.000000   -1.000000   20.000000   26.000000  \n",
      "25%      462.000000   45.000000   73.000000  100.000000  \n",
      "50%      624.000000   60.000000  100.000000  134.000000  \n",
      "75%      795.000000   85.000000  142.000000  173.000000  \n",
      "max    10277.000000  309.000000  944.000000  883.000000  \n"
     ]
    }
   ],
   "source": [
    "# Describing the Data\n",
    "print(df_data.describe())"
   ]
  },
  {
   "cell_type": "code",
   "execution_count": 5,
   "metadata": {},
   "outputs": [
    {
     "name": "stdout",
     "output_type": "stream",
     "text": [
      "I1         object\n",
      "I2         object\n",
      "I3         object\n",
      "P_IPO     float64\n",
      "P_H       float64\n",
      "P_L       float64\n",
      "P_1Day    float64\n",
      "C1        float64\n",
      "C2        float64\n",
      "C3        float64\n",
      "C4        float64\n",
      "C5        float64\n",
      "C6        float64\n",
      "C7        float64\n",
      "T1        float64\n",
      "T2        float64\n",
      "T3        float64\n",
      "T4        float64\n",
      "T5        float64\n",
      "S1        float64\n",
      "S2        float64\n",
      "S3        float64\n",
      "dtype: object\n"
     ]
    }
   ],
   "source": [
    "# Defining the Data Types of the Data\n",
    "print(df_data.dtypes)"
   ]
  },
  {
   "cell_type": "markdown",
   "metadata": {},
   "source": [
    "### Understanding Missing Values ###\n",
    "\n",
    "Upon intial investigation, there seem to be no missing values, which is great.\n",
    "\n",
    "But doing some further digging, there are missing values, but the 'for loop', it does not pick up on dashes/hyphens. To show that there are missing values in the dataset."
   ]
  },
  {
   "cell_type": "code",
   "execution_count": 6,
   "metadata": {},
   "outputs": [
    {
     "name": "stdout",
     "output_type": "stream",
     "text": [
      "I1 0\n",
      "I2 0\n",
      "I3 8\n",
      "P_IPO 5\n",
      "P_H 10\n",
      "P_L 10\n",
      "P_1Day 22\n",
      "C1 22\n",
      "C2 22\n",
      "C3 36\n",
      "C4 22\n",
      "C5 6\n",
      "C6 6\n",
      "C7 72\n",
      "T1 1\n",
      "T2 1\n",
      "T3 1\n",
      "T4 1\n",
      "T5 1\n",
      "S1 1\n",
      "S2 1\n",
      "S3 1\n"
     ]
    }
   ],
   "source": [
    "# Creating an empty list for column names\n",
    "names = []\n",
    "\n",
    "# Creating an empty list for the number of null values in each column\n",
    "values = []\n",
    "\n",
    "# Checking for Missing Values\n",
    "for col in df_data.columns:\n",
    "    names.append(col)\n",
    "    values.append(df_data[col].isnull().sum())\n",
    "    print(names[-1],values[-1])"
   ]
  },
  {
   "cell_type": "code",
   "execution_count": 7,
   "metadata": {},
   "outputs": [
    {
     "data": {
      "text/plain": [
       "Text(0, 0.5, 'Count of Missing Value')"
      ]
     },
     "execution_count": 7,
     "metadata": {},
     "output_type": "execute_result"
    },
    {
     "data": {
      "image/png": "[encoded data removed]",
      "text/plain": [
       "<Figure size 432x288 with 1 Axes>"
      ]
     },
     "metadata": {},
     "output_type": "display_data"
    }
   ],
   "source": [
    "# Creating a graph to visulize missing values\n",
    "missing_values = df_data.isnull().sum()\n",
    "missing_values = missing_values[missing_values > 0]\n",
    "missing_values.sort_values(inplace=True)\n",
    "missing_values.plot.bar()\n",
    "\n",
    "# Adding peripherials to graph\n",
    "plt.title('Missing Values')\n",
    "plt.xlabel('Feature')\n",
    "plt.ylabel('Count of Missing Value')"
   ]
  },
  {
   "cell_type": "markdown",
   "metadata": {},
   "source": [
    "##### More Missing Values ####\n",
    "\n",
    "There are only two columns `I1` and `I2` that do not have any \"hyphens\" or missing values."
   ]
  },
  {
   "cell_type": "markdown",
   "metadata": {},
   "source": [
    "The issue that we have now is how to deal with these missing values.\n",
    "\n",
    "It is unique to see that columns `T1` through `S3` all have 1 missing value. Is it safe to assume that the individual missing values from those columns all belong to one record? Possibly. We will have to identify that one record if that is the case."
   ]
  },
  {
   "cell_type": "markdown",
   "metadata": {},
   "source": [
    "#### Imputing Missing Values ####\n",
    "\n",
    "We are going to start by imputing values 1 column at a time, as not all the columns will call for the same imputation.\n",
    "\n",
    "We will begin with column `I3`, as we can find the SIC code online through multiple websites for cross-checking and validation."
   ]
  },
  {
   "cell_type": "code",
   "execution_count": 8,
   "metadata": {},
   "outputs": [
    {
     "data": {
      "text/html": [
       "<div>\n",
       "<style scoped>\n",
       "    .dataframe tbody tr th:only-of-type {\n",
       "        vertical-align: middle;\n",
       "    }\n",
       "\n",
       "    .dataframe tbody tr th {\n",
       "        vertical-align: top;\n",
       "    }\n",
       "\n",
       "    .dataframe thead th {\n",
       "        text-align: right;\n",
       "    }\n",
       "</style>\n",
       "<table border=\"1\" class=\"dataframe\">\n",
       "  <thead>\n",
       "    <tr style=\"text-align: right;\">\n",
       "      <th></th>\n",
       "      <th>I1</th>\n",
       "      <th>I2</th>\n",
       "      <th>I3</th>\n",
       "      <th>P_IPO</th>\n",
       "      <th>P_H</th>\n",
       "      <th>P_L</th>\n",
       "      <th>P_1Day</th>\n",
       "      <th>C1</th>\n",
       "      <th>C2</th>\n",
       "      <th>C3</th>\n",
       "      <th>...</th>\n",
       "      <th>C6</th>\n",
       "      <th>C7</th>\n",
       "      <th>T1</th>\n",
       "      <th>T2</th>\n",
       "      <th>T3</th>\n",
       "      <th>T4</th>\n",
       "      <th>T5</th>\n",
       "      <th>S1</th>\n",
       "      <th>S2</th>\n",
       "      <th>S3</th>\n",
       "    </tr>\n",
       "  </thead>\n",
       "  <tbody>\n",
       "    <tr>\n",
       "      <th>10</th>\n",
       "      <td>ADKU</td>\n",
       "      <td>ADCARE HEALTH SYSTEMS, INC</td>\n",
       "      <td>NaN</td>\n",
       "      <td>NaN</td>\n",
       "      <td>NaN</td>\n",
       "      <td>NaN</td>\n",
       "      <td>NaN</td>\n",
       "      <td>NaN</td>\n",
       "      <td>NaN</td>\n",
       "      <td>NaN</td>\n",
       "      <td>...</td>\n",
       "      <td>NaN</td>\n",
       "      <td>NaN</td>\n",
       "      <td>332.0</td>\n",
       "      <td>7534.0</td>\n",
       "      <td>6747.0</td>\n",
       "      <td>169.0</td>\n",
       "      <td>263.0</td>\n",
       "      <td>51.0</td>\n",
       "      <td>65.0</td>\n",
       "      <td>74.0</td>\n",
       "    </tr>\n",
       "    <tr>\n",
       "      <th>86</th>\n",
       "      <td>BLT</td>\n",
       "      <td>BLOUNT INTERNATIONAL INC</td>\n",
       "      <td>NaN</td>\n",
       "      <td>NaN</td>\n",
       "      <td>NaN</td>\n",
       "      <td>NaN</td>\n",
       "      <td>NaN</td>\n",
       "      <td>NaN</td>\n",
       "      <td>NaN</td>\n",
       "      <td>NaN</td>\n",
       "      <td>...</td>\n",
       "      <td>NaN</td>\n",
       "      <td>NaN</td>\n",
       "      <td>538.0</td>\n",
       "      <td>12732.0</td>\n",
       "      <td>11126.0</td>\n",
       "      <td>301.0</td>\n",
       "      <td>631.0</td>\n",
       "      <td>94.0</td>\n",
       "      <td>172.0</td>\n",
       "      <td>116.0</td>\n",
       "    </tr>\n",
       "    <tr>\n",
       "      <th>268</th>\n",
       "      <td>GSL</td>\n",
       "      <td>GLOBAL SIGNAL INC</td>\n",
       "      <td>NaN</td>\n",
       "      <td>18.0</td>\n",
       "      <td>NaN</td>\n",
       "      <td>NaN</td>\n",
       "      <td>NaN</td>\n",
       "      <td>NaN</td>\n",
       "      <td>NaN</td>\n",
       "      <td>NaN</td>\n",
       "      <td>...</td>\n",
       "      <td>7000000.0</td>\n",
       "      <td>NaN</td>\n",
       "      <td>631.0</td>\n",
       "      <td>19479.0</td>\n",
       "      <td>17409.0</td>\n",
       "      <td>451.0</td>\n",
       "      <td>976.0</td>\n",
       "      <td>71.0</td>\n",
       "      <td>252.0</td>\n",
       "      <td>155.0</td>\n",
       "    </tr>\n",
       "    <tr>\n",
       "      <th>330</th>\n",
       "      <td>KFI</td>\n",
       "      <td>KKR Financial Holdings LLC</td>\n",
       "      <td>NaN</td>\n",
       "      <td>NaN</td>\n",
       "      <td>NaN</td>\n",
       "      <td>NaN</td>\n",
       "      <td>NaN</td>\n",
       "      <td>NaN</td>\n",
       "      <td>NaN</td>\n",
       "      <td>NaN</td>\n",
       "      <td>...</td>\n",
       "      <td>NaN</td>\n",
       "      <td>NaN</td>\n",
       "      <td>246.0</td>\n",
       "      <td>527.0</td>\n",
       "      <td>9046.0</td>\n",
       "      <td>355.0</td>\n",
       "      <td>10277.0</td>\n",
       "      <td>64.0</td>\n",
       "      <td>48.0</td>\n",
       "      <td>123.0</td>\n",
       "    </tr>\n",
       "    <tr>\n",
       "      <th>400</th>\n",
       "      <td>NAUH</td>\n",
       "      <td>National American University Holdings, Inc.</td>\n",
       "      <td>NaN</td>\n",
       "      <td>NaN</td>\n",
       "      <td>NaN</td>\n",
       "      <td>NaN</td>\n",
       "      <td>NaN</td>\n",
       "      <td>NaN</td>\n",
       "      <td>NaN</td>\n",
       "      <td>NaN</td>\n",
       "      <td>...</td>\n",
       "      <td>NaN</td>\n",
       "      <td>NaN</td>\n",
       "      <td>290.0</td>\n",
       "      <td>8454.0</td>\n",
       "      <td>7137.0</td>\n",
       "      <td>192.0</td>\n",
       "      <td>384.0</td>\n",
       "      <td>45.0</td>\n",
       "      <td>68.0</td>\n",
       "      <td>139.0</td>\n",
       "    </tr>\n",
       "    <tr>\n",
       "      <th>490</th>\n",
       "      <td>RCH</td>\n",
       "      <td>CHINA CGAME, INC.</td>\n",
       "      <td>NaN</td>\n",
       "      <td>3.5</td>\n",
       "      <td>NaN</td>\n",
       "      <td>NaN</td>\n",
       "      <td>NaN</td>\n",
       "      <td>NaN</td>\n",
       "      <td>NaN</td>\n",
       "      <td>NaN</td>\n",
       "      <td>...</td>\n",
       "      <td>737000.0</td>\n",
       "      <td>NaN</td>\n",
       "      <td>322.0</td>\n",
       "      <td>9820.0</td>\n",
       "      <td>8893.0</td>\n",
       "      <td>230.0</td>\n",
       "      <td>410.0</td>\n",
       "      <td>61.0</td>\n",
       "      <td>92.0</td>\n",
       "      <td>91.0</td>\n",
       "    </tr>\n",
       "    <tr>\n",
       "      <th>597</th>\n",
       "      <td>TRMM</td>\n",
       "      <td>Access to Money, Inc.</td>\n",
       "      <td>NaN</td>\n",
       "      <td>NaN</td>\n",
       "      <td>NaN</td>\n",
       "      <td>NaN</td>\n",
       "      <td>NaN</td>\n",
       "      <td>NaN</td>\n",
       "      <td>NaN</td>\n",
       "      <td>NaN</td>\n",
       "      <td>...</td>\n",
       "      <td>NaN</td>\n",
       "      <td>NaN</td>\n",
       "      <td>494.0</td>\n",
       "      <td>12004.0</td>\n",
       "      <td>10226.0</td>\n",
       "      <td>277.0</td>\n",
       "      <td>560.0</td>\n",
       "      <td>46.0</td>\n",
       "      <td>100.0</td>\n",
       "      <td>91.0</td>\n",
       "    </tr>\n",
       "    <tr>\n",
       "      <th>614</th>\n",
       "      <td>TZOO</td>\n",
       "      <td>TRAVELZOO INC</td>\n",
       "      <td>NaN</td>\n",
       "      <td>3.5</td>\n",
       "      <td>NaN</td>\n",
       "      <td>NaN</td>\n",
       "      <td>NaN</td>\n",
       "      <td>NaN</td>\n",
       "      <td>NaN</td>\n",
       "      <td>NaN</td>\n",
       "      <td>...</td>\n",
       "      <td>NaN</td>\n",
       "      <td>NaN</td>\n",
       "      <td>146.0</td>\n",
       "      <td>3600.0</td>\n",
       "      <td>3189.0</td>\n",
       "      <td>88.0</td>\n",
       "      <td>181.0</td>\n",
       "      <td>5.0</td>\n",
       "      <td>26.0</td>\n",
       "      <td>38.0</td>\n",
       "    </tr>\n",
       "  </tbody>\n",
       "</table>\n",
       "<p>8 rows × 22 columns</p>\n",
       "</div>"
      ],
      "text/plain": [
       "       I1                                           I2   I3  P_IPO  P_H  P_L  \\\n",
       "10   ADKU                   ADCARE HEALTH SYSTEMS, INC  NaN    NaN  NaN  NaN   \n",
       "86    BLT                     BLOUNT INTERNATIONAL INC  NaN    NaN  NaN  NaN   \n",
       "268   GSL                            GLOBAL SIGNAL INC  NaN   18.0  NaN  NaN   \n",
       "330   KFI                   KKR Financial Holdings LLC  NaN    NaN  NaN  NaN   \n",
       "400  NAUH  National American University Holdings, Inc.  NaN    NaN  NaN  NaN   \n",
       "490   RCH                            CHINA CGAME, INC.  NaN    3.5  NaN  NaN   \n",
       "597  TRMM                       Access to Money, Inc.   NaN    NaN  NaN  NaN   \n",
       "614  TZOO                                TRAVELZOO INC  NaN    3.5  NaN  NaN   \n",
       "\n",
       "     P_1Day  C1  C2  C3  ...           C6  C7     T1       T2       T3     T4  \\\n",
       "10      NaN NaN NaN NaN  ...          NaN NaN  332.0   7534.0   6747.0  169.0   \n",
       "86      NaN NaN NaN NaN  ...          NaN NaN  538.0  12732.0  11126.0  301.0   \n",
       "268     NaN NaN NaN NaN  ...    7000000.0 NaN  631.0  19479.0  17409.0  451.0   \n",
       "330     NaN NaN NaN NaN  ...          NaN NaN  246.0    527.0   9046.0  355.0   \n",
       "400     NaN NaN NaN NaN  ...          NaN NaN  290.0   8454.0   7137.0  192.0   \n",
       "490     NaN NaN NaN NaN  ...     737000.0 NaN  322.0   9820.0   8893.0  230.0   \n",
       "597     NaN NaN NaN NaN  ...          NaN NaN  494.0  12004.0  10226.0  277.0   \n",
       "614     NaN NaN NaN NaN  ...          NaN NaN  146.0   3600.0   3189.0   88.0   \n",
       "\n",
       "          T5    S1     S2     S3  \n",
       "10     263.0  51.0   65.0   74.0  \n",
       "86     631.0  94.0  172.0  116.0  \n",
       "268    976.0  71.0  252.0  155.0  \n",
       "330  10277.0  64.0   48.0  123.0  \n",
       "400    384.0  45.0   68.0  139.0  \n",
       "490    410.0  61.0   92.0   91.0  \n",
       "597    560.0  46.0  100.0   91.0  \n",
       "614    181.0   5.0   26.0   38.0  \n",
       "\n",
       "[8 rows x 22 columns]"
      ]
     },
     "execution_count": 8,
     "metadata": {},
     "output_type": "execute_result"
    }
   ],
   "source": [
    "# Identifying the row that has the missing values for Column 'I3'\n",
    "df_data[df_data['I3'].isnull()]"
   ]
  },
  {
   "cell_type": "code",
   "execution_count": 9,
   "metadata": {},
   "outputs": [],
   "source": [
    "# Imputation for SIC Codes for Column 'I3'\n",
    "df_data.loc[df_data.index[10], 'I3']=8748\n",
    "df_data.loc[df_data.index[86], 'I3']=5251\n",
    "df_data.loc[df_data.index[268], 'I3']=6282\n",
    "df_data.loc[df_data.index[330], 'I3']=7389\n",
    "df_data.loc[df_data.index[400], 'I3']=6211\n",
    "df_data.loc[df_data.index[490], 'I3']=7372\n",
    "df_data.loc[df_data.index[597], 'I3']=6099\n",
    "df_data.loc[df_data.index[614], 'I3']=4724\n",
    "\n",
    "# Redisplaying Column 'I3' checking for missing values after imputing\n",
    "df_data[df_data['I3'].isnull()]\n",
    "\n",
    "# Making the datatype of column `I3` str\n",
    "df_data['I3'].astype(str);"
   ]
  },
  {
   "cell_type": "code",
   "execution_count": 10,
   "metadata": {},
   "outputs": [
    {
     "data": {
      "text/html": [
       "<div>\n",
       "<style scoped>\n",
       "    .dataframe tbody tr th:only-of-type {\n",
       "        vertical-align: middle;\n",
       "    }\n",
       "\n",
       "    .dataframe tbody tr th {\n",
       "        vertical-align: top;\n",
       "    }\n",
       "\n",
       "    .dataframe thead th {\n",
       "        text-align: right;\n",
       "    }\n",
       "</style>\n",
       "<table border=\"1\" class=\"dataframe\">\n",
       "  <thead>\n",
       "    <tr style=\"text-align: right;\">\n",
       "      <th></th>\n",
       "      <th>I1</th>\n",
       "      <th>I2</th>\n",
       "      <th>I3</th>\n",
       "      <th>P_IPO</th>\n",
       "      <th>P_H</th>\n",
       "      <th>P_L</th>\n",
       "      <th>P_1Day</th>\n",
       "      <th>C1</th>\n",
       "      <th>C2</th>\n",
       "      <th>C3</th>\n",
       "      <th>...</th>\n",
       "      <th>C6</th>\n",
       "      <th>C7</th>\n",
       "      <th>T1</th>\n",
       "      <th>T2</th>\n",
       "      <th>T3</th>\n",
       "      <th>T4</th>\n",
       "      <th>T5</th>\n",
       "      <th>S1</th>\n",
       "      <th>S2</th>\n",
       "      <th>S3</th>\n",
       "    </tr>\n",
       "  </thead>\n",
       "  <tbody>\n",
       "  </tbody>\n",
       "</table>\n",
       "<p>0 rows × 22 columns</p>\n",
       "</div>"
      ],
      "text/plain": [
       "Empty DataFrame\n",
       "Columns: [I1, I2, I3, P_IPO, P_H, P_L, P_1Day, C1, C2, C3, C4, C5, C6, C7, T1, T2, T3, T4, T5, S1, S2, S3]\n",
       "Index: []\n",
       "\n",
       "[0 rows x 22 columns]"
      ]
     },
     "execution_count": 10,
     "metadata": {},
     "output_type": "execute_result"
    }
   ],
   "source": [
    "# Imputation for IPO final offering price for 'P_IPO'\n",
    "df_data.loc[df_data.index[10], 'P_IPO']=9.5\n",
    "df_data.loc[df_data.index[86], 'P_IPO']=16.5\n",
    "df_data.loc[df_data.index[330], 'P_IPO']=24.0\n",
    "df_data.loc[df_data.index[400], 'P_IPO']=8.0\n",
    "df_data.loc[df_data.index[597], 'P_IPO']=11.0\n",
    "\n",
    "df_data[df_data['P_IPO'].isnull()]"
   ]
  },
  {
   "cell_type": "code",
   "execution_count": 11,
   "metadata": {},
   "outputs": [],
   "source": [
    "# Imputation for `C7` Sales\n",
    "## We are using the `Mean` for imputing the sales values for column `C7`\n",
    "df_data['C7'].fillna(df_data['C7'].mean(), inplace=True)"
   ]
  },
  {
   "cell_type": "code",
   "execution_count": 12,
   "metadata": {},
   "outputs": [],
   "source": [
    "# Imputing for `P_H` and `P_L`\n",
    "df_data['P_H'].fillna(df_data['P_H'].mean(), inplace=True)\n",
    "df_data['P_L'].fillna(df_data['P_L'].mean(), inplace=True)"
   ]
  },
  {
   "cell_type": "code",
   "execution_count": 13,
   "metadata": {},
   "outputs": [],
   "source": [
    "# Imputing for `P_1Day`\n",
    "## We are using the 'Median' for imputing the P_1Day missing values, as the mean is higher than the median, indicating skewness\n",
    "df_data['P_1Day'].fillna(df_data['P_1Day'].median(), inplace=True)"
   ]
  },
  {
   "cell_type": "code",
   "execution_count": 14,
   "metadata": {},
   "outputs": [],
   "source": [
    "# Imputing for `C1` through `C4`\n",
    "## We are imputing for column `C1` using the median\n",
    "df_data['C1'].fillna(df_data['C1'].median(), inplace=True)\n",
    "\n",
    "## We are imputing for column `C2` using the mode\n",
    "df_data['C2'].fillna(df_data['C2'].mode()[0], inplace=True)\n",
    "\n",
    "## We are imputing for column `C3` using the mean\n",
    "df_data['C3'].fillna(df_data['C3'].mean(), inplace=True)\n",
    "\n",
    "## We are imputing for column `C4` using the mean\n",
    "df_data['C4'].fillna(df_data['C4'].mean(), inplace=True)\n",
    "\n",
    "## We are imputing for column `C5` using the mean\n",
    "df_data['C5'].fillna(df_data['C5'].mean(), inplace=True)\n",
    "\n",
    "## We are imputing for column `C6` using the median\n",
    "df_data['C6'].fillna(df_data['C6'].median(), inplace=True)"
   ]
  },
  {
   "cell_type": "code",
   "execution_count": 15,
   "metadata": {},
   "outputs": [
    {
     "data": {
      "text/html": [
       "<div>\n",
       "<style scoped>\n",
       "    .dataframe tbody tr th:only-of-type {\n",
       "        vertical-align: middle;\n",
       "    }\n",
       "\n",
       "    .dataframe tbody tr th {\n",
       "        vertical-align: top;\n",
       "    }\n",
       "\n",
       "    .dataframe thead th {\n",
       "        text-align: right;\n",
       "    }\n",
       "</style>\n",
       "<table border=\"1\" class=\"dataframe\">\n",
       "  <thead>\n",
       "    <tr style=\"text-align: right;\">\n",
       "      <th></th>\n",
       "      <th>I1</th>\n",
       "      <th>I2</th>\n",
       "      <th>I3</th>\n",
       "      <th>P_IPO</th>\n",
       "      <th>P_H</th>\n",
       "      <th>P_L</th>\n",
       "      <th>P_1Day</th>\n",
       "      <th>C1</th>\n",
       "      <th>C2</th>\n",
       "      <th>C3</th>\n",
       "      <th>...</th>\n",
       "      <th>C6</th>\n",
       "      <th>C7</th>\n",
       "      <th>T1</th>\n",
       "      <th>T2</th>\n",
       "      <th>T3</th>\n",
       "      <th>T4</th>\n",
       "      <th>T5</th>\n",
       "      <th>S1</th>\n",
       "      <th>S2</th>\n",
       "      <th>S3</th>\n",
       "    </tr>\n",
       "  </thead>\n",
       "  <tbody>\n",
       "  </tbody>\n",
       "</table>\n",
       "<p>0 rows × 22 columns</p>\n",
       "</div>"
      ],
      "text/plain": [
       "Empty DataFrame\n",
       "Columns: [I1, I2, I3, P_IPO, P_H, P_L, P_1Day, C1, C2, C3, C4, C5, C6, C7, T1, T2, T3, T4, T5, S1, S2, S3]\n",
       "Index: []\n",
       "\n",
       "[0 rows x 22 columns]"
      ]
     },
     "execution_count": 15,
     "metadata": {},
     "output_type": "execute_result"
    }
   ],
   "source": [
    "# Imputation for columns `T1` through `S3`\n",
    "## There is only 1 row that has these missing values in these columns\n",
    "### EURX EURAND N.V.\n",
    "df_data.loc[df_data['T1'].isnull()]\n",
    "\n",
    "# Imputing the values for this row would be the most accurate if we find the data from the year of EURX's IPO (2007)\n",
    "## We will impute the values using the Mean of the columns with missing values\n",
    "df_data['T1'].fillna(df_data['T1'].mean(), inplace=True)\n",
    "df_data['T2'].fillna(df_data['T2'].mean(), inplace=True)\n",
    "df_data['T3'].fillna(df_data['T3'].mean(), inplace=True)\n",
    "df_data['T4'].fillna(df_data['T4'].mean(), inplace=True)\n",
    "df_data['T5'].fillna(df_data['T5'].mean(), inplace=True)\n",
    "df_data['S1'].fillna(df_data['S1'].mean(), inplace=True)\n",
    "df_data['S2'].fillna(df_data['S2'].mean(), inplace=True)\n",
    "df_data['S3'].fillna(df_data['S3'].mean(), inplace=True)\n",
    "\n",
    "# Re-checking to make sure that there is no row with any missing values in column `T1`\n",
    "df_data.loc[df_data['T1'].isnull()]"
   ]
  },
  {
   "cell_type": "code",
   "execution_count": 32,
   "metadata": {},
   "outputs": [],
   "source": [
    "### Create new columns for T and S dividing with T1 and T2\n",
    "df_data['T3`']=df_data['T3']/df_data['T2']\n",
    "df_data['T4`']=df_data['T4']/df_data['T1']\n",
    "df_data['T5`']=df_data['T5']/df_data['T2']\n",
    "df_data['S1`']=df_data['S1']/df_data['T2']\n",
    "df_data['S2`']=df_data['S2']/df_data['T2']\n",
    "df_data['S3`']=df_data['S3']/df_data['T2']"
   ]
  },
  {
   "cell_type": "code",
   "execution_count": 33,
   "metadata": {},
   "outputs": [
    {
     "name": "stdout",
     "output_type": "stream",
     "text": [
      "     I1                                  I2    I3     P_IPO       P_H  \\\n",
      "0  AATI  ADVANCED ANALOGIC TECHNOLOGIES INC  3674  2.397895  2.351375   \n",
      "1  ABPI     ACCENTIA BIOPHARMACEUTICALS INC  2834  2.197225  2.397895   \n",
      "2  ACAD          ACADIA PHARMACEUTICALS INC  2834  2.079442  2.708050   \n",
      "3  ACHN       ACHILLION PHARMACEUTICALS INC  2834  2.525729  2.833213   \n",
      "4  ACLI     AMERICAN COMMERCIAL LINES INC.   4492  3.091042  3.091042   \n",
      "\n",
      "        P_L    P_1Day     C1   C2    C3    ...         T5    S1     S2     S3  \\\n",
      "0  2.251292  1.268327  122.0  1.0  3.43    ...      690.0  62.0  117.0  139.0   \n",
      "1  2.197225  1.134691  259.0  0.0 -1.62    ...     1120.0  71.0  242.0  237.0   \n",
      "2  2.564949  1.112259   90.0  1.0 -1.24    ...      325.0  61.0   33.0   60.0   \n",
      "3  2.708050  1.279407  209.0  1.0 -0.91    ...      509.0  80.0   59.0  110.0   \n",
      "4  2.995732  1.620086   80.0  1.0  0.07    ...      720.0  67.0  149.0  167.0   \n",
      "\n",
      "        T4`       T3`       T5`       S1`       S2`       S3`  \n",
      "0  0.640426  0.908876  0.054250  0.004875  0.009199  0.010929  \n",
      "1  0.644753  0.898724  0.051395  0.003258  0.011105  0.010876  \n",
      "2  0.636816  0.909350  0.061764  0.011593  0.006271  0.011403  \n",
      "3  0.539634  0.917060  0.061630  0.009686  0.007144  0.013319  \n",
      "4  0.587413  0.888469  0.048550  0.004518  0.010047  0.011261  \n",
      "\n",
      "[5 rows x 28 columns]\n"
     ]
    }
   ],
   "source": [
    "print(df_data.head())"
   ]
  },
  {
   "cell_type": "code",
   "execution_count": 36,
   "metadata": {},
   "outputs": [
    {
     "ename": "KeyError",
     "evalue": "\"['T3' 'T4' 'T5' 'S1' 'S2' 'S3'] not found in axis\"",
     "output_type": "error",
     "traceback": [
      "\u001b[0;31m---------------------------------------------------------------------------\u001b[0m",
      "\u001b[0;31mKeyError\u001b[0m                                  Traceback (most recent call last)",
      "\u001b[0;32m<ipython-input-36-544057ac28e6>\u001b[0m in \u001b[0;36m<module>\u001b[0;34m()\u001b[0m\n\u001b[1;32m      1\u001b[0m \u001b[0;31m# Dropping columns that have been used to create \"prime\" columns\u001b[0m\u001b[0;34m\u001b[0m\u001b[0;34m\u001b[0m\u001b[0m\n\u001b[0;32m----> 2\u001b[0;31m \u001b[0mdf_data\u001b[0m \u001b[0;34m=\u001b[0m \u001b[0mdf_data\u001b[0m\u001b[0;34m.\u001b[0m\u001b[0mdrop\u001b[0m\u001b[0;34m(\u001b[0m\u001b[0;34m[\u001b[0m\u001b[0;34m'T1'\u001b[0m\u001b[0;34m,\u001b[0m\u001b[0;34m'T2'\u001b[0m\u001b[0;34m,\u001b[0m\u001b[0;34m'T3'\u001b[0m\u001b[0;34m,\u001b[0m\u001b[0;34m'T4'\u001b[0m\u001b[0;34m,\u001b[0m\u001b[0;34m'T5'\u001b[0m\u001b[0;34m,\u001b[0m\u001b[0;34m'S1'\u001b[0m\u001b[0;34m,\u001b[0m\u001b[0;34m'S2'\u001b[0m\u001b[0;34m,\u001b[0m\u001b[0;34m'S3'\u001b[0m\u001b[0;34m]\u001b[0m\u001b[0;34m,\u001b[0m\u001b[0maxis\u001b[0m\u001b[0;34m=\u001b[0m\u001b[0;36m1\u001b[0m\u001b[0;34m)\u001b[0m\u001b[0;34m\u001b[0m\u001b[0m\n\u001b[0m\u001b[1;32m      3\u001b[0m \u001b[0mdf_data\u001b[0m\u001b[0;34m\u001b[0m\u001b[0m\n",
      "\u001b[0;32m/opt/tljh/user/lib/python3.6/site-packages/pandas/core/frame.py\u001b[0m in \u001b[0;36mdrop\u001b[0;34m(self, labels, axis, index, columns, level, inplace, errors)\u001b[0m\n\u001b[1;32m   3695\u001b[0m                                            \u001b[0mindex\u001b[0m\u001b[0;34m=\u001b[0m\u001b[0mindex\u001b[0m\u001b[0;34m,\u001b[0m \u001b[0mcolumns\u001b[0m\u001b[0;34m=\u001b[0m\u001b[0mcolumns\u001b[0m\u001b[0;34m,\u001b[0m\u001b[0;34m\u001b[0m\u001b[0m\n\u001b[1;32m   3696\u001b[0m                                            \u001b[0mlevel\u001b[0m\u001b[0;34m=\u001b[0m\u001b[0mlevel\u001b[0m\u001b[0;34m,\u001b[0m \u001b[0minplace\u001b[0m\u001b[0;34m=\u001b[0m\u001b[0minplace\u001b[0m\u001b[0;34m,\u001b[0m\u001b[0;34m\u001b[0m\u001b[0m\n\u001b[0;32m-> 3697\u001b[0;31m                                            errors=errors)\n\u001b[0m\u001b[1;32m   3698\u001b[0m \u001b[0;34m\u001b[0m\u001b[0m\n\u001b[1;32m   3699\u001b[0m     @rewrite_axis_style_signature('mapper', [('copy', True),\n",
      "\u001b[0;32m/opt/tljh/user/lib/python3.6/site-packages/pandas/core/generic.py\u001b[0m in \u001b[0;36mdrop\u001b[0;34m(self, labels, axis, index, columns, level, inplace, errors)\u001b[0m\n\u001b[1;32m   3109\u001b[0m         \u001b[0;32mfor\u001b[0m \u001b[0maxis\u001b[0m\u001b[0;34m,\u001b[0m \u001b[0mlabels\u001b[0m \u001b[0;32min\u001b[0m \u001b[0maxes\u001b[0m\u001b[0;34m.\u001b[0m\u001b[0mitems\u001b[0m\u001b[0;34m(\u001b[0m\u001b[0;34m)\u001b[0m\u001b[0;34m:\u001b[0m\u001b[0;34m\u001b[0m\u001b[0m\n\u001b[1;32m   3110\u001b[0m             \u001b[0;32mif\u001b[0m \u001b[0mlabels\u001b[0m \u001b[0;32mis\u001b[0m \u001b[0;32mnot\u001b[0m \u001b[0;32mNone\u001b[0m\u001b[0;34m:\u001b[0m\u001b[0;34m\u001b[0m\u001b[0m\n\u001b[0;32m-> 3111\u001b[0;31m                 \u001b[0mobj\u001b[0m \u001b[0;34m=\u001b[0m \u001b[0mobj\u001b[0m\u001b[0;34m.\u001b[0m\u001b[0m_drop_axis\u001b[0m\u001b[0;34m(\u001b[0m\u001b[0mlabels\u001b[0m\u001b[0;34m,\u001b[0m \u001b[0maxis\u001b[0m\u001b[0;34m,\u001b[0m \u001b[0mlevel\u001b[0m\u001b[0;34m=\u001b[0m\u001b[0mlevel\u001b[0m\u001b[0;34m,\u001b[0m \u001b[0merrors\u001b[0m\u001b[0;34m=\u001b[0m\u001b[0merrors\u001b[0m\u001b[0;34m)\u001b[0m\u001b[0;34m\u001b[0m\u001b[0m\n\u001b[0m\u001b[1;32m   3112\u001b[0m \u001b[0;34m\u001b[0m\u001b[0m\n\u001b[1;32m   3113\u001b[0m         \u001b[0;32mif\u001b[0m \u001b[0minplace\u001b[0m\u001b[0;34m:\u001b[0m\u001b[0;34m\u001b[0m\u001b[0m\n",
      "\u001b[0;32m/opt/tljh/user/lib/python3.6/site-packages/pandas/core/generic.py\u001b[0m in \u001b[0;36m_drop_axis\u001b[0;34m(self, labels, axis, level, errors)\u001b[0m\n\u001b[1;32m   3141\u001b[0m                 \u001b[0mnew_axis\u001b[0m \u001b[0;34m=\u001b[0m \u001b[0maxis\u001b[0m\u001b[0;34m.\u001b[0m\u001b[0mdrop\u001b[0m\u001b[0;34m(\u001b[0m\u001b[0mlabels\u001b[0m\u001b[0;34m,\u001b[0m \u001b[0mlevel\u001b[0m\u001b[0;34m=\u001b[0m\u001b[0mlevel\u001b[0m\u001b[0;34m,\u001b[0m \u001b[0merrors\u001b[0m\u001b[0;34m=\u001b[0m\u001b[0merrors\u001b[0m\u001b[0;34m)\u001b[0m\u001b[0;34m\u001b[0m\u001b[0m\n\u001b[1;32m   3142\u001b[0m             \u001b[0;32melse\u001b[0m\u001b[0;34m:\u001b[0m\u001b[0;34m\u001b[0m\u001b[0m\n\u001b[0;32m-> 3143\u001b[0;31m                 \u001b[0mnew_axis\u001b[0m \u001b[0;34m=\u001b[0m \u001b[0maxis\u001b[0m\u001b[0;34m.\u001b[0m\u001b[0mdrop\u001b[0m\u001b[0;34m(\u001b[0m\u001b[0mlabels\u001b[0m\u001b[0;34m,\u001b[0m \u001b[0merrors\u001b[0m\u001b[0;34m=\u001b[0m\u001b[0merrors\u001b[0m\u001b[0;34m)\u001b[0m\u001b[0;34m\u001b[0m\u001b[0m\n\u001b[0m\u001b[1;32m   3144\u001b[0m             \u001b[0mresult\u001b[0m \u001b[0;34m=\u001b[0m \u001b[0mself\u001b[0m\u001b[0;34m.\u001b[0m\u001b[0mreindex\u001b[0m\u001b[0;34m(\u001b[0m\u001b[0;34m**\u001b[0m\u001b[0;34m{\u001b[0m\u001b[0maxis_name\u001b[0m\u001b[0;34m:\u001b[0m \u001b[0mnew_axis\u001b[0m\u001b[0;34m}\u001b[0m\u001b[0;34m)\u001b[0m\u001b[0;34m\u001b[0m\u001b[0m\n\u001b[1;32m   3145\u001b[0m \u001b[0;34m\u001b[0m\u001b[0m\n",
      "\u001b[0;32m/opt/tljh/user/lib/python3.6/site-packages/pandas/core/indexes/base.py\u001b[0m in \u001b[0;36mdrop\u001b[0;34m(self, labels, errors)\u001b[0m\n\u001b[1;32m   4402\u001b[0m             \u001b[0;32mif\u001b[0m \u001b[0merrors\u001b[0m \u001b[0;34m!=\u001b[0m \u001b[0;34m'ignore'\u001b[0m\u001b[0;34m:\u001b[0m\u001b[0;34m\u001b[0m\u001b[0m\n\u001b[1;32m   4403\u001b[0m                 raise KeyError(\n\u001b[0;32m-> 4404\u001b[0;31m                     '{} not found in axis'.format(labels[mask]))\n\u001b[0m\u001b[1;32m   4405\u001b[0m             \u001b[0mindexer\u001b[0m \u001b[0;34m=\u001b[0m \u001b[0mindexer\u001b[0m\u001b[0;34m[\u001b[0m\u001b[0;34m~\u001b[0m\u001b[0mmask\u001b[0m\u001b[0;34m]\u001b[0m\u001b[0;34m\u001b[0m\u001b[0m\n\u001b[1;32m   4406\u001b[0m         \u001b[0;32mreturn\u001b[0m \u001b[0mself\u001b[0m\u001b[0;34m.\u001b[0m\u001b[0mdelete\u001b[0m\u001b[0;34m(\u001b[0m\u001b[0mindexer\u001b[0m\u001b[0;34m)\u001b[0m\u001b[0;34m\u001b[0m\u001b[0m\n",
      "\u001b[0;31mKeyError\u001b[0m: \"['T3' 'T4' 'T5' 'S1' 'S2' 'S3'] not found in axis\""
     ]
    }
   ],
   "source": [
    "# Dropping columns that have been used to create \"prime\" columns\n",
    "df_data = df_data.drop(['T1','T2','T3','T4','T5','S1','S2','S3'],axis=1)\n",
    "df_data"
   ]
  },
  {
   "cell_type": "code",
   "execution_count": 29,
   "metadata": {},
   "outputs": [
    {
     "name": "stdout",
     "output_type": "stream",
     "text": [
      "I1 0\n",
      "I2 0\n",
      "I3 0\n",
      "P_IPO 0\n",
      "P_H 0\n",
      "P_L 0\n",
      "P_1Day 0\n",
      "C1 0\n",
      "C2 0\n",
      "C3 0\n",
      "C4 0\n",
      "C5 0\n",
      "C6 0\n",
      "C7 0\n",
      "T1 0\n",
      "T2 0\n",
      "T3 0\n",
      "T4 0\n",
      "T5 0\n",
      "S1 0\n",
      "S2 0\n",
      "S3 0\n",
      "T4` 0\n",
      "T3` 0\n",
      "T5` 0\n",
      "S1` 0\n",
      "S2` 0\n",
      "S3` 0\n"
     ]
    }
   ],
   "source": [
    "# Re-checking imputations were correctly filling in missing values\n",
    "for col in df_data.columns:\n",
    "    names.append(col)\n",
    "    values.append(df_data[col].isnull().sum())\n",
    "    print(names[-1],values[-1])"
   ]
  },
  {
   "cell_type": "markdown",
   "metadata": {},
   "source": [
    "__All of our missing values have been filled in using the appropriate methods for imputing their values. We most likely have changed the way that we impute the data based on our results from our model, to see if altering the way that we impute would affect the results.__"
   ]
  },
  {
   "cell_type": "markdown",
   "metadata": {},
   "source": [
    "## Outliers ##"
   ]
  },
  {
   "cell_type": "code",
   "execution_count": 17,
   "metadata": {},
   "outputs": [
    {
     "data": {
      "image/png": "[encoded data removed]",
      "text/plain": [
       "<Figure size 432x288 with 1 Axes>"
      ]
     },
     "metadata": {},
     "output_type": "display_data"
    }
   ],
   "source": [
    "# Plotting a scatter plot for the two variables\n",
    "plt.scatter(df_data.P_IPO, df_data.C7, c=\"red\", marker=\"s\")\n",
    "\n",
    "## Adding peripherials for the scatter plot\n",
    "plt.title(\"Outliers\")\n",
    "plt.xlabel(\"Offer Price\")\n",
    "plt.xlabel(\"Sales\")\n",
    "plt.grid()\n",
    "plt.show()"
   ]
  },
  {
   "cell_type": "markdown",
   "metadata": {},
   "source": [
    "## Normalising ##"
   ]
  },
  {
   "cell_type": "markdown",
   "metadata": {},
   "source": [
    "We understand that data is not going to be normally distributed. We must identify what distribution each feature/attribute has, and figure out a method to normally distribute that data to move on with our model.\n",
    "\n",
    "We will create histograms for all data that has a `float64` data-type."
   ]
  },
  {
   "cell_type": "code",
   "execution_count": 18,
   "metadata": {},
   "outputs": [
    {
     "data": {
      "image/png": "[encoded data removed]",
      "text/plain": [
       "<Figure size 432x288 with 1 Axes>"
      ]
     },
     "metadata": {},
     "output_type": "display_data"
    },
    {
     "data": {
      "image/png": "[encoded data removed]",
      "text/plain": [
       "<Figure size 432x288 with 1 Axes>"
      ]
     },
     "metadata": {},
     "output_type": "display_data"
    },
    {
     "data": {
      "image/png": "[encoded data removed]",
      "text/plain": [
       "<Figure size 432x288 with 1 Axes>"
      ]
     },
     "metadata": {},
     "output_type": "display_data"
    },
    {
     "data": {
      "image/png": "[encoded data removed]",
      "text/plain": [
       "<Figure size 432x288 with 1 Axes>"
      ]
     },
     "metadata": {},
     "output_type": "display_data"
    },
    {
     "data": {
      "image/png": "[encoded data removed]",
      "text/plain": [
       "<Figure size 432x288 with 1 Axes>"
      ]
     },
     "metadata": {},
     "output_type": "display_data"
    },
    {
     "data": {
      "image/png": "[encoded data removed]",
      "text/plain": [
       "<Figure size 432x288 with 1 Axes>"
      ]
     },
     "metadata": {},
     "output_type": "display_data"
    },
    {
     "data": {
      "image/png": "[encoded data removed]",
      "text/plain": [
       "<Figure size 432x288 with 1 Axes>"
      ]
     },
     "metadata": {},
     "output_type": "display_data"
    },
    {
     "data": {
      "image/png": "[encoded data removed]",
      "text/plain": [
       "<Figure size 432x288 with 1 Axes>"
      ]
     },
     "metadata": {},
     "output_type": "display_data"
    },
    {
     "data": {
      "image/png": "[encoded data removed]",
      "text/plain": [
       "<Figure size 432x288 with 1 Axes>"
      ]
     },
     "metadata": {},
     "output_type": "display_data"
    },
    {
     "data": {
      "image/png": "[encoded data removed]",
      "text/plain": [
       "<Figure size 432x288 with 1 Axes>"
      ]
     },
     "metadata": {},
     "output_type": "display_data"
    },
    {
     "data": {
      "image/png": "[encoded data removed]",
      "text/plain": [
       "<Figure size 432x288 with 1 Axes>"
      ]
     },
     "metadata": {},
     "output_type": "display_data"
    },
    {
     "data": {
      "image/png": "[encoded data removed]",
      "text/plain": [
       "<Figure size 432x288 with 1 Axes>"
      ]
     },
     "metadata": {},
     "output_type": "display_data"
    },
    {
     "data": {
      "image/png": "[encoded data removed]",
      "text/plain": [
       "<Figure size 432x288 with 1 Axes>"
      ]
     },
     "metadata": {},
     "output_type": "display_data"
    },
    {
     "data": {
      "image/png": "[encoded data removed]",
      "text/plain": [
       "<Figure size 432x288 with 1 Axes>"
      ]
     },
     "metadata": {},
     "output_type": "display_data"
    },
    {
     "data": {
      "image/png": "[encoded data removed]",
      "text/plain": [
       "<Figure size 432x288 with 1 Axes>"
      ]
     },
     "metadata": {},
     "output_type": "display_data"
    },
    {
     "data": {
      "image/png": "[encoded data removed]",
      "text/plain": [
       "<Figure size 432x288 with 1 Axes>"
      ]
     },
     "metadata": {},
     "output_type": "display_data"
    },
    {
     "data": {
      "image/png": "[encoded data removed]",
      "text/plain": [
       "<Figure size 432x288 with 1 Axes>"
      ]
     },
     "metadata": {},
     "output_type": "display_data"
    },
    {
     "data": {
      "image/png": "[encoded data removed]",
      "text/plain": [
       "<Figure size 432x288 with 1 Axes>"
      ]
     },
     "metadata": {},
     "output_type": "display_data"
    }
   ],
   "source": [
    "# Creating a 'for loop' to display each of the columns in a histogram\n",
    "# would be the most efficient way to display the distribution of the features\n",
    "\n",
    "## Creating a new variable `new_cols` to store all the features we would like\n",
    "## to display with histograms\n",
    "new_cols = ['P_IPO','P_H','P_L','P_1Day','C1','C3','C4','C5','C6','C7','T1','T2','T3','T4','T5','S1','S2','S3']\n",
    "\n",
    "## Creating a new variable `plot_hists` to store the `new_cols`\n",
    "## and be populated with data from the `df_data` dataframe\n",
    "plot_hists = df_data[new_cols]\n",
    "\n",
    "### Creating a for loop that will plot each column in\n",
    "### the variable `plot_hists` as long as it is a column\n",
    "### Using 20 `bins` for each histogram, as well\n",
    "for i in range(len(plot_hists.columns)):\n",
    "    plt.hist(plot_hists.iloc[:,i].dropna(),bins='auto')\n",
    "### For each title, we are using the name of the column\n",
    "### as it appears in the `plot_hists` variable    \n",
    "    plt.title('%a' % plot_hists.columns[i])\n",
    "### Ultimately showing the histogram at the end of \n",
    "### the for loop\n",
    "    plt.show()"
   ]
  },
  {
   "cell_type": "code",
   "execution_count": 19,
   "metadata": {},
   "outputs": [
    {
     "name": "stdout",
     "output_type": "stream",
     "text": [
      "skew :  [ 3.36531297  9.26290144  7.14359102 12.49503902  5.73492446 21.11062311\n",
      " -0.48468728 13.63146784 12.5855317  12.35570026  1.73657529  1.63612171\n",
      "  1.61366243  1.41697208 12.74415065  2.30698634  3.72907471  3.43221384]\n"
     ]
    }
   ],
   "source": [
    "# Printing Skewn Value for Each Feature\n",
    "## new_cols = ['P_IPO','P_H','P_L','P_1Day','C1','C3','C4','C5','C6','C7','T1','T2','T3','T4','T5','S1','S2','S3']\n",
    "print(\"skew : \",skew(df_data[new_cols]))"
   ]
  },
  {
   "cell_type": "markdown",
   "metadata": {},
   "source": [
    "The values that have `nan` for skewness"
   ]
  },
  {
   "cell_type": "code",
   "execution_count": 23,
   "metadata": {},
   "outputs": [],
   "source": [
    "def log_transform(feature):\n",
    "    df_data[feature] = np.log1p(df_data[feature].values) # does a log transform on x+1\n",
    "log_transform('P_IPO')\n",
    "log_transform('P_H')\n",
    "log_transform('P_L')\n",
    "log_transform('P_1Day')"
   ]
  },
  {
   "cell_type": "code",
   "execution_count": 19,
   "metadata": {},
   "outputs": [
    {
     "name": "stderr",
     "output_type": "stream",
     "text": [
      "/opt/tljh/user/lib/python3.6/site-packages/ipykernel_launcher.py:3: RuntimeWarning: divide by zero encountered in log10\n",
      "  This is separate from the ipykernel package so we can avoid doing imports until\n",
      "/opt/tljh/user/lib/python3.6/site-packages/ipykernel_launcher.py:5: RuntimeWarning: divide by zero encountered in log10\n",
      "  \"\"\"\n",
      "/opt/tljh/user/lib/python3.6/site-packages/ipykernel_launcher.py:7: RuntimeWarning: divide by zero encountered in log10\n",
      "  import sys\n",
      "/opt/tljh/user/lib/python3.6/site-packages/ipykernel_launcher.py:7: RuntimeWarning: invalid value encountered in log10\n",
      "  import sys\n",
      "/opt/tljh/user/lib/python3.6/site-packages/ipykernel_launcher.py:8: RuntimeWarning: invalid value encountered in log10\n",
      "  \n",
      "/opt/tljh/user/lib/python3.6/site-packages/ipykernel_launcher.py:13: RuntimeWarning: divide by zero encountered in log10\n",
      "  del sys.path[0]\n",
      "/opt/tljh/user/lib/python3.6/site-packages/ipykernel_launcher.py:14: RuntimeWarning: divide by zero encountered in log10\n",
      "  \n",
      "/opt/tljh/user/lib/python3.6/site-packages/ipykernel_launcher.py:15: RuntimeWarning: divide by zero encountered in log10\n",
      "  from ipykernel import kernelapp as app\n",
      "/opt/tljh/user/lib/python3.6/site-packages/ipykernel_launcher.py:16: RuntimeWarning: invalid value encountered in log10\n",
      "  app.launch_new_instance()\n",
      "/opt/tljh/user/lib/python3.6/site-packages/ipykernel_launcher.py:17: RuntimeWarning: invalid value encountered in log10\n"
     ]
    }
   ],
   "source": [
    "##### Fixing the attributes\n",
    "df_data['P_IPO'] = np.log10(df_data['P_IPO'])\n",
    "df_data['P_H'] = np.log10(df_data['P_H'])\n",
    "df_data['P_L'] = np.log10(df_data['P_L'])\n",
    "df_data['P_1Day'] = np.log10(df_data['P_1Day'])\n",
    "df_data['C1'] = np.log10(df_data['C1'])\n",
    "df_data['C3'] = np.log10(df_data['C3'])\n",
    "df_data['C4'] = np.log10(df_data['C4'])\n",
    "df_data['C5'] = np.log10(df_data['C5'])\n",
    "df_data['C6'] = np.log10(df_data['C6'])\n",
    "df_data['C7'] = np.log10(df_data['C7'])\n",
    "df_data['T1'] = np.log10(df_data['T1'])\n",
    "df_data['T2'] = np.log10(df_data['T2'])\n",
    "df_data['T3'] = np.log10(df_data['T3'])\n",
    "df_data['T4'] = np.log10(df_data['T4'])\n",
    "df_data['T5'] = np.log10(df_data['T5'])\n",
    "df_data['S1'] = np.log10(df_data['S1'])\n",
    "df_data['S2'] = np.log10(df_data['S2'])\n",
    "df_data['S3'] = np.log10(df_data['S3'])"
   ]
  },
  {
   "cell_type": "code",
   "execution_count": 21,
   "metadata": {},
   "outputs": [
    {
     "data": {
      "image/png": "[encoded data removed]",
      "text/plain": [
       "<Figure size 432x288 with 1 Axes>"
      ]
     },
     "metadata": {},
     "output_type": "display_data"
    },
    {
     "data": {
      "image/png": "[encoded data removed]",
      "text/plain": [
       "<Figure size 432x288 with 1 Axes>"
      ]
     },
     "metadata": {},
     "output_type": "display_data"
    },
    {
     "data": {
      "image/png": "[encoded data removed]",
      "text/plain": [
       "<Figure size 432x288 with 1 Axes>"
      ]
     },
     "metadata": {},
     "output_type": "display_data"
    },
    {
     "data": {
      "image/png": "[encoded data removed]",
      "text/plain": [
       "<Figure size 432x288 with 1 Axes>"
      ]
     },
     "metadata": {},
     "output_type": "display_data"
    },
    {
     "data": {
      "image/png": "[encoded data removed]",
      "text/plain": [
       "<Figure size 432x288 with 1 Axes>"
      ]
     },
     "metadata": {},
     "output_type": "display_data"
    },
    {
     "data": {
      "image/png": "[encoded data removed]",
      "text/plain": [
       "<Figure size 432x288 with 1 Axes>"
      ]
     },
     "metadata": {},
     "output_type": "display_data"
    },
    {
     "data": {
      "image/png": "[encoded data removed]",
      "text/plain": [
       "<Figure size 432x288 with 1 Axes>"
      ]
     },
     "metadata": {},
     "output_type": "display_data"
    },
    {
     "data": {
      "image/png": "[encoded data removed]",
      "text/plain": [
       "<Figure size 432x288 with 1 Axes>"
      ]
     },
     "metadata": {},
     "output_type": "display_data"
    },
    {
     "data": {
      "image/png": "[encoded data removed]",
      "text/plain": [
       "<Figure size 432x288 with 1 Axes>"
      ]
     },
     "metadata": {},
     "output_type": "display_data"
    },
    {
     "data": {
      "image/png": "[encoded data removed]",
      "text/plain": [
       "<Figure size 432x288 with 1 Axes>"
      ]
     },
     "metadata": {},
     "output_type": "display_data"
    },
    {
     "data": {
      "image/png": "[encoded data removed]",
      "text/plain": [
       "<Figure size 432x288 with 1 Axes>"
      ]
     },
     "metadata": {},
     "output_type": "display_data"
    },
    {
     "data": {
      "image/png": "[encoded data removed]",
      "text/plain": [
       "<Figure size 432x288 with 1 Axes>"
      ]
     },
     "metadata": {},
     "output_type": "display_data"
    },
    {
     "data": {
      "image/png": "[encoded data removed]",
      "text/plain": [
       "<Figure size 432x288 with 1 Axes>"
      ]
     },
     "metadata": {},
     "output_type": "display_data"
    },
    {
     "data": {
      "image/png": "[encoded data removed]",
      "text/plain": [
       "<Figure size 432x288 with 1 Axes>"
      ]
     },
     "metadata": {},
     "output_type": "display_data"
    },
    {
     "data": {
      "image/png": "[encoded data removed]",
      "text/plain": [
       "<Figure size 432x288 with 1 Axes>"
      ]
     },
     "metadata": {},
     "output_type": "display_data"
    },
    {
     "data": {
      "image/png": "[encoded data removed]",
      "text/plain": [
       "<Figure size 432x288 with 1 Axes>"
      ]
     },
     "metadata": {},
     "output_type": "display_data"
    },
    {
     "data": {
      "image/png": "[encoded data removed]",
      "text/plain": [
       "<Figure size 432x288 with 1 Axes>"
      ]
     },
     "metadata": {},
     "output_type": "display_data"
    },
    {
     "data": {
      "image/png": "[encoded data removed]",
      "text/plain": [
       "<Figure size 432x288 with 1 Axes>"
      ]
     },
     "metadata": {},
     "output_type": "display_data"
    }
   ],
   "source": [
    "# Re-plotting the distributions of the attributes\n",
    "for i in range(len(plot_hists.columns)):\n",
    "    plt.hist(plot_hists.iloc[:,i].dropna(),bins='auto')   \n",
    "    plt.title('%a' % plot_hists.columns[i])\n",
    "    plt.show()"
   ]
  },
  {
   "cell_type": "code",
   "execution_count": null,
   "metadata": {},
   "outputs": [],
   "source": []
  }
 ],
 "metadata": {
  "kernelspec": {
   "display_name": "Python 3",
   "language": "python",
   "name": "python3"
  },
  "language_info": {
   "codemirror_mode": {
    "name": "ipython",
    "version": 3
   },
   "file_extension": ".py",
   "mimetype": "text/x-python",
   "name": "python",
   "nbconvert_exporter": "python",
   "pygments_lexer": "ipython3",
   "version": "3.6.5"
  }
 },
 "nbformat": 4,
 "nbformat_minor": 2
}
