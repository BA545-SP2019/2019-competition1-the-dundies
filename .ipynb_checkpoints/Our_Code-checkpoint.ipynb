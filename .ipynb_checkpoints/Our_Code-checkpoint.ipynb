{
 "cells": [
  {
   "cell_type": "markdown",
   "metadata": {},
   "source": [
    "# Competition 1 #"
   ]
  },
  {
   "cell_type": "markdown",
   "metadata": {},
   "source": [
    "#### Research Question & Goal ####\n",
    "\n",
    "What are the determinants of the IPO underpricing phenomena? It is our job as a group to understand and identify the underlying determinants that factor into IPO underpricing."
   ]
  },
  {
   "cell_type": "markdown",
   "metadata": {},
   "source": [
    "### Business Understanding ###\n",
    "\n",
    "According to Investopedia.com, Underpricing is the listing of an intial public offering (IPO) below its market value. When the offer price of the stock is lower than the price of the first trade, the stock is considered to be underpriced. This will only last for a short amount of time, as the demand of the stock is going to drive it back up to its value.\n",
    "\n",
    "From a company standpoint, they wish to have the intial public offering as high as possible, which in turn raises the most capital. The quantitative factors that go into an initial public offering are all financial analysis reports from the company itself. Before the IPO, the company will be analyzed by its sales, expenses, earnings, and cash flow. Furthermore, a company's earnings and expected earnings growth are the biggest factors in the IPO. Marketability in a specific industry and the general market also can drive an IPO up or down.\n",
    "\n",
    "Once the investment bankers or IPO underwriters determine the IPO price of the company's stock, the day before the stock is offered publically, the company will market the IPO to potential investors. For historical purposes, IPOs are viewed as risky investments because of the lack of historical data that is collected on them. The less liquidity that the stock/company has and predicatble IPO shares are going to be, the more likely they are going to be underprices to compensate for assumed risk. Company's also underprice their IPO to entice more investors to buy stocks to raise more capital.\n",
    "\n",
    "With all of this information about intial public offerings, is there a few determinants that can be identified as to why the phenomenon of underpricing exists? The dataset that we have been provided provide information about companies and information regarding their IPO, such as IPO Offering, IPO Characteristics, Textual Characterisitics, Sentiment Characteristics, Target Variables, Control Variables, and IPO Identifiers.\n",
    "\n",
    "The variables that have been provided are listed below:\n",
    "\n",
    "- P(PHO) - Offer Price\n",
    "- P(H) - Price Range Higher Bound\n",
    "- P(L) - Price Range Lower Bound\n",
    "- P(1Day) - First Day Trading Price\n",
    "- C1 - Days\n",
    "- C2 - Top-Tier Dummy\n",
    "- C3 - Earnings per Share\n",
    "- C4 - Prior NASDAQ 15-Day Returns\n",
    "- C5 - Outstanding Shares\n",
    "- C6 - Offering Shares\n",
    "- C7 - Sales\n",
    "- T1 - Number of Sentences\n",
    "- T2 - Number of Words\n",
    "- T3 - Number of Real Words\n",
    "- T4 - Number of Long Sentences\n",
    "- T5 - Number of Long Words\n",
    "- S1 - Number of Positive Words\n",
    "- S2 - Number of Negative Words\n",
    "- S3 - Number of Uncertain Words\n",
    "- Y1 - Pre-IPO Price Revision\n",
    "- Y2 - Post-IPO Initial Return\n",
    "- C3' - Positive EPS Dummy\n",
    "- C5' - Share Overhang\n",
    "- C6' - Up Revision\n",
    "- I1 - Ticker\n",
    "- I2 - Company Name\n",
    "- I3 - Standard Industry Classifier"
   ]
  },
  {
   "cell_type": "markdown",
   "metadata": {},
   "source": [
    "## Data Understanding ##"
   ]
  },
  {
   "cell_type": "code",
   "execution_count": 1,
   "metadata": {},
   "outputs": [],
   "source": [
    "# Importing useful packages\n",
    "import pandas as pd\n",
    "import numpy as np\n",
    "\n",
    "# Read in the .xlsx datafile and converting into a DataFrame\n",
    "data = pd.read_excel(\"Competition1_raw_data.xlsx\",header=0,na_values='None')\n",
    "df_data = pd.DataFrame(data)"
   ]
  },
  {
   "cell_type": "code",
   "execution_count": 2,
   "metadata": {},
   "outputs": [
    {
     "name": "stdout",
     "output_type": "stream",
     "text": [
      "I1         object\n",
      "I2         object\n",
      "I3         object\n",
      "P(IPO)     object\n",
      "P(H)       object\n",
      "P(L)       object\n",
      "P(1Day)    object\n",
      "C1         object\n",
      "C2         object\n",
      "C3         object\n",
      "C4         object\n",
      "C5         object\n",
      "C6         object\n",
      "C7         object\n",
      "T1         object\n",
      "T2         object\n",
      "T3         object\n",
      "T4         object\n",
      "T5         object\n",
      "S1         object\n",
      "S2         object\n",
      "S3         object\n",
      "dtype: object\n"
     ]
    }
   ],
   "source": [
    "# Printing Data Types for Initial Analysis\n",
    "print(data.dtypes)"
   ]
  },
  {
   "cell_type": "code",
   "execution_count": 8,
   "metadata": {},
   "outputs": [
    {
     "name": "stdout",
     "output_type": "stream",
     "text": [
      "          I1               I2    I3  P(IPO)  P(H)  P(L) P(1Day)   C1   C2  \\\n",
      "count    682              682   682     682   682   682     682  682  682   \n",
      "unique   682              682   202      62    52    48     531  245    3   \n",
      "top     NPTT  LIFELOCK, INC.   2834      15    16    14       -    -    1   \n",
      "freq       1                1    76      54   109   105      22   22  567   \n",
      "\n",
      "         C3   C4   C5       C6   C7   T1   T2   T3   T4   T5   S1   S2   S3  \n",
      "count   682  682  682      682  682  682  682  682  682  682  682  682  682  \n",
      "unique  373  471  675      336  611  408  672  657  332  466  146  222  214  \n",
      "top       -    -    -  5000000    -  411    0    0  256  458   46   77  110  \n",
      "freq     36   22    6       48   72    7    2    3    6    5   15   11   12  \n"
     ]
    }
   ],
   "source": [
    "# Printing Initial Descriptive Statistics for the Dataframe\n",
    "pd.set_option('display.max_columns', 200)\n",
    "print(data.describe())"
   ]
  },
  {
   "cell_type": "code",
   "execution_count": 3,
   "metadata": {},
   "outputs": [
    {
     "data": {
      "text/plain": [
       "array([51.345, 25.936, 7.378, 8.526, 632.298, 197.591, 5.146, '-', 279.6,\n",
       "       494.008, 0.32, 26.499, 0.074, 166.896, 510.192, 571.192, 363.465,\n",
       "       170.27, 132.5, 1707.564, 64.606, 0.176, 3.88, 2.23, 94.739,\n",
       "       345.322, 428.516, 18.643, 257.056, 59.039, 38.434, 68.525, 185.076,\n",
       "       40.045, 36.12, 52.897, 519.966, 32.068, 3018.118, 46.672, 608.16,\n",
       "       69.833, 72.503, 74.005, 75.813, 19.157, 8.822, 139.357, 20.719,\n",
       "       1699, 935.468, 1.9, 167.884, 2214.215, 32.978, 389.962, 4351.218,\n",
       "       259.295, 311.502, 92.478, 75.436, 176.624, 311.709, 213.672,\n",
       "       60.169, 37.811, 143.062, 72.992, 559.54, 1070.938, 22.65, 1.94,\n",
       "       148.224, 3841.264, 24.568, 8.235, 4.517, 117.616, 198.834, 141.873,\n",
       "       218.29, 21.873, 95.623, 0.367, 14.798, 64.482, 96.107, 12.231,\n",
       "       918.513, 1392.423, 26.586, 22.488, 232.947, 38.563, 293.605,\n",
       "       113.311, 160.871, 2447.04, 348.869, 5069, 371.445, 6.616, 1650.652,\n",
       "       506.305, 8.678, 330.118, 59.261, 207.502, 1239.711, 519.023,\n",
       "       388.556, 100.181, 23.333, 502.6, 269.608, 63.086, 32.179, 14.344,\n",
       "       33.873, 378.525, 320.732, 35.075, 757.726, 2.056, 164.044, 587.899,\n",
       "       32.82, 108.581, 16.87, 0.493, 50.556, 18.324, 259.671, 27.552,\n",
       "       76.588, 157.198, 287.579, 3037.567, 198.29, 41.633, 10.577, 8834.5,\n",
       "       40.71, 1.572, 1920.909, 105.311, 46.434, 243.446, 304.558, 256.445,\n",
       "       9495.246, 83.658, 33.047, 2031.869, 289.041, 111.643, 32.539,\n",
       "       0.099, 359.683, 577.135, 7619.952, 1333.322, 915.402, 418.983,\n",
       "       2599.816, 41.056, 0.826, 114.299, 224.299, 300.986, 56.547, 81.138,\n",
       "       89.628, 130.688, 202.808, 13.737, 911.612, 1684.158, 242.327,\n",
       "       63.477, 12.999, 71.348, 853.599, 45.802, 149.523, 358.574, 41.706,\n",
       "       41.471, 77.924, 334.528, 103.988, 35.414, 109.336, 86.334, 37.907,\n",
       "       49.634, 73.954, 1737.01, 41.419, 78.706, 48.672, 3711, 994.3,\n",
       "       345.997, 36.216, 44.926, 197.189, 354.073, 92.317, 441.099, 14.685,\n",
       "       2.585, 79.367, 262.843, 4458, 48.063, 58.015, 397.06, 211.791,\n",
       "       92.409, 617.977, 16.396, 1565.406, 312.796, 99.63, 0.327, 2260.728,\n",
       "       66.471, 46.166, 438.135, 331.478, 41.98, 357.441, 0.999, 0.623,\n",
       "       588.248, 323.794, 1465.934, 1610.43, 127.147, 189.426, 39.505,\n",
       "       89.839, 24.018, 30683, 89.734, 600.21, 3.25, 900.424, 58.097,\n",
       "       61.671, 43.95, 121.703, 73.262, 602.749, 980.328, 856.763, 7469.2,\n",
       "       11485, 110.294, 640.138, 177.218, 1.805, 90.16, 65.093, 66.676,\n",
       "       140.699, 25.429, 42.674, 2.974, 8.784, 84.804, 1.096, 136.136,\n",
       "       79.556, 76.87, 92.83, 190.002, 6.154, 96.385, 58.852, 535.328,\n",
       "       213.459, 115.813, 36.102, 21.083, 126.449, 33.718, 45.494, 205.509,\n",
       "       1040.367, 1771.4, 107.153, 763.836, 39.037, 0.223, 141.866, 1.933,\n",
       "       46.301, 25.05, 508.099, 1226.033, 84.456, 19.099, 122.98, 59.021,\n",
       "       19.765, 261.275, 64.343, 30.727, 243.099, 193.949, 51.723, 242.004,\n",
       "       146.047, 89.415, 256.942, 84.129, 16.454, 691.754, 21.612,\n",
       "       2937.628, 34.215, 0.771, 514.96, 224.338, 130, 2.781, 9.124, 7.093,\n",
       "       144.235, 65.075, 140.4, 38.596, 417.326, 13.118, 24.012, 129.415,\n",
       "       152.268, 278.593, 0.325, 2882.4, 94.071, 48.539, 103.678, 7.832,\n",
       "       644.161, 113.695, 97.969, 209.433, 24.204, 4832.432, 59.558,\n",
       "       300.69, 79.244, 310.295, 1098.7, 51.35, 2.343, 67.202, 1.533,\n",
       "       171.253, 219.3, 13.535, 648.447, 264.544, 64.062, 128.894, 101.048,\n",
       "       2766.6, 5126, 769.9, 92.641, 184.139, 243.491, 210.677, 1.138,\n",
       "       165.001, 225.768, 237.331, 9.168, 273.623, 2843, 133.839, 1.885,\n",
       "       53.851, 37.755, 2.584, 52.244, 33.28, 10.68, 1.17, 64.941, 27.499,\n",
       "       75.517, 37.076, 0.933, 1.748, 151.691, 119.44, 13.427, 0.088, 3.97,\n",
       "       1351.788, 752, 5.189, 827.07, 118.597, 208.617, 390.088, 87.92,\n",
       "       14.562, 1546.863, 356.697, 162.974, 62.025, 332.813, 4.735, 19.937,\n",
       "       174.342, 333.408, 7.881, 3.663, 479.677, 289.997, 4.729, 98.939,\n",
       "       46.981, 228.268, 59.276, 175.482, 70.245, 107.771, 30.013, 34.12,\n",
       "       157.359, 516.538, 76.212, 260.527, 326.113, 508.466, 839.002,\n",
       "       482.18, 20.752, 0.441, 55.778, 824.031, 4.854, 44.672, 13.789,\n",
       "       0.39, 120.023, 39.675, 203.117, 3841.984, 80.936, 710.216, 35.879,\n",
       "       1743.5, 187.331, 10.705, 140.902, 1652.888, 31.311, 450.351,\n",
       "       209.38, 296.887, 22.941, 7187, 781.265, 172.057, 59.266, 35.051,\n",
       "       66.293, 59.551, 111.831, 2153.362, 25.509, 83.902, 32.57, 67.874,\n",
       "       30.917, 21.636, 71.269, 460.702, 61.608, 73.147, 295.596, 15.299,\n",
       "       122.029, 176.269, 302.541, 4.553, 54.218, 9.537, 60.119, 66.245,\n",
       "       10.885, 36.179, 152.935, 25.868, 270.915, 196.737, 120.271,\n",
       "       1134.944, 71.355, 81.061, 38.798, 288.578, 5.015, 1896.264,\n",
       "       332.403, 2571.353, 93.135, 76.041, 1317.039, 523.149, 706.91,\n",
       "       208.807, 374.253, 90.262, 861.931, 226.462, 192.713, 40.655, 3.605,\n",
       "       46.928, 228.47, 58.65, 313.892, 1331.317, 110.88, 2.475, 153.093,\n",
       "       1634.405, 70.044, 0.349, 43.293, 1.18, 38.518, 1020.53, 1301.8,\n",
       "       113.459, 111.943, 5.812, 28.27, 5.016, 79.012, 7.6, 156.102,\n",
       "       329.968, 36.051, 286.453, 86.204, 8.538, 2451.885, 136.952, 48.715,\n",
       "       81.275, 16.415, 3589.796, 79.503, 269.196, 38.274, 143.602,\n",
       "       113.175, 26.832, 1110.579, 1622.421, 21.838, 20.393, 91.9, 58.784,\n",
       "       137.953, 238.577, 54.099, 99.646, 456, 893.55, 76.935, 236.359,\n",
       "       601.54, 135.637, 656.036, 1160.351, 64.226, 1045.982, 515.253,\n",
       "       80.42, 67.263, 1423.034, 119.525, 494.552, 3436, 3406.653, 47.824,\n",
       "       16.36, 820.665, 508.715, 0.17, 20.063, 133.704, 586.794, 30.467,\n",
       "       540.399, 496.413, 186.101, 25.461, 55.431, 117.857, 1469.574],\n",
       "      dtype=object)"
      ]
     },
     "execution_count": 3,
     "metadata": {},
     "output_type": "execute_result"
    }
   ],
   "source": [
    "# Checking Features for \"Hidden Missing\" Values\n",
    "data.C1.unique()\n",
    "data.C2.unique()\n",
    "data.C3.unique()\n",
    "data.C4.unique()\n",
    "data.C5.unique()\n",
    "data.C6.unique()\n",
    "data.C7.unique()"
   ]
  },
  {
   "cell_type": "code",
   "execution_count": 9,
   "metadata": {},
   "outputs": [
    {
     "ename": "ValueError",
     "evalue": "Cannot convert non-finite values (NA or inf) to integer",
     "output_type": "error",
     "traceback": [
      "\u001b[0;31m---------------------------------------------------------------------------\u001b[0m",
      "\u001b[0;31mValueError\u001b[0m                                Traceback (most recent call last)",
      "\u001b[0;32m<ipython-input-9-98f1f10c9857>\u001b[0m in \u001b[0;36m<module>\u001b[0;34m()\u001b[0m\n\u001b[1;32m      8\u001b[0m \u001b[0mdf_data\u001b[0m\u001b[0;34m.\u001b[0m\u001b[0mC1\u001b[0m \u001b[0;34m=\u001b[0m \u001b[0mpd\u001b[0m\u001b[0;34m.\u001b[0m\u001b[0mto_numeric\u001b[0m\u001b[0;34m(\u001b[0m\u001b[0mdf_data\u001b[0m\u001b[0;34m.\u001b[0m\u001b[0mC1\u001b[0m\u001b[0;34m,\u001b[0m \u001b[0merrors\u001b[0m\u001b[0;34m=\u001b[0m\u001b[0;34m'coerce'\u001b[0m\u001b[0;34m)\u001b[0m\u001b[0;34m\u001b[0m\u001b[0m\n\u001b[1;32m      9\u001b[0m \u001b[0mdf_data\u001b[0m\u001b[0;34m.\u001b[0m\u001b[0mC1\u001b[0m\u001b[0;34m.\u001b[0m\u001b[0munique\u001b[0m\u001b[0;34m(\u001b[0m\u001b[0;34m)\u001b[0m\u001b[0;34m\u001b[0m\u001b[0m\n\u001b[0;32m---> 10\u001b[0;31m \u001b[0mdf_data\u001b[0m\u001b[0;34m.\u001b[0m\u001b[0mC1\u001b[0m\u001b[0;34m.\u001b[0m\u001b[0mastype\u001b[0m\u001b[0;34m(\u001b[0m\u001b[0mint\u001b[0m\u001b[0;34m)\u001b[0m\u001b[0;34m\u001b[0m\u001b[0m\n\u001b[0m",
      "\u001b[0;32m/opt/tljh/user/lib/python3.6/site-packages/pandas/util/_decorators.py\u001b[0m in \u001b[0;36mwrapper\u001b[0;34m(*args, **kwargs)\u001b[0m\n\u001b[1;32m    176\u001b[0m                 \u001b[0;32melse\u001b[0m\u001b[0;34m:\u001b[0m\u001b[0;34m\u001b[0m\u001b[0m\n\u001b[1;32m    177\u001b[0m                     \u001b[0mkwargs\u001b[0m\u001b[0;34m[\u001b[0m\u001b[0mnew_arg_name\u001b[0m\u001b[0;34m]\u001b[0m \u001b[0;34m=\u001b[0m \u001b[0mnew_arg_value\u001b[0m\u001b[0;34m\u001b[0m\u001b[0m\n\u001b[0;32m--> 178\u001b[0;31m             \u001b[0;32mreturn\u001b[0m \u001b[0mfunc\u001b[0m\u001b[0;34m(\u001b[0m\u001b[0;34m*\u001b[0m\u001b[0margs\u001b[0m\u001b[0;34m,\u001b[0m \u001b[0;34m**\u001b[0m\u001b[0mkwargs\u001b[0m\u001b[0;34m)\u001b[0m\u001b[0;34m\u001b[0m\u001b[0m\n\u001b[0m\u001b[1;32m    179\u001b[0m         \u001b[0;32mreturn\u001b[0m \u001b[0mwrapper\u001b[0m\u001b[0;34m\u001b[0m\u001b[0m\n\u001b[1;32m    180\u001b[0m     \u001b[0;32mreturn\u001b[0m \u001b[0m_deprecate_kwarg\u001b[0m\u001b[0;34m\u001b[0m\u001b[0m\n",
      "\u001b[0;32m/opt/tljh/user/lib/python3.6/site-packages/pandas/core/generic.py\u001b[0m in \u001b[0;36mastype\u001b[0;34m(self, dtype, copy, errors, **kwargs)\u001b[0m\n\u001b[1;32m   4999\u001b[0m             \u001b[0;31m# else, only a single dtype is given\u001b[0m\u001b[0;34m\u001b[0m\u001b[0;34m\u001b[0m\u001b[0m\n\u001b[1;32m   5000\u001b[0m             new_data = self._data.astype(dtype=dtype, copy=copy, errors=errors,\n\u001b[0;32m-> 5001\u001b[0;31m                                          **kwargs)\n\u001b[0m\u001b[1;32m   5002\u001b[0m             \u001b[0;32mreturn\u001b[0m \u001b[0mself\u001b[0m\u001b[0;34m.\u001b[0m\u001b[0m_constructor\u001b[0m\u001b[0;34m(\u001b[0m\u001b[0mnew_data\u001b[0m\u001b[0;34m)\u001b[0m\u001b[0;34m.\u001b[0m\u001b[0m__finalize__\u001b[0m\u001b[0;34m(\u001b[0m\u001b[0mself\u001b[0m\u001b[0;34m)\u001b[0m\u001b[0;34m\u001b[0m\u001b[0m\n\u001b[1;32m   5003\u001b[0m \u001b[0;34m\u001b[0m\u001b[0m\n",
      "\u001b[0;32m/opt/tljh/user/lib/python3.6/site-packages/pandas/core/internals.py\u001b[0m in \u001b[0;36mastype\u001b[0;34m(self, dtype, **kwargs)\u001b[0m\n\u001b[1;32m   3712\u001b[0m \u001b[0;34m\u001b[0m\u001b[0m\n\u001b[1;32m   3713\u001b[0m     \u001b[0;32mdef\u001b[0m \u001b[0mastype\u001b[0m\u001b[0;34m(\u001b[0m\u001b[0mself\u001b[0m\u001b[0;34m,\u001b[0m \u001b[0mdtype\u001b[0m\u001b[0;34m,\u001b[0m \u001b[0;34m**\u001b[0m\u001b[0mkwargs\u001b[0m\u001b[0;34m)\u001b[0m\u001b[0;34m:\u001b[0m\u001b[0;34m\u001b[0m\u001b[0m\n\u001b[0;32m-> 3714\u001b[0;31m         \u001b[0;32mreturn\u001b[0m \u001b[0mself\u001b[0m\u001b[0;34m.\u001b[0m\u001b[0mapply\u001b[0m\u001b[0;34m(\u001b[0m\u001b[0;34m'astype'\u001b[0m\u001b[0;34m,\u001b[0m \u001b[0mdtype\u001b[0m\u001b[0;34m=\u001b[0m\u001b[0mdtype\u001b[0m\u001b[0;34m,\u001b[0m \u001b[0;34m**\u001b[0m\u001b[0mkwargs\u001b[0m\u001b[0;34m)\u001b[0m\u001b[0;34m\u001b[0m\u001b[0m\n\u001b[0m\u001b[1;32m   3715\u001b[0m \u001b[0;34m\u001b[0m\u001b[0m\n\u001b[1;32m   3716\u001b[0m     \u001b[0;32mdef\u001b[0m \u001b[0mconvert\u001b[0m\u001b[0;34m(\u001b[0m\u001b[0mself\u001b[0m\u001b[0;34m,\u001b[0m \u001b[0;34m**\u001b[0m\u001b[0mkwargs\u001b[0m\u001b[0;34m)\u001b[0m\u001b[0;34m:\u001b[0m\u001b[0;34m\u001b[0m\u001b[0m\n",
      "\u001b[0;32m/opt/tljh/user/lib/python3.6/site-packages/pandas/core/internals.py\u001b[0m in \u001b[0;36mapply\u001b[0;34m(self, f, axes, filter, do_integrity_check, consolidate, **kwargs)\u001b[0m\n\u001b[1;32m   3579\u001b[0m \u001b[0;34m\u001b[0m\u001b[0m\n\u001b[1;32m   3580\u001b[0m             \u001b[0mkwargs\u001b[0m\u001b[0;34m[\u001b[0m\u001b[0;34m'mgr'\u001b[0m\u001b[0;34m]\u001b[0m \u001b[0;34m=\u001b[0m \u001b[0mself\u001b[0m\u001b[0;34m\u001b[0m\u001b[0m\n\u001b[0;32m-> 3581\u001b[0;31m             \u001b[0mapplied\u001b[0m \u001b[0;34m=\u001b[0m \u001b[0mgetattr\u001b[0m\u001b[0;34m(\u001b[0m\u001b[0mb\u001b[0m\u001b[0;34m,\u001b[0m \u001b[0mf\u001b[0m\u001b[0;34m)\u001b[0m\u001b[0;34m(\u001b[0m\u001b[0;34m**\u001b[0m\u001b[0mkwargs\u001b[0m\u001b[0;34m)\u001b[0m\u001b[0;34m\u001b[0m\u001b[0m\n\u001b[0m\u001b[1;32m   3582\u001b[0m             \u001b[0mresult_blocks\u001b[0m \u001b[0;34m=\u001b[0m \u001b[0m_extend_blocks\u001b[0m\u001b[0;34m(\u001b[0m\u001b[0mapplied\u001b[0m\u001b[0;34m,\u001b[0m \u001b[0mresult_blocks\u001b[0m\u001b[0;34m)\u001b[0m\u001b[0;34m\u001b[0m\u001b[0m\n\u001b[1;32m   3583\u001b[0m \u001b[0;34m\u001b[0m\u001b[0m\n",
      "\u001b[0;32m/opt/tljh/user/lib/python3.6/site-packages/pandas/core/internals.py\u001b[0m in \u001b[0;36mastype\u001b[0;34m(self, dtype, copy, errors, values, **kwargs)\u001b[0m\n\u001b[1;32m    573\u001b[0m     \u001b[0;32mdef\u001b[0m \u001b[0mastype\u001b[0m\u001b[0;34m(\u001b[0m\u001b[0mself\u001b[0m\u001b[0;34m,\u001b[0m \u001b[0mdtype\u001b[0m\u001b[0;34m,\u001b[0m \u001b[0mcopy\u001b[0m\u001b[0;34m=\u001b[0m\u001b[0;32mFalse\u001b[0m\u001b[0;34m,\u001b[0m \u001b[0merrors\u001b[0m\u001b[0;34m=\u001b[0m\u001b[0;34m'raise'\u001b[0m\u001b[0;34m,\u001b[0m \u001b[0mvalues\u001b[0m\u001b[0;34m=\u001b[0m\u001b[0;32mNone\u001b[0m\u001b[0;34m,\u001b[0m \u001b[0;34m**\u001b[0m\u001b[0mkwargs\u001b[0m\u001b[0;34m)\u001b[0m\u001b[0;34m:\u001b[0m\u001b[0;34m\u001b[0m\u001b[0m\n\u001b[1;32m    574\u001b[0m         return self._astype(dtype, copy=copy, errors=errors, values=values,\n\u001b[0;32m--> 575\u001b[0;31m                             **kwargs)\n\u001b[0m\u001b[1;32m    576\u001b[0m \u001b[0;34m\u001b[0m\u001b[0m\n\u001b[1;32m    577\u001b[0m     def _astype(self, dtype, copy=False, errors='raise', values=None,\n",
      "\u001b[0;32m/opt/tljh/user/lib/python3.6/site-packages/pandas/core/internals.py\u001b[0m in \u001b[0;36m_astype\u001b[0;34m(self, dtype, copy, errors, values, klass, mgr, **kwargs)\u001b[0m\n\u001b[1;32m    662\u001b[0m \u001b[0;34m\u001b[0m\u001b[0m\n\u001b[1;32m    663\u001b[0m                 \u001b[0;31m# _astype_nansafe works fine with 1-d only\u001b[0m\u001b[0;34m\u001b[0m\u001b[0;34m\u001b[0m\u001b[0m\n\u001b[0;32m--> 664\u001b[0;31m                 \u001b[0mvalues\u001b[0m \u001b[0;34m=\u001b[0m \u001b[0mastype_nansafe\u001b[0m\u001b[0;34m(\u001b[0m\u001b[0mvalues\u001b[0m\u001b[0;34m.\u001b[0m\u001b[0mravel\u001b[0m\u001b[0;34m(\u001b[0m\u001b[0;34m)\u001b[0m\u001b[0;34m,\u001b[0m \u001b[0mdtype\u001b[0m\u001b[0;34m,\u001b[0m \u001b[0mcopy\u001b[0m\u001b[0;34m=\u001b[0m\u001b[0;32mTrue\u001b[0m\u001b[0;34m)\u001b[0m\u001b[0;34m\u001b[0m\u001b[0m\n\u001b[0m\u001b[1;32m    665\u001b[0m                 \u001b[0mvalues\u001b[0m \u001b[0;34m=\u001b[0m \u001b[0mvalues\u001b[0m\u001b[0;34m.\u001b[0m\u001b[0mreshape\u001b[0m\u001b[0;34m(\u001b[0m\u001b[0mself\u001b[0m\u001b[0;34m.\u001b[0m\u001b[0mshape\u001b[0m\u001b[0;34m)\u001b[0m\u001b[0;34m\u001b[0m\u001b[0m\n\u001b[1;32m    666\u001b[0m \u001b[0;34m\u001b[0m\u001b[0m\n",
      "\u001b[0;32m/opt/tljh/user/lib/python3.6/site-packages/pandas/core/dtypes/cast.py\u001b[0m in \u001b[0;36mastype_nansafe\u001b[0;34m(arr, dtype, copy)\u001b[0m\n\u001b[1;32m    700\u001b[0m \u001b[0;34m\u001b[0m\u001b[0m\n\u001b[1;32m    701\u001b[0m         \u001b[0;32mif\u001b[0m \u001b[0;32mnot\u001b[0m \u001b[0mnp\u001b[0m\u001b[0;34m.\u001b[0m\u001b[0misfinite\u001b[0m\u001b[0;34m(\u001b[0m\u001b[0marr\u001b[0m\u001b[0;34m)\u001b[0m\u001b[0;34m.\u001b[0m\u001b[0mall\u001b[0m\u001b[0;34m(\u001b[0m\u001b[0;34m)\u001b[0m\u001b[0;34m:\u001b[0m\u001b[0;34m\u001b[0m\u001b[0m\n\u001b[0;32m--> 702\u001b[0;31m             raise ValueError('Cannot convert non-finite values (NA or inf) to '\n\u001b[0m\u001b[1;32m    703\u001b[0m                              'integer')\n\u001b[1;32m    704\u001b[0m \u001b[0;34m\u001b[0m\u001b[0m\n",
      "\u001b[0;31mValueError\u001b[0m: Cannot convert non-finite values (NA or inf) to integer"
     ]
    }
   ],
   "source": [
    "# Converting data types to correct data types\n",
    "data.I1.astype(str)\n",
    "data.I2.astype(str)\n",
    "data.I3.astype(str)\n",
    "\n",
    "# Printing Data Types for Secondary Analysis\n"
   ]
  },
  {
   "cell_type": "code",
   "execution_count": null,
   "metadata": {},
   "outputs": [],
   "source": []
  }
 ],
 "metadata": {
  "kernelspec": {
   "display_name": "Python 3",
   "language": "python",
   "name": "python3"
  },
  "language_info": {
   "codemirror_mode": {
    "name": "ipython",
    "version": 3
   },
   "file_extension": ".py",
   "mimetype": "text/x-python",
   "name": "python",
   "nbconvert_exporter": "python",
   "pygments_lexer": "ipython3",
   "version": "3.6.5"
  }
 },
 "nbformat": 4,
 "nbformat_minor": 2
}
